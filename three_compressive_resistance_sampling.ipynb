{
 "cells": [
  {
   "cell_type": "code",
   "execution_count": 22,
   "metadata": {},
   "outputs": [],
   "source": [
    "%run -i code_time_measurement.ipynb"
   ]
  },
  {
   "cell_type": "code",
   "execution_count": 23,
   "metadata": {},
   "outputs": [],
   "source": [
    "tic()"
   ]
  },
  {
   "cell_type": "code",
   "execution_count": 24,
   "metadata": {},
   "outputs": [],
   "source": [
    "import matplotlib.pyplot as plt\n",
    "import scipy\n",
    "import numpy as np\n",
    "import pandas as pd"
   ]
  },
  {
   "cell_type": "code",
   "execution_count": 25,
   "metadata": {},
   "outputs": [
    {
     "name": "stdout",
     "output_type": "stream",
     "text": [
      "normalised mean compressive unit:  11.799999999999999\n",
      "characteristic_compressive_masonry = 4.691  MPa\n",
      "k = 1.645\n",
      "mean_compressive_masonry = 6.228  MPa\n",
      "Stored 'compressive_resistances' (list)\n"
     ]
    }
   ],
   "source": [
    "#file no. two has to be run from here, and the called function needs the return for the variable(s) of interest\n",
    "%run -i two_masonry_compressive_resistance.ipynb \n",
    "#https://www.acgeospatial.co.uk/running-functions-juypter/\n",
    "#https://github.com/ipython/ipynb"
   ]
  },
  {
   "cell_type": "code",
   "execution_count": 26,
   "metadata": {},
   "outputs": [
    {
     "data": {
      "text/plain": [
       "[4.691352777703492, 6.2279668592488475]"
      ]
     },
     "execution_count": 26,
     "metadata": {},
     "output_type": "execute_result"
    }
   ],
   "source": [
    "compressive_resistances #to check that the called function returns the variable(s) of interest. Therefore, storing variables would not be needed anymore."
   ]
  },
  {
   "cell_type": "code",
   "execution_count": 27,
   "metadata": {},
   "outputs": [],
   "source": [
    "f_k = compressive_resistances[0] #it's not used by the code, it's shown oly for record\n",
    "f_mean = compressive_resistances[1]"
   ]
  },
  {
   "cell_type": "code",
   "execution_count": 28,
   "metadata": {},
   "outputs": [
    {
     "name": "stdout",
     "output_type": "stream",
     "text": [
      "4.691352777703492\n",
      "6.2279668592488475\n"
     ]
    }
   ],
   "source": [
    "print(f_k)\n",
    "print(f_mean)"
   ]
  },
  {
   "cell_type": "code",
   "execution_count": 29,
   "metadata": {},
   "outputs": [],
   "source": [
    "f_cov = 0.15"
   ]
  },
  {
   "cell_type": "code",
   "execution_count": 30,
   "metadata": {},
   "outputs": [],
   "source": [
    "f_std = f_mean * f_cov"
   ]
  },
  {
   "cell_type": "code",
   "execution_count": 31,
   "metadata": {},
   "outputs": [
    {
     "name": "stdout",
     "output_type": "stream",
     "text": [
      "0.9341950288873271\n"
     ]
    }
   ],
   "source": [
    "print(f_std)"
   ]
  },
  {
   "attachments": {},
   "cell_type": "markdown",
   "metadata": {},
   "source": [
    "Monte Carlo simulations"
   ]
  },
  {
   "cell_type": "code",
   "execution_count": 32,
   "metadata": {},
   "outputs": [],
   "source": [
    "simulations_number = 100_000 #assumed"
   ]
  },
  {
   "cell_type": "code",
   "execution_count": 33,
   "metadata": {},
   "outputs": [],
   "source": [
    "np.random.seed(2)"
   ]
  },
  {
   "cell_type": "code",
   "execution_count": 34,
   "metadata": {},
   "outputs": [
    {
     "data": {
      "text/plain": [
       "array([0.4359949 , 0.02592623, 0.54966248, 0.43532239, 0.4203678 ])"
      ]
     },
     "execution_count": 34,
     "metadata": {},
     "output_type": "execute_result"
    }
   ],
   "source": [
    "u = np.random.uniform(low=0, high=1, size=simulations_number) #probability realisations\n",
    "u[0:5]"
   ]
  },
  {
   "cell_type": "code",
   "execution_count": 35,
   "metadata": {},
   "outputs": [
    {
     "data": {
      "text/plain": [
       "array([-0.16113153, -1.9443566 ,  0.12480864, -0.16283953, -0.20095264])"
      ]
     },
     "execution_count": 35,
     "metadata": {},
     "output_type": "execute_result"
    }
   ],
   "source": [
    "x = scipy.stats.norm.ppf(u) #inverse of the normal distribution\n",
    "x[0:5]"
   ]
  },
  {
   "cell_type": "code",
   "execution_count": 36,
   "metadata": {},
   "outputs": [
    {
     "data": {
      "text/plain": [
       "array([6.07743858, 4.41155859, 6.34456247, 6.07584298, 6.0402379 ])"
      ]
     },
     "execution_count": 36,
     "metadata": {},
     "output_type": "execute_result"
    }
   ],
   "source": [
    "r = x*f_std + f_mean #vector of realisations\n",
    "r[0:5]"
   ]
  },
  {
   "cell_type": "code",
   "execution_count": 37,
   "metadata": {},
   "outputs": [],
   "source": [
    "compressive_resistance_distribution = scipy.stats.norm.pdf(np.sort(r), f_mean, f_std)\n",
    "#https://stackoverflow.com/questions/10138085/how-to-plot-normal-distribution\n",
    "#https://www.askpython.com/python/normal-distribution\n",
    "#https://vitalflux.com/normal-distribution-explained-python-examples/"
   ]
  },
  {
   "cell_type": "code",
   "execution_count": 38,
   "metadata": {},
   "outputs": [],
   "source": [
    "# x_label_pdf = input()\n",
    "# y_label_pdf = input()"
   ]
  },
  {
   "cell_type": "code",
   "execution_count": 39,
   "metadata": {},
   "outputs": [
    {
     "data": {
      "text/plain": [
       "Text(0, 0.5, 'Probability density')"
      ]
     },
     "execution_count": 39,
     "metadata": {},
     "output_type": "execute_result"
    },
    {
     "data": {
      "image/png": "[encoded data removed]",
      "text/plain": [
       "<Figure size 432x288 with 1 Axes>"
      ]
     },
     "metadata": {
      "needs_background": "light"
     },
     "output_type": "display_data"
    }
   ],
   "source": [
    "#https://realpython.com/python-histograms/\n",
    "n, bins, patches = plt.hist(x=r, bins='auto', color='black', alpha=0.7, rwidth=0.85, density=True)\n",
    "\n",
    "plt.plot(np.sort(r), compressive_resistance_distribution)\n",
    "plt.xlabel('Compressive resistance [kPa]')\n",
    "plt.ylabel('Probability density')\n",
    "# plt.xlabel(x_label_pdf)\n",
    "# plt.ylabel(y_label_pdf)"
   ]
  },
  {
   "cell_type": "code",
   "execution_count": 40,
   "metadata": {},
   "outputs": [],
   "source": [
    "realisations_vector = np.transpose(np.sort(r))"
   ]
  },
  {
   "cell_type": "code",
   "execution_count": 41,
   "metadata": {},
   "outputs": [],
   "source": [
    "realisations_series = pd.Series(realisations_vector)"
   ]
  },
  {
   "cell_type": "code",
   "execution_count": 42,
   "metadata": {},
   "outputs": [],
   "source": [
    "realisations_header = 'masonry_compressive_realisations'"
   ]
  },
  {
   "cell_type": "code",
   "execution_count": 43,
   "metadata": {},
   "outputs": [],
   "source": [
    "realisations_vector_file_name = 'masonry_compressive_realisations.csv'"
   ]
  },
  {
   "cell_type": "code",
   "execution_count": 44,
   "metadata": {},
   "outputs": [],
   "source": [
    "realisations_series.to_csv(realisations_vector_file_name, header = [realisations_header], index = False)"
   ]
  },
  {
   "attachments": {},
   "cell_type": "markdown",
   "metadata": {},
   "source": [
    "Convergence assessment (see Ballio and Guadagnini, 2004)"
   ]
  },
  {
   "cell_type": "code",
   "execution_count": 45,
   "metadata": {},
   "outputs": [],
   "source": [
    "realisations_list = []\n",
    "mean_list = []\n",
    "var_list = []"
   ]
  },
  {
   "cell_type": "code",
   "execution_count": 46,
   "metadata": {},
   "outputs": [],
   "source": [
    "# def random_choice(sample_vector, sample_size):\n",
    "    \n",
    "#     r_sample_size = np.random.choice(sample_vector, size=sample_size, replace=False, p=None)\n",
    "#     r_sample_size_mean = np.mean(r_sample_size)\n",
    "#     r_sample_size_std = np.std(r_sample_size)\n",
    "\n",
    "#     mean_list.append(r_sample_size_mean)\n",
    "#     std_list.append(r_sample_size_std)\n",
    "    \n",
    "#     return r_sample_size, mean_list, std_list"
   ]
  },
  {
   "cell_type": "code",
   "execution_count": 47,
   "metadata": {},
   "outputs": [],
   "source": [
    "# random_choice(r, simulations_number)"
   ]
  },
  {
   "cell_type": "code",
   "execution_count": 48,
   "metadata": {},
   "outputs": [],
   "source": [
    "def random_choice(sample_vector, sample_size):\n",
    "    \n",
    "    for i in range(sample_size):\n",
    "        # print(i+1)\n",
    "        r_sample_size = np.random.choice(sample_vector, size=i+1, replace=False, p=None)\n",
    "        r_sample_size_mean = np.mean(r_sample_size)\n",
    "        r_sample_size_var = np.var(r_sample_size)\n",
    "\n",
    "        realisations_list.append(r_sample_size)\n",
    "        mean_list.append(r_sample_size_mean)\n",
    "        var_list.append(r_sample_size_var)\n",
    "    \n",
    "    #return realisations_list, mean_list, var_list"
   ]
  },
  {
   "cell_type": "code",
   "execution_count": 49,
   "metadata": {},
   "outputs": [],
   "source": [
    "random_choice(r, simulations_number) #it takes 4m 32s on average"
   ]
  },
  {
   "cell_type": "code",
   "execution_count": 50,
   "metadata": {},
   "outputs": [],
   "source": [
    "n = np.arange(1,simulations_number+1, 1)\n",
    "\n",
    "#print(n)"
   ]
  },
  {
   "cell_type": "code",
   "execution_count": 51,
   "metadata": {},
   "outputs": [
    {
     "data": {
      "image/png": "[encoded data removed]",
      "text/plain": [
       "<Figure size 432x288 with 1 Axes>"
      ]
     },
     "metadata": {
      "needs_background": "light"
     },
     "output_type": "display_data"
    }
   ],
   "source": [
    "plt.plot(n, mean_list, color='black') #https://stackoverflow.com/questions/41709257/how-to-change-the-plot-line-color-from-blue-to-black#:~:text=The%20usual%20way%20to%20set,explicitely%20stating%20the%20color%20argument.\n",
    "#plt.xticks(range(1,iterations+1)) #https://stackoverflow.com/questions/52229875/how-to-force-matplotlib-to-show-values-on-x-axis-as-integers\n",
    "plt.xticks(n) #https://towardsdatascience.com/change-tick-frequency-matplotlib-axis-6af2c6bce1ea\n",
    "plt.xlabel(\"Number of simulations\")\n",
    "plt.ylabel(\"Compressive resistance sample mean\")\n",
    "\n",
    "plt.xscale('log') #https://stackoverflow.com/questions/773814/plot-logarithmic-axes"
   ]
  },
  {
   "cell_type": "code",
   "execution_count": 52,
   "metadata": {},
   "outputs": [
    {
     "data": {
      "image/png": "[encoded data removed]",
      "text/plain": [
       "<Figure size 432x288 with 1 Axes>"
      ]
     },
     "metadata": {
      "needs_background": "light"
     },
     "output_type": "display_data"
    }
   ],
   "source": [
    "plt.plot(n, var_list, color='black')\n",
    "plt.xticks(range(1,simulations_number+1))\n",
    "plt.xlabel(\"Number of simulations\")\n",
    "plt.ylabel(\"Compressive resistance sample variance\")\n",
    "\n",
    "plt.xscale('log')"
   ]
  },
  {
   "attachments": {},
   "cell_type": "markdown",
   "metadata": {},
   "source": [
    "Moments calculation"
   ]
  },
  {
   "cell_type": "code",
   "execution_count": 53,
   "metadata": {},
   "outputs": [],
   "source": [
    "second_moment_list = []"
   ]
  },
  {
   "cell_type": "code",
   "execution_count": 54,
   "metadata": {},
   "outputs": [],
   "source": [
    "# for i in range(simulations_number):\n",
    "#     print(i)\n",
    "#     print(realisations_list[i])"
   ]
  },
  {
   "cell_type": "code",
   "execution_count": 55,
   "metadata": {},
   "outputs": [],
   "source": [
    "def second_moment_calculation(realisations):\n",
    "    for i in range(simulations_number):\n",
    "        sample_second_moment=scipy.stats.moment(realisations[i], moment=2)\n",
    "\n",
    "        second_moment_list.append(sample_second_moment)\n",
    "\n",
    "        #print(second_moment_list)    #return second_moment_list"
   ]
  },
  {
   "cell_type": "code",
   "execution_count": 56,
   "metadata": {},
   "outputs": [],
   "source": [
    "second_moment_calculation(realisations_list)"
   ]
  },
  {
   "cell_type": "code",
   "execution_count": 57,
   "metadata": {},
   "outputs": [],
   "source": [
    "sample_mean_cov_list = []\n",
    "r_array = np.array(r)\n",
    "sample_mean = np.mean(r_array)"
   ]
  },
  {
   "cell_type": "code",
   "execution_count": 58,
   "metadata": {},
   "outputs": [],
   "source": [
    "def sample_mean_cov_calculation(second_moments):\n",
    "\n",
    "    for i in range(simulations_number):\n",
    "        sample_mean_cov = second_moments[i]/sample_mean\n",
    "        \n",
    "        sample_mean_cov_list.append(sample_mean_cov)\n",
    "\n",
    "    #return sample_mean_cov_list"
   ]
  },
  {
   "cell_type": "code",
   "execution_count": 59,
   "metadata": {},
   "outputs": [],
   "source": [
    "sample_mean_cov_calculation(second_moment_list)"
   ]
  },
  {
   "cell_type": "code",
   "execution_count": 60,
   "metadata": {},
   "outputs": [
    {
     "data": {
      "image/png": "[encoded data removed]",
      "text/plain": [
       "<Figure size 432x288 with 1 Axes>"
      ]
     },
     "metadata": {
      "needs_background": "light"
     },
     "output_type": "display_data"
    }
   ],
   "source": [
    "plt.plot(n, sample_mean_cov_list, color='black')\n",
    "plt.xticks(range(1,simulations_number+1))\n",
    "plt.xlabel(\"Number of simulations\")\n",
    "plt.ylabel(\"Coefficient of variation of sample mean\")\n",
    "\n",
    "plt.xscale('log')"
   ]
  },
  {
   "cell_type": "code",
   "execution_count": 61,
   "metadata": {},
   "outputs": [],
   "source": [
    "fourth_moment_list = []"
   ]
  },
  {
   "cell_type": "code",
   "execution_count": 62,
   "metadata": {},
   "outputs": [],
   "source": [
    "def fourth_moment_calculation(realisations):\n",
    "    for i in range(simulations_number):\n",
    "        sample_fourth_moment=scipy.stats.moment(realisations[i], moment=4)\n",
    "\n",
    "        fourth_moment_list.append(sample_fourth_moment)\n",
    "\n",
    "        #print(second_moment_list)\n",
    "    #return fourth_moment_list"
   ]
  },
  {
   "cell_type": "code",
   "execution_count": 63,
   "metadata": {},
   "outputs": [],
   "source": [
    "fourth_moment_calculation(realisations_list)"
   ]
  },
  {
   "cell_type": "code",
   "execution_count": 64,
   "metadata": {},
   "outputs": [],
   "source": [
    "sample_variance_cov_list = []\n",
    "sample_variance = np.var(r_array)"
   ]
  },
  {
   "cell_type": "code",
   "execution_count": 65,
   "metadata": {},
   "outputs": [],
   "source": [
    "def sample_variance_cov_calculation(fourth_moments):\n",
    "    for i in range(simulations_number):\n",
    "        sample_variance_cov = fourth_moments[i]/sample_variance\n",
    "\n",
    "        sample_variance_cov_list.append(sample_variance_cov)\n",
    "\n",
    "    #return sample_mean_cov_list"
   ]
  },
  {
   "cell_type": "code",
   "execution_count": 66,
   "metadata": {},
   "outputs": [],
   "source": [
    "sample_variance_cov_calculation(fourth_moment_list)"
   ]
  },
  {
   "cell_type": "code",
   "execution_count": 67,
   "metadata": {},
   "outputs": [
    {
     "data": {
      "image/png": "[encoded data removed]",
      "text/plain": [
       "<Figure size 432x288 with 1 Axes>"
      ]
     },
     "metadata": {
      "needs_background": "light"
     },
     "output_type": "display_data"
    }
   ],
   "source": [
    "plt.plot(n, sample_variance_cov_list, color='black')\n",
    "plt.xticks(range(1,simulations_number+1))\n",
    "plt.xlabel(\"Number of simulations\")\n",
    "plt.ylabel(\"Coefficient of variation of sample variance\")\n",
    "\n",
    "plt.xscale('log')"
   ]
  },
  {
   "cell_type": "code",
   "execution_count": 68,
   "metadata": {},
   "outputs": [],
   "source": [
    "compressive_resistance_realisations = r\n",
    "convergence_simulation_number = 100_000 #it can be deducted from the horizontal asyntote on the right"
   ]
  },
  {
   "cell_type": "code",
   "execution_count": 69,
   "metadata": {},
   "outputs": [
    {
     "name": "stdout",
     "output_type": "stream",
     "text": [
      "Stored 'compressive_resistance_realisations' (ndarray)\n",
      "Stored 'convergence_simulation_number' (int)\n"
     ]
    }
   ],
   "source": [
    "%store compressive_resistance_realisations\n",
    "%store convergence_simulation_number"
   ]
  },
  {
   "cell_type": "code",
   "execution_count": 70,
   "metadata": {},
   "outputs": [
    {
     "name": "stdout",
     "output_type": "stream",
     "text": [
      "Elapsed time: 840.440055 seconds.\n",
      "\n",
      "Elapsed time: 14.007334 minutes.\n",
      "\n",
      "Elapsed time: 0.233456 hours.\n",
      "\n"
     ]
    }
   ],
   "source": [
    "toc()"
   ]
  }
 ],
 "metadata": {
  "kernelspec": {
   "display_name": "base",
   "language": "python",
   "name": "python3"
  },
  "language_info": {
   "codemirror_mode": {
    "name": "ipython",
    "version": 3
   },
   "file_extension": ".py",
   "mimetype": "text/x-python",
   "name": "python",
   "nbconvert_exporter": "python",
   "pygments_lexer": "ipython3",
   "version": "3.9.7"
  },
  "orig_nbformat": 4,
  "vscode": {
   "interpreter": {
    "hash": "ad2bdc8ecc057115af97d19610ffacc2b4e99fae6737bb82f5d7fb13d2f2c186"
   }
  }
 },
 "nbformat": 4,
 "nbformat_minor": 2
}
