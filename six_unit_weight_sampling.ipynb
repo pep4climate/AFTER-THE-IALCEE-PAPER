{
 "cells": [
  {
   "cell_type": "code",
   "execution_count": null,
   "metadata": {},
   "outputs": [],
   "source": [
    "import matplotlib.pyplot as plt\n",
    "import scipy\n",
    "import numpy as np"
   ]
  },
  {
   "cell_type": "code",
   "execution_count": null,
   "metadata": {},
   "outputs": [],
   "source": [
    "f_mean = 22"
   ]
  },
  {
   "cell_type": "code",
   "execution_count": null,
   "metadata": {},
   "outputs": [],
   "source": [
    "print(f_mean)"
   ]
  },
  {
   "cell_type": "code",
   "execution_count": null,
   "metadata": {},
   "outputs": [],
   "source": [
    "f_cov = 0.10"
   ]
  },
  {
   "cell_type": "code",
   "execution_count": null,
   "metadata": {},
   "outputs": [],
   "source": [
    "f_std = f_mean * f_cov"
   ]
  },
  {
   "cell_type": "code",
   "execution_count": null,
   "metadata": {},
   "outputs": [],
   "source": [
    "print(f_std)"
   ]
  },
  {
   "attachments": {},
   "cell_type": "markdown",
   "metadata": {},
   "source": [
    "Monte Carlo simulations"
   ]
  },
  {
   "cell_type": "code",
   "execution_count": null,
   "metadata": {},
   "outputs": [],
   "source": [
    "simulations_number = 100_000 #assumed"
   ]
  },
  {
   "cell_type": "code",
   "execution_count": null,
   "metadata": {},
   "outputs": [],
   "source": [
    "np.random.seed(2)"
   ]
  },
  {
   "cell_type": "code",
   "execution_count": null,
   "metadata": {},
   "outputs": [],
   "source": [
    "u = np.random.uniform(low=0, high=1, size=simulations_number) #probability realisations\n",
    "u[0:5]"
   ]
  },
  {
   "cell_type": "code",
   "execution_count": null,
   "metadata": {},
   "outputs": [],
   "source": [
    "x = scipy.stats.norm.ppf(u) #inverse of the normal distribution\n",
    "x[0:5]"
   ]
  },
  {
   "cell_type": "code",
   "execution_count": null,
   "metadata": {},
   "outputs": [],
   "source": [
    "r = x*f_std + f_mean #vector of realisations\n",
    "r[0:5]"
   ]
  },
  {
   "cell_type": "code",
   "execution_count": null,
   "metadata": {},
   "outputs": [],
   "source": [
    "compressive_resistance_distribution = scipy.stats.norm.pdf(np.sort(r), f_mean, f_std)\n",
    "#https://stackoverflow.com/questions/10138085/how-to-plot-normal-distribution\n",
    "#https://www.askpython.com/python/normal-distribution\n",
    "#https://vitalflux.com/normal-distribution-explained-python-examples/"
   ]
  },
  {
   "cell_type": "code",
   "execution_count": null,
   "metadata": {},
   "outputs": [],
   "source": [
    "# x_label = input()\n",
    "# y_label = input()"
   ]
  },
  {
   "cell_type": "code",
   "execution_count": null,
   "metadata": {},
   "outputs": [],
   "source": [
    "plt.plot(np.sort(r), compressive_resistance_distribution)\n",
    "plt.xlabel(\"Masonry unit weight\")\n",
    "#plt.xlabel(x_label)\n",
    "plt.ylabel(\"Probability density\")\n",
    "#plt.ylabel(y_label)"
   ]
  },
  {
   "attachments": {},
   "cell_type": "markdown",
   "metadata": {},
   "source": [
    "Convergence assessment (see Ballio and Guadagnini, 2004)"
   ]
  },
  {
   "cell_type": "code",
   "execution_count": null,
   "metadata": {},
   "outputs": [],
   "source": [
    "realisations_list = []\n",
    "mean_list = []\n",
    "var_list = []"
   ]
  },
  {
   "cell_type": "code",
   "execution_count": null,
   "metadata": {},
   "outputs": [],
   "source": [
    "# def random_choice(sample_vector, sample_size):\n",
    "    \n",
    "#     r_sample_size = np.random.choice(sample_vector, size=sample_size, replace=False, p=None)\n",
    "#     r_sample_size_mean = np.mean(r_sample_size)\n",
    "#     r_sample_size_std = np.std(r_sample_size)\n",
    "\n",
    "#     mean_list.append(r_sample_size_mean)\n",
    "#     std_list.append(r_sample_size_std)\n",
    "    \n",
    "#     return r_sample_size, mean_list, std_list"
   ]
  },
  {
   "cell_type": "code",
   "execution_count": null,
   "metadata": {},
   "outputs": [],
   "source": [
    "# random_choice(r, simulations_number)"
   ]
  },
  {
   "cell_type": "code",
   "execution_count": null,
   "metadata": {},
   "outputs": [],
   "source": [
    "def random_choice(sample_vector, sample_size):\n",
    "    \n",
    "    for i in range(sample_size):\n",
    "        # print(i+1)\n",
    "        r_sample_size = np.random.choice(sample_vector, size=i+1, replace=False, p=None)\n",
    "        r_sample_size_mean = np.mean(r_sample_size)\n",
    "        r_sample_size_var = np.var(r_sample_size)\n",
    "\n",
    "        realisations_list.append(r_sample_size)\n",
    "        mean_list.append(r_sample_size_mean)\n",
    "        var_list.append(r_sample_size_var)\n",
    "    \n",
    "    #return realisations_list, mean_list, var_list"
   ]
  },
  {
   "cell_type": "code",
   "execution_count": null,
   "metadata": {},
   "outputs": [],
   "source": [
    "random_choice(r, simulations_number) #it takes 4m 32s on average"
   ]
  },
  {
   "cell_type": "code",
   "execution_count": null,
   "metadata": {},
   "outputs": [],
   "source": [
    "n = np.arange(1,simulations_number+1, 1)\n",
    "\n",
    "#print(n)"
   ]
  },
  {
   "cell_type": "code",
   "execution_count": null,
   "metadata": {},
   "outputs": [],
   "source": [
    "plt.plot(n, mean_list, color='black') #https://stackoverflow.com/questions/41709257/how-to-change-the-plot-line-color-from-blue-to-black#:~:text=The%20usual%20way%20to%20set,explicitely%20stating%20the%20color%20argument.\n",
    "#plt.xticks(range(1,iterations+1)) #https://stackoverflow.com/questions/52229875/how-to-force-matplotlib-to-show-values-on-x-axis-as-integers\n",
    "plt.xticks(n) #https://towardsdatascience.com/change-tick-frequency-matplotlib-axis-6af2c6bce1ea\n",
    "plt.xlabel(\"Number of simulations\")\n",
    "plt.ylabel(\"Unit weight sample mean\")\n",
    "\n",
    "plt.xscale('log') #https://stackoverflow.com/questions/773814/plot-logarithmic-axes"
   ]
  },
  {
   "cell_type": "code",
   "execution_count": null,
   "metadata": {},
   "outputs": [],
   "source": [
    "plt.plot(n, var_list, color='black')\n",
    "plt.xticks(range(1,simulations_number+1))\n",
    "plt.xlabel(\"Number of simulations\")\n",
    "plt.ylabel(\"Unit weight sample variance\")\n",
    "\n",
    "plt.xscale('log')"
   ]
  },
  {
   "attachments": {},
   "cell_type": "markdown",
   "metadata": {},
   "source": [
    "Moments calculation"
   ]
  },
  {
   "cell_type": "code",
   "execution_count": null,
   "metadata": {},
   "outputs": [],
   "source": [
    "second_moment_list = []"
   ]
  },
  {
   "cell_type": "code",
   "execution_count": null,
   "metadata": {},
   "outputs": [],
   "source": [
    "# for i in range(simulations_number):\n",
    "#     print(i)\n",
    "#     print(realisations_list[i])"
   ]
  },
  {
   "cell_type": "code",
   "execution_count": null,
   "metadata": {},
   "outputs": [],
   "source": [
    "def second_moment_calculation(realisations):\n",
    "    for i in range(simulations_number):\n",
    "        sample_second_moment=scipy.stats.moment(realisations[i], moment=2)\n",
    "\n",
    "        second_moment_list.append(sample_second_moment)\n",
    "\n",
    "        #print(second_moment_list)    #return second_moment_list"
   ]
  },
  {
   "cell_type": "code",
   "execution_count": null,
   "metadata": {},
   "outputs": [],
   "source": [
    "second_moment_calculation(realisations_list)"
   ]
  },
  {
   "cell_type": "code",
   "execution_count": null,
   "metadata": {},
   "outputs": [],
   "source": [
    "sample_mean_cov_list = []\n",
    "r_array = np.array(r)\n",
    "sample_mean = np.mean(r_array)"
   ]
  },
  {
   "cell_type": "code",
   "execution_count": null,
   "metadata": {},
   "outputs": [],
   "source": [
    "def sample_mean_cov_calculation(second_moments):\n",
    "\n",
    "    for i in range(simulations_number):\n",
    "        sample_mean_cov = second_moments[i]/sample_mean\n",
    "        \n",
    "        sample_mean_cov_list.append(sample_mean_cov)\n",
    "\n",
    "    #return sample_mean_cov_list"
   ]
  },
  {
   "cell_type": "code",
   "execution_count": null,
   "metadata": {},
   "outputs": [],
   "source": [
    "sample_mean_cov_calculation(second_moment_list)"
   ]
  },
  {
   "cell_type": "code",
   "execution_count": null,
   "metadata": {},
   "outputs": [],
   "source": [
    "plt.plot(n, sample_mean_cov_list, color='black')\n",
    "plt.xticks(range(1,simulations_number+1))\n",
    "plt.xlabel(\"Number of simulations\")\n",
    "plt.ylabel(\"Coefficient of variation of sample mean\")\n",
    "\n",
    "plt.xscale('log')"
   ]
  },
  {
   "cell_type": "code",
   "execution_count": null,
   "metadata": {},
   "outputs": [],
   "source": [
    "fourth_moment_list = []"
   ]
  },
  {
   "cell_type": "code",
   "execution_count": null,
   "metadata": {},
   "outputs": [],
   "source": [
    "def fourth_moment_calculation(realisations):\n",
    "    for i in range(simulations_number):\n",
    "        sample_fourth_moment=scipy.stats.moment(realisations[i], moment=4)\n",
    "\n",
    "        fourth_moment_list.append(sample_fourth_moment)\n",
    "\n",
    "        #print(second_moment_list)\n",
    "    #return fourth_moment_list"
   ]
  },
  {
   "cell_type": "code",
   "execution_count": null,
   "metadata": {},
   "outputs": [],
   "source": [
    "fourth_moment_calculation(realisations_list)"
   ]
  },
  {
   "cell_type": "code",
   "execution_count": null,
   "metadata": {},
   "outputs": [],
   "source": [
    "sample_variance_cov_list = []\n",
    "sample_variance = np.var(r_array)"
   ]
  },
  {
   "cell_type": "code",
   "execution_count": null,
   "metadata": {},
   "outputs": [],
   "source": [
    "def sample_variance_cov_calculation(fourth_moments):\n",
    "    for i in range(simulations_number):\n",
    "        sample_variance_cov = fourth_moments[i]/sample_variance\n",
    "\n",
    "        sample_variance_cov_list.append(sample_variance_cov)\n",
    "\n",
    "    #return sample_mean_cov_list"
   ]
  },
  {
   "cell_type": "code",
   "execution_count": null,
   "metadata": {},
   "outputs": [],
   "source": [
    "sample_variance_cov_calculation(fourth_moment_list)"
   ]
  },
  {
   "cell_type": "code",
   "execution_count": null,
   "metadata": {},
   "outputs": [],
   "source": [
    "plt.plot(n, sample_variance_cov_list, color='black')\n",
    "plt.xticks(range(1,simulations_number+1))\n",
    "plt.xlabel(\"Number of simulations\")\n",
    "plt.ylabel(\"Coefficient of variation of sample variance\")\n",
    "\n",
    "plt.xscale('log')"
   ]
  },
  {
   "cell_type": "code",
   "execution_count": null,
   "metadata": {},
   "outputs": [],
   "source": [
    "masonry_unit_weight_realisations = r\n",
    "convergence_simulation_number = 100_000"
   ]
  },
  {
   "cell_type": "code",
   "execution_count": null,
   "metadata": {},
   "outputs": [],
   "source": [
    "%store masonry_unit_weight_realisations\n",
    "%store convergence_simulation_number"
   ]
  },
  {
   "cell_type": "code",
   "execution_count": null,
   "metadata": {},
   "outputs": [],
   "source": []
  }
 ],
 "metadata": {
  "kernelspec": {
   "display_name": "base",
   "language": "python",
   "name": "python3"
  },
  "language_info": {
   "codemirror_mode": {
    "name": "ipython",
    "version": 3
   },
   "file_extension": ".py",
   "mimetype": "text/x-python",
   "name": "python",
   "nbconvert_exporter": "python",
   "pygments_lexer": "ipython3",
   "version": "3.9.13"
  },
  "orig_nbformat": 4,
  "vscode": {
   "interpreter": {
    "hash": "ad2bdc8ecc057115af97d19610ffacc2b4e99fae6737bb82f5d7fb13d2f2c186"
   }
  }
 },
 "nbformat": 4,
 "nbformat_minor": 2
}
