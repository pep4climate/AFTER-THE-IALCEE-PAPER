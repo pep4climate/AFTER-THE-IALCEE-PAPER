{
 "cells": [
  {
   "cell_type": "code",
   "execution_count": 53,
   "metadata": {},
   "outputs": [],
   "source": [
    "#In terms of lognormal parameters \n",
    "sigma = 0.0634\n",
    "median = 8.230"
   ]
  },
  {
   "cell_type": "code",
   "execution_count": 54,
   "metadata": {},
   "outputs": [],
   "source": [
    "#In terms of normal parameters\n",
    "#sigma = 0.0634\n",
    "#mu = math.log(median) #https://towardsdatascience.com/log-normal-distribution-a-simple-explanation-7605864fb67c"
   ]
  },
  {
   "cell_type": "code",
   "execution_count": 55,
   "metadata": {},
   "outputs": [],
   "source": [
    "#https://stackoverflow.com/questions/8870982/how-do-i-get-a-lognormal-distribution-in-python-with-mu-and-sigma/36714419#36714419\n",
    "\n",
    "from scipy import stats\n",
    "\n",
    "def lognorm_cdf(x, median, sigma):\n",
    "    shape  = sigma\n",
    "    loc    = 0\n",
    "    scale  = (median)\n",
    "    return stats.lognorm.cdf(x, shape, loc, scale)\n",
    "\n",
    "x = 7.2 #investigated scour depth\n",
    "p = lognorm_cdf(x, median, sigma)"
   ]
  },
  {
   "cell_type": "code",
   "execution_count": 56,
   "metadata": {},
   "outputs": [
    {
     "data": {
      "text/plain": [
       "0.01747611098301438"
      ]
     },
     "execution_count": 56,
     "metadata": {},
     "output_type": "execute_result"
    }
   ],
   "source": [
    "p #p = 0.01747611098301438 while Excel gives 0.017517957, which are close numbers."
   ]
  }
 ],
 "metadata": {
  "kernelspec": {
   "display_name": "base",
   "language": "python",
   "name": "python3"
  },
  "language_info": {
   "codemirror_mode": {
    "name": "ipython",
    "version": 3
   },
   "file_extension": ".py",
   "mimetype": "text/x-python",
   "name": "python",
   "nbconvert_exporter": "python",
   "pygments_lexer": "ipython3",
   "version": "3.9.13 (main, Aug 25 2022, 23:51:50) [MSC v.1916 64 bit (AMD64)]"
  },
  "orig_nbformat": 4,
  "vscode": {
   "interpreter": {
    "hash": "ad2bdc8ecc057115af97d19610ffacc2b4e99fae6737bb82f5d7fb13d2f2c186"
   }
  }
 },
 "nbformat": 4,
 "nbformat_minor": 2
}
