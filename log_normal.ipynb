{
 "cells": [
  {
   "cell_type": "code",
   "execution_count": 53,
   "metadata": {},
   "outputs": [],
   "source": [
    "#In terms of lognormal parameters \n",
    "sigma = 0.0634\n",
    "median = 8.230"
   ]
  },
  {
   "cell_type": "code",
   "execution_count": 54,
   "metadata": {},
   "outputs": [],
   "source": [
    "#In terms of normal parameters\n",
    "#sigma = 0.0634\n",
    "#mu = math.log(median) #https://towardsdatascience.com/log-normal-distribution-a-simple-explanation-7605864fb67c"
   ]
  },
  {
   "cell_type": "code",
   "execution_count": 55,
   "metadata": {},
   "outputs": [],
   "source": [
    "#https://stackoverflow.com/questions/8870982/how-do-i-get-a-lognormal-distribution-in-python-with-mu-and-sigma/36714419#36714419\n",
    "\n",
    "from scipy import stats\n",
    "\n",
    "def lognorm_cdf(x, median, sigma):\n",
    "    shape  = sigma\n",
    "    loc    = 0\n",
    "    scale  = (median)\n",
    "    return stats.lognorm.cdf(x, shape, loc, scale)\n",
    "\n",
    "x = 7.2 #investigated scour depth\n",
    "p = lognorm_cdf(x, median, sigma)"
   ]
  },
  {
   "cell_type": "code",
   "execution_count": 56,
   "metadata": {},
   "outputs": [
    {
     "data": {
      "text/plain": [
       "0.01747611098301438"
      ]
     },
     "execution_count": 56,
     "metadata": {},
     "output_type": "execute_result"
    }
   ],
   "source": [
    "p #p = 0.01747611098301438 while Excel gives 0.017517957, which are close numbers."
   ]
  }
 ],
 "metadata": {
  "kernelspec": {
   "display_name": "Python 3.9.7 ('base')",
   "language": "python",
   "name": "python3"
  },
  "language_info": {
   "codemirror_mode": {
    "name": "ipython",
    "version": 3
   },
   "file_extension": ".py",
   "mimetype": "text/x-python",
   "name": "python",
   "nbconvert_exporter": "python",
   "pygments_lexer": "ipython3",
   "version": "3.9.7"
  },
  "orig_nbformat": 4,
  "vscode": {
   "interpreter": {
    "hash": "40d3a090f54c6569ab1632332b64b2c03c39dcf918b08424e98f38b5ae0af88f"
   }
  }
 },
 "nbformat": 4,
 "nbformat_minor": 2
}
