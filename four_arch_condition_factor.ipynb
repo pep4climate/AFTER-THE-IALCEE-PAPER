{
 "cells": [
  {
   "cell_type": "code",
   "execution_count": 13,
   "metadata": {},
   "outputs": [],
   "source": [
    "import numpy as np\n",
    "import matplotlib.pyplot as plt\n",
    "import pandas as pd"
   ]
  },
  {
   "cell_type": "code",
   "execution_count": 3,
   "metadata": {},
   "outputs": [],
   "source": [
    "scour_depth_sample_number = 10"
   ]
  },
  {
   "cell_type": "code",
   "execution_count": 4,
   "metadata": {},
   "outputs": [],
   "source": [
    "condition_factor = []\n",
    "pier_local_scour_depth = []"
   ]
  },
  {
   "cell_type": "code",
   "execution_count": 5,
   "metadata": {},
   "outputs": [],
   "source": [
    "def condition_factor_calculation():\n",
    "    \n",
    "    import numpy as np\n",
    "    import matplotlib.pyplot as plt\n",
    "\n",
    "    F_w = 1\n",
    "    F_d = 0.8\n",
    "    F_mo = 0.9\n",
    "\n",
    "    F_j = F_w * F_d * F_mo\n",
    "\n",
    "    d_s_loc_min = 1.20\n",
    "    d_s_loc_max = 2.60\n",
    "\n",
    "    F_CM_max = 0.90\n",
    "    F_CM_min = 0.30\n",
    "\n",
    "    x = [d_s_loc_min, d_s_loc_max]\n",
    "    y = [F_CM_max, F_CM_min]\n",
    "\n",
    "    slope_intercept = np.polyfit(x, y, 1) #https://www.w3schools.com/datascience/ds_linear_slope.asp\n",
    "\n",
    "    m = slope_intercept[0]\n",
    "    q = slope_intercept[1]\n",
    "\n",
    "    d_s_loc_no_damage = 0\n",
    "    F_CM_no_damage = 1\n",
    "\n",
    "    d_s_loc_vector = np.linspace(d_s_loc_no_damage, d_s_loc_max, scour_depth_sample_number)\n",
    "\n",
    "    #https://www.pythonpool.com/numpy-piecewise/\n",
    "    F_CM_function = np.piecewise(d_s_loc_vector, [d_s_loc_vector <= 1.00, d_s_loc_vector > 1.00], [lambda d_s_loc_vector: 1.00, lambda d_s_loc_vector: q + m*d_s_loc_vector])\n",
    "\n",
    "    plt.scatter(d_s_loc_vector, F_CM_function, color = 'black')\n",
    "    plt.plot(d_s_loc_vector, F_CM_function, color = 'black')\n",
    "\n",
    "    plt.xlabel('Pier local scour depth')\n",
    "    plt.ylabel('Investigated cracks factor')\n",
    "\n",
    "    F_C = F_CM_function * F_j\n",
    "\n",
    "    plt.plot(d_s_loc_vector, F_C, color = 'black')\n",
    "    plt.xlabel('Pier local scour depth')\n",
    "    plt.ylabel('Condition factor')\n",
    "\n",
    "    condition_factor.append(list(F_C))\n",
    "    pier_local_scour_depth.append(list(d_s_loc_vector))\n",
    "\n",
    "    print(len(condition_factor))\n",
    "\n",
    "    print(condition_factor)\n",
    "    print(pier_local_scour_depth)\n",
    "\n",
    "    %store condition_factor\n",
    "    %store pier_local_scour_depth\n",
    "\n",
    "    # return F_C,d_s_loc_vector"
   ]
  },
  {
   "cell_type": "code",
   "execution_count": 6,
   "metadata": {},
   "outputs": [
    {
     "name": "stdout",
     "output_type": "stream",
     "text": [
      "1\n",
      "[[0.7200000000000001, 0.7200000000000001, 0.7200000000000001, 0.7200000000000001, 0.6617142857142858, 0.5725714285714285, 0.4834285714285714, 0.3942857142857141, 0.3051428571428569, 0.21599999999999975]]\n",
      "[[0.0, 0.2888888888888889, 0.5777777777777778, 0.8666666666666667, 1.1555555555555557, 1.4444444444444446, 1.7333333333333334, 2.0222222222222226, 2.3111111111111113, 2.6]]\n",
      "Stored 'condition_factor' (list)\n",
      "Stored 'pier_local_scour_depth' (list)\n"
     ]
    },
    {
     "data": {
      "image/png": "[encoded data removed]",
      "text/plain": [
       "<Figure size 432x288 with 1 Axes>"
      ]
     },
     "metadata": {
      "needs_background": "light"
     },
     "output_type": "display_data"
    }
   ],
   "source": [
    "condition_factor_calculation()"
   ]
  },
  {
   "cell_type": "code",
   "execution_count": 7,
   "metadata": {},
   "outputs": [
    {
     "data": {
      "text/plain": [
       "[[0.7200000000000001,\n",
       "  0.7200000000000001,\n",
       "  0.7200000000000001,\n",
       "  0.7200000000000001,\n",
       "  0.6617142857142858,\n",
       "  0.5725714285714285,\n",
       "  0.4834285714285714,\n",
       "  0.3942857142857141,\n",
       "  0.3051428571428569,\n",
       "  0.21599999999999975]]"
      ]
     },
     "execution_count": 7,
     "metadata": {},
     "output_type": "execute_result"
    }
   ],
   "source": [
    "condition_factor"
   ]
  },
  {
   "cell_type": "code",
   "execution_count": 8,
   "metadata": {},
   "outputs": [
    {
     "data": {
      "text/plain": [
       "10"
      ]
     },
     "execution_count": 8,
     "metadata": {},
     "output_type": "execute_result"
    }
   ],
   "source": [
    "len(condition_factor[0])"
   ]
  },
  {
   "cell_type": "code",
   "execution_count": 9,
   "metadata": {},
   "outputs": [
    {
     "data": {
      "text/plain": [
       "[[0.0,\n",
       "  0.2888888888888889,\n",
       "  0.5777777777777778,\n",
       "  0.8666666666666667,\n",
       "  1.1555555555555557,\n",
       "  1.4444444444444446,\n",
       "  1.7333333333333334,\n",
       "  2.0222222222222226,\n",
       "  2.3111111111111113,\n",
       "  2.6]]"
      ]
     },
     "execution_count": 9,
     "metadata": {},
     "output_type": "execute_result"
    }
   ],
   "source": [
    "pier_local_scour_depth"
   ]
  },
  {
   "cell_type": "code",
   "execution_count": 10,
   "metadata": {},
   "outputs": [
    {
     "data": {
      "text/plain": [
       "10"
      ]
     },
     "execution_count": 10,
     "metadata": {},
     "output_type": "execute_result"
    }
   ],
   "source": [
    "len(pier_local_scour_depth[0])"
   ]
  },
  {
   "cell_type": "code",
   "execution_count": 11,
   "metadata": {},
   "outputs": [
    {
     "name": "stdout",
     "output_type": "stream",
     "text": [
      "Stored variables and their in-db values:\n",
      "condition_factor                   -> [[0.7200000000000001, 0.7200000000000001, 0.720000\n",
      "pier_local_scour_depth             -> [[0.0, 0.2888888888888889, 0.5777777777777778, 0.8\n"
     ]
    }
   ],
   "source": [
    "%store"
   ]
  },
  {
   "cell_type": "code",
   "execution_count": 12,
   "metadata": {},
   "outputs": [
    {
     "data": {
      "text/plain": [
       "list"
      ]
     },
     "execution_count": 12,
     "metadata": {},
     "output_type": "execute_result"
    }
   ],
   "source": [
    "type(condition_factor)"
   ]
  },
  {
   "cell_type": "code",
   "execution_count": 24,
   "metadata": {},
   "outputs": [],
   "source": [
    "# https://www.geeksforgeeks.org/python-save-list-to-csv/\n",
    "condition_factor_dict = {\"scour_depth\": pier_local_scour_depth[0],\n",
    "                         \"condition_factor\": condition_factor[0]}\n",
    "condition_factor_df = pd.DataFrame.from_dict(condition_factor_dict)"
   ]
  },
  {
   "cell_type": "code",
   "execution_count": 25,
   "metadata": {},
   "outputs": [
    {
     "data": {
      "text/html": [
       "<div>\n",
       "<style scoped>\n",
       "    .dataframe tbody tr th:only-of-type {\n",
       "        vertical-align: middle;\n",
       "    }\n",
       "\n",
       "    .dataframe tbody tr th {\n",
       "        vertical-align: top;\n",
       "    }\n",
       "\n",
       "    .dataframe thead th {\n",
       "        text-align: right;\n",
       "    }\n",
       "</style>\n",
       "<table border=\"1\" class=\"dataframe\">\n",
       "  <thead>\n",
       "    <tr style=\"text-align: right;\">\n",
       "      <th></th>\n",
       "      <th>scour_depth</th>\n",
       "      <th>condition_factor</th>\n",
       "    </tr>\n",
       "  </thead>\n",
       "  <tbody>\n",
       "    <tr>\n",
       "      <th>0</th>\n",
       "      <td>0.000000</td>\n",
       "      <td>0.720000</td>\n",
       "    </tr>\n",
       "    <tr>\n",
       "      <th>1</th>\n",
       "      <td>0.288889</td>\n",
       "      <td>0.720000</td>\n",
       "    </tr>\n",
       "    <tr>\n",
       "      <th>2</th>\n",
       "      <td>0.577778</td>\n",
       "      <td>0.720000</td>\n",
       "    </tr>\n",
       "    <tr>\n",
       "      <th>3</th>\n",
       "      <td>0.866667</td>\n",
       "      <td>0.720000</td>\n",
       "    </tr>\n",
       "    <tr>\n",
       "      <th>4</th>\n",
       "      <td>1.155556</td>\n",
       "      <td>0.661714</td>\n",
       "    </tr>\n",
       "    <tr>\n",
       "      <th>5</th>\n",
       "      <td>1.444444</td>\n",
       "      <td>0.572571</td>\n",
       "    </tr>\n",
       "    <tr>\n",
       "      <th>6</th>\n",
       "      <td>1.733333</td>\n",
       "      <td>0.483429</td>\n",
       "    </tr>\n",
       "    <tr>\n",
       "      <th>7</th>\n",
       "      <td>2.022222</td>\n",
       "      <td>0.394286</td>\n",
       "    </tr>\n",
       "    <tr>\n",
       "      <th>8</th>\n",
       "      <td>2.311111</td>\n",
       "      <td>0.305143</td>\n",
       "    </tr>\n",
       "    <tr>\n",
       "      <th>9</th>\n",
       "      <td>2.600000</td>\n",
       "      <td>0.216000</td>\n",
       "    </tr>\n",
       "  </tbody>\n",
       "</table>\n",
       "</div>"
      ],
      "text/plain": [
       "   scour_depth  condition_factor\n",
       "0     0.000000          0.720000\n",
       "1     0.288889          0.720000\n",
       "2     0.577778          0.720000\n",
       "3     0.866667          0.720000\n",
       "4     1.155556          0.661714\n",
       "5     1.444444          0.572571\n",
       "6     1.733333          0.483429\n",
       "7     2.022222          0.394286\n",
       "8     2.311111          0.305143\n",
       "9     2.600000          0.216000"
      ]
     },
     "execution_count": 25,
     "metadata": {},
     "output_type": "execute_result"
    }
   ],
   "source": [
    "condition_factor_df"
   ]
  },
  {
   "cell_type": "code",
   "execution_count": 27,
   "metadata": {},
   "outputs": [],
   "source": [
    "#https://stackoverflow.com/questions/62290012/why-is-row-number-added-as-a-column-in-csv-file-saved-by-pandas\n",
    "condition_factor_df.to_csv(\"condition_factor_df.csv\", index=False)"
   ]
  },
  {
   "cell_type": "code",
   "execution_count": null,
   "metadata": {},
   "outputs": [],
   "source": []
  }
 ],
 "metadata": {
  "kernelspec": {
   "display_name": "base",
   "language": "python",
   "name": "python3"
  },
  "language_info": {
   "codemirror_mode": {
    "name": "ipython",
    "version": 3
   },
   "file_extension": ".py",
   "mimetype": "text/x-python",
   "name": "python",
   "nbconvert_exporter": "python",
   "pygments_lexer": "ipython3",
   "version": "3.9.7"
  },
  "orig_nbformat": 4,
  "vscode": {
   "interpreter": {
    "hash": "ad2bdc8ecc057115af97d19610ffacc2b4e99fae6737bb82f5d7fb13d2f2c186"
   }
  }
 },
 "nbformat": 4,
 "nbformat_minor": 2
}
