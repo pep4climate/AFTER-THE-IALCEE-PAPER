{
 "cells": [
  {
   "cell_type": "code",
   "execution_count": 44,
   "metadata": {},
   "outputs": [],
   "source": [
    "import math\n",
    "import matplotlib.pyplot as plt\n",
    "import numpy as np\n",
    "import csv\n",
    "import os"
   ]
  },
  {
   "cell_type": "code",
   "execution_count": 67,
   "metadata": {},
   "outputs": [],
   "source": [
    "def divide_half_circle(radius, span_length, elements):\n",
    "\n",
    "    springing_angle = math.acos(span_length/(2*radius))\n",
    "    centre_angle = math.pi - 2 * springing_angle\n",
    "\n",
    "    angle_per_point = centre_angle/elements\n",
    "    coordinates = []\n",
    "\n",
    "    for i in range(elements+1):\n",
    "        current_angle = springing_angle + (i * angle_per_point)\n",
    "        x_O = round(radius * math.cos(current_angle), 3)\n",
    "        y_O = round(radius * math.sin(current_angle), 3)\n",
    "        coordinates.append((i+1, x_O, y_O, current_angle))\n",
    "\n",
    "    for i, coordinate in enumerate(coordinates):\n",
    "        print(\"Point ID: \", coordinate[0], \"; x_O: \", coordinate[1], \"; y_O: \", coordinate[2], \"; Point angle: \", math.degrees(coordinate[3]))\n",
    "    \n",
    "    return coordinates"
   ]
  },
  {
   "cell_type": "code",
   "execution_count": 68,
   "metadata": {},
   "outputs": [
    {
     "name": "stdout",
     "output_type": "stream",
     "text": [
      "Point ID:  1 ; x_O:  4.63 ; y_O:  1.375 ; Point angle:  16.545853380679368\n",
      "Point ID:  2 ; x_O:  4.13 ; y_O:  2.505 ; Point angle:  31.236682704543497\n",
      "Point ID:  3 ; x_O:  3.36 ; y_O:  3.47 ; Point angle:  45.92751202840762\n",
      "Point ID:  4 ; x_O:  2.37 ; y_O:  4.209 ; Point angle:  60.61834135227175\n",
      "Point ID:  5 ; x_O:  1.225 ; y_O:  4.672 ; Point angle:  75.30917067613588\n",
      "Point ID:  6 ; x_O:  0.0 ; y_O:  4.83 ; Point angle:  90.0\n",
      "Point ID:  7 ; x_O:  -1.225 ; y_O:  4.672 ; Point angle:  104.69082932386412\n",
      "Point ID:  8 ; x_O:  -2.37 ; y_O:  4.209 ; Point angle:  119.38165864772824\n",
      "Point ID:  9 ; x_O:  -3.36 ; y_O:  3.47 ; Point angle:  134.07248797159238\n",
      "Point ID:  10 ; x_O:  -4.13 ; y_O:  2.505 ; Point angle:  148.7633172954565\n",
      "Point ID:  11 ; x_O:  -4.63 ; y_O:  1.375 ; Point angle:  163.45414661932062\n"
     ]
    }
   ],
   "source": [
    "# Example usage\n",
    "radius = 4.83\n",
    "span_length = 9.26\n",
    "elements = 10\n",
    "point_coordinates = divide_half_circle(radius, span_length, elements)"
   ]
  },
  {
   "cell_type": "code",
   "execution_count": 71,
   "metadata": {},
   "outputs": [],
   "source": [
    "def plot_elements_and_half_circle(coordinates, radius, span_length):\n",
    "    x_points = [coordinate[1] for coordinate in coordinates]\n",
    "    y_points = [coordinate[2] for coordinate in coordinates]\n",
    "\n",
    "    springing_angle = math.acos(span_length/(2*radius))\n",
    "    theta = np.linspace(springing_angle, math.pi - springing_angle, 100)\n",
    "    x_circle = radius * np.cos(theta)\n",
    "    y_circle = radius * np.sin(theta)\n",
    "    \n",
    "    fig, ax = plt.subplots()\n",
    "    ax.scatter(x_points, y_points, color = 'red')\n",
    "    ax.plot(x_circle, y_circle, color = 'blue')\n",
    "    ax.set_aspect('equal')\n",
    "    ax.set_xlabel('X')\n",
    "    ax.set_ylabel('Y')\n",
    "    plt.grid(True)\n",
    "    plt.show()"
   ]
  },
  {
   "cell_type": "code",
   "execution_count": 72,
   "metadata": {},
   "outputs": [
    {
     "data": {
      "image/png": "[encoded data removed]",
      "text/plain": [
       "<Figure size 432x288 with 1 Axes>"
      ]
     },
     "metadata": {
      "needs_background": "light"
     },
     "output_type": "display_data"
    }
   ],
   "source": [
    "plots = plot_elements_and_half_circle(point_coordinates, radius, span_length)"
   ]
  },
  {
   "cell_type": "code",
   "execution_count": null,
   "metadata": {},
   "outputs": [],
   "source": []
  }
 ],
 "metadata": {
  "kernelspec": {
   "display_name": "base",
   "language": "python",
   "name": "python3"
  },
  "language_info": {
   "codemirror_mode": {
    "name": "ipython",
    "version": 3
   },
   "file_extension": ".py",
   "mimetype": "text/x-python",
   "name": "python",
   "nbconvert_exporter": "python",
   "pygments_lexer": "ipython3",
   "version": "3.9.7"
  },
  "orig_nbformat": 4
 },
 "nbformat": 4,
 "nbformat_minor": 2
}
