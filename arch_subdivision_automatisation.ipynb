{
 "cells": [
  {
   "cell_type": "code",
   "execution_count": null,
   "metadata": {},
   "outputs": [],
   "source": [
    "import math\n",
    "import matplotlib.pyplot as plt\n",
    "import numpy as np\n",
    "import csv\n",
    "import os"
   ]
  },
  {
   "cell_type": "code",
   "execution_count": null,
   "metadata": {},
   "outputs": [],
   "source": [
    "# Input of arch attributes\n",
    "radius = 4.83\n",
    "span_length = 9.26\n",
    "elements = 10"
   ]
  },
  {
   "attachments": {},
   "cell_type": "markdown",
   "metadata": {},
   "source": [
    "Coordinate origin in the circle center"
   ]
  },
  {
   "cell_type": "code",
   "execution_count": null,
   "metadata": {},
   "outputs": [],
   "source": [
    "def divide_half_circle(radius, span_length, elements):\n",
    "\n",
    "    springing_angle = math.acos(span_length/(2*radius))\n",
    "    centre_angle = math.pi - 2 * springing_angle\n",
    "\n",
    "    angle_per_point = centre_angle/elements\n",
    "    coordinates = []\n",
    "\n",
    "    for i in range(elements+1):\n",
    "        current_angle = springing_angle + (i * angle_per_point)\n",
    "        x_O = round(radius * math.cos(current_angle), 3)\n",
    "        y_O = round(radius * math.sin(current_angle), 3)\n",
    "        coordinates.append((i+1, round(math.degrees(current_angle), 4), x_O, y_O))\n",
    "\n",
    "    for i, coordinate in enumerate(coordinates):\n",
    "        print(\"Point ID: \", coordinate[0], \"; Point angle: \", coordinate[1], \"; x_O: \", coordinate[2], \"; y_O: \", coordinate[3])\n",
    "    \n",
    "    return coordinates"
   ]
  },
  {
   "cell_type": "code",
   "execution_count": null,
   "metadata": {},
   "outputs": [],
   "source": [
    "point_coordinates = divide_half_circle(radius, span_length, elements)"
   ]
  },
  {
   "cell_type": "code",
   "execution_count": null,
   "metadata": {},
   "outputs": [],
   "source": [
    "def plot_elements_and_half_circle(coordinates, radius, span_length):\n",
    "    x_points = [coordinate[2] for coordinate in coordinates]\n",
    "    y_points = [coordinate[3] for coordinate in coordinates]\n",
    "\n",
    "    springing_angle = math.acos(span_length/(2*radius))\n",
    "    theta = np.linspace(springing_angle, math.pi - springing_angle, 100)\n",
    "    x_circle = radius * np.cos(theta)\n",
    "    y_circle = radius * np.sin(theta)\n",
    "    \n",
    "    fig, ax = plt.subplots()\n",
    "    ax.scatter(x_points, y_points, color = 'red')\n",
    "    ax.plot(x_circle, y_circle, color = 'blue')\n",
    "    ax.set_aspect('equal')\n",
    "    ax.set_xlabel('X')\n",
    "    ax.set_ylabel('Y')\n",
    "    ax.axhline(0, color='black', linewidth=0.5)\n",
    "    ax.axvline(0, color='black', linewidth=0.5)\n",
    "    plt.grid(True)\n",
    "    plt.show()"
   ]
  },
  {
   "cell_type": "code",
   "execution_count": null,
   "metadata": {},
   "outputs": [],
   "source": [
    "plots = plot_elements_and_half_circle(point_coordinates, radius, span_length)"
   ]
  },
  {
   "cell_type": "code",
   "execution_count": null,
   "metadata": {},
   "outputs": [],
   "source": [
    "def export_to_csv(coordinates, filename):\n",
    "    headers = ['Point ID', 'Point angle', 'X', 'Y']\n",
    "\n",
    "    current_dir = os.getcwd()\n",
    "    filepath = os.path.join(current_dir, filename)\n",
    "\n",
    "    with open(filepath, 'w', newline = '') as file:\n",
    "        writer = csv.writer(file)\n",
    "        writer.writerow(headers)\n",
    "        writer.writerows(coordinates)\n",
    "\n",
    "    print(f\"Data has been exported to {filepath} successfully.\")"
   ]
  },
  {
   "cell_type": "code",
   "execution_count": null,
   "metadata": {},
   "outputs": [],
   "source": [
    "filename = 'circle_points_coordinates.csv'\n",
    "export_to_csv(point_coordinates, filename)"
   ]
  },
  {
   "attachments": {},
   "cell_type": "markdown",
   "metadata": {},
   "source": [
    "Change of coordinate origin"
   ]
  },
  {
   "cell_type": "code",
   "execution_count": null,
   "metadata": {},
   "outputs": [],
   "source": [
    "def divide_half_circle(radius, span_length, elements):\n",
    "\n",
    "    springing_angle = math.acos(span_length/(2*radius))\n",
    "    centre_angle = math.pi - 2 * springing_angle\n",
    "\n",
    "    angle_per_point = centre_angle/elements\n",
    "    coordinates_prime = []\n",
    "\n",
    "    for i in range(elements+1):\n",
    "        current_angle = springing_angle + (i * angle_per_point)\n",
    "        x_O_prime = (span_length/2) - round(radius * math.cos(current_angle), 3)\n",
    "        y_O_prime = round(radius * math.sin(current_angle), 3)\n",
    "        coordinates_prime.append((i+1, round(math.degrees(current_angle), 4), x_O_prime, y_O_prime))\n",
    "\n",
    "    for i, coordinate in enumerate(coordinates_prime):\n",
    "        print(\"Point ID: \", coordinate[0], \"; Point angle: \", coordinate[1], \"; x_O_prime: \", coordinate[2], \"; y_O_prime: \", coordinate[3])\n",
    "    \n",
    "    return coordinates_prime"
   ]
  },
  {
   "cell_type": "code",
   "execution_count": null,
   "metadata": {},
   "outputs": [],
   "source": [
    "def plot_elements_and_half_circle(coordinates, radius, span_length):\n",
    "    x_points = [coordinate[2] for coordinate in coordinates]\n",
    "    y_points = [coordinate[3] for coordinate in coordinates]\n",
    "\n",
    "    springing_angle = math.acos(span_length/(2*radius))\n",
    "    theta = np.linspace(springing_angle, math.pi - springing_angle, 100)\n",
    "    x_circle = radius * np.cos(theta)\n",
    "    y_circle = radius * np.sin(theta)\n",
    "    \n",
    "    fig, ax = plt.subplots()\n",
    "    ax.scatter(x_points, y_points, color = 'red')\n",
    "    ax.plot(x_circle, y_circle, color = 'blue')\n",
    "    ax.set_aspect('equal')\n",
    "    ax.set_xlabel('X')\n",
    "    ax.set_ylabel('Y')\n",
    "    ax.axhline(radius * math.sin(springing_angle), color='black', linewidth=1)\n",
    "    ax.axvline(-radius * math.cos(springing_angle), color='black', linewidth=1)\n",
    "    plt.grid(True)\n",
    "    plt.show()"
   ]
  },
  {
   "cell_type": "code",
   "execution_count": null,
   "metadata": {},
   "outputs": [],
   "source": [
    "def export_to_csv(coordinates, filename):\n",
    "    headers = ['Point ID', 'Point angle', 'X', 'Y']\n",
    "\n",
    "    current_dir = os.getcwd()\n",
    "    filepath = os.path.join(current_dir, filename)\n",
    "\n",
    "    with open(filepath, 'w', newline = '') as file:\n",
    "        writer = csv.writer(file)\n",
    "        writer.writerow(headers)\n",
    "        writer.writerows(coordinates)\n",
    "\n",
    "    print(f\"Data has been exported to {filepath} successfully.\")"
   ]
  },
  {
   "cell_type": "code",
   "execution_count": null,
   "metadata": {},
   "outputs": [],
   "source": [
    "point_coordinates_prime = divide_half_circle(radius, span_length, elements)"
   ]
  },
  {
   "cell_type": "code",
   "execution_count": null,
   "metadata": {},
   "outputs": [],
   "source": [
    "plots = plot_elements_and_half_circle(point_coordinates, radius, span_length)"
   ]
  },
  {
   "cell_type": "code",
   "execution_count": null,
   "metadata": {},
   "outputs": [],
   "source": [
    "filename = 'circle_points_coordinates_left_origin.csv'\n",
    "export_to_csv(point_coordinates_prime, filename)"
   ]
  },
  {
   "attachments": {},
   "cell_type": "markdown",
   "metadata": {},
   "source": [
    "Uniform load function"
   ]
  },
  {
   "cell_type": "code",
   "execution_count": null,
   "metadata": {},
   "outputs": [],
   "source": [
    "def uniform_load(x, y, thickness, height, unit_weight):\n",
    "    load = thickness * height * unit_weight\n",
    "    return load\n",
    "\n",
    "def assign_uniform_load(coordinates):\n",
    "    for i, coordinate in enumerate(coordinates):\n",
    "        x = coordinates[2]\n",
    "        y = coordinates[3]\n",
    "        parapet_load = round(uniform_load(x, y, 0.20, 0.90, 22), 3)\n",
    "        self_weight_load = round(uniform_load(x, y, 1, 0.5, 22), 3) \n",
    "        coordinates[i] = coordinate + (parapet_load,) + (self_weight_load,)\n",
    "\n",
    "    for coordinate in coordinates:\n",
    "        print(\"Point:\", coordinate[0], \"; x =\", coordinate[2], \"; y =\", coordinate[3], \"; Parapet load:\", coordinate[4], \"; Self weight:\", coordinate[5])"
   ]
  },
  {
   "attachments": {},
   "cell_type": "markdown",
   "metadata": {},
   "source": [
    "Circular load function"
   ]
  },
  {
   "cell_type": "code",
   "execution_count": null,
   "metadata": {},
   "outputs": [],
   "source": [
    "radius = 5.33\n",
    "span_length = 10.26\n",
    "\n",
    "springing_angle = math.acos(span_length/(2*radius))\n",
    "centre_angle = math.pi - 2 * springing_angle\n",
    "\n",
    "arch_rise = (span_length/2) * math.tan(centre_angle/4)\n",
    "\n",
    "spandrel_wall_min_height = 0.65\n",
    "spandrel_wall_max_height = spandrel_wall_min_height + arch_rise + radius * math.sin(springing_angle)"
   ]
  },
  {
   "cell_type": "code",
   "execution_count": null,
   "metadata": {},
   "outputs": [],
   "source": [
    "for i in range(elements+1):\n",
    "    angle_per_point = centre_angle/elements\n",
    "    current_angle = springing_angle + (i * angle_per_point)\n",
    "    y_O_prime = round(radius * math.sin(current_angle), 3) \n",
    "    spandrel_wall_height = spandrel_wall_max_height - y_O_prime   \n",
    "    print(y_O_prime)\n",
    "    print(spandrel_wall_height)"
   ]
  }
 ],
 "metadata": {
  "kernelspec": {
   "display_name": "base",
   "language": "python",
   "name": "python3"
  },
  "language_info": {
   "codemirror_mode": {
    "name": "ipython",
    "version": 3
   },
   "file_extension": ".py",
   "mimetype": "text/x-python",
   "name": "python",
   "nbconvert_exporter": "python",
   "pygments_lexer": "ipython3",
   "version": "3.9.7"
  },
  "orig_nbformat": 4
 },
 "nbformat": 4,
 "nbformat_minor": 2
}
