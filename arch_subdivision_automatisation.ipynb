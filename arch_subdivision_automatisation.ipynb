{
 "cells": [
  {
   "cell_type": "code",
   "execution_count": 91,
   "metadata": {},
   "outputs": [],
   "source": [
    "import math\n",
    "import matplotlib.pyplot as plt\n",
    "import numpy as np\n",
    "import csv\n",
    "import os"
   ]
  },
  {
   "attachments": {},
   "cell_type": "markdown",
   "metadata": {},
   "source": [
    "Origins in the circle centre"
   ]
  },
  {
   "cell_type": "code",
   "execution_count": 92,
   "metadata": {},
   "outputs": [],
   "source": [
    "def divide_half_circle(radius, span_length, elements):\n",
    "\n",
    "    springing_angle = math.acos(span_length/(2*radius))\n",
    "    centre_angle = math.pi - 2 * springing_angle\n",
    "\n",
    "    angle_per_point = centre_angle/elements\n",
    "    coordinates = []\n",
    "\n",
    "    for i in range(elements+1):\n",
    "        current_angle = springing_angle + (i * angle_per_point)\n",
    "        x_O = round(radius * math.cos(current_angle), 3)\n",
    "        y_O = round(radius * math.sin(current_angle), 3)\n",
    "        coordinates.append((i+1, round(math.degrees(current_angle), 4), x_O, y_O))\n",
    "\n",
    "    for i, coordinate in enumerate(coordinates):\n",
    "        print(\"Point ID: \", coordinate[0], \"; Point angle: \", coordinate[1], \"; x_O: \", coordinate[2], \"; y_O: \", coordinate[3])\n",
    "    \n",
    "    return coordinates"
   ]
  },
  {
   "cell_type": "code",
   "execution_count": 93,
   "metadata": {},
   "outputs": [],
   "source": [
    "# Example usage\n",
    "radius = 4.83\n",
    "span_length = 9.26\n",
    "elements = 10"
   ]
  },
  {
   "cell_type": "code",
   "execution_count": 94,
   "metadata": {},
   "outputs": [
    {
     "name": "stdout",
     "output_type": "stream",
     "text": [
      "Point ID:  1 ; Point angle:  16.5459 ; x_O:  4.63 ; y_O:  1.375\n",
      "Point ID:  2 ; Point angle:  31.2367 ; x_O:  4.13 ; y_O:  2.505\n",
      "Point ID:  3 ; Point angle:  45.9275 ; x_O:  3.36 ; y_O:  3.47\n",
      "Point ID:  4 ; Point angle:  60.6183 ; x_O:  2.37 ; y_O:  4.209\n",
      "Point ID:  5 ; Point angle:  75.3092 ; x_O:  1.225 ; y_O:  4.672\n",
      "Point ID:  6 ; Point angle:  90.0 ; x_O:  0.0 ; y_O:  4.83\n",
      "Point ID:  7 ; Point angle:  104.6908 ; x_O:  -1.225 ; y_O:  4.672\n",
      "Point ID:  8 ; Point angle:  119.3817 ; x_O:  -2.37 ; y_O:  4.209\n",
      "Point ID:  9 ; Point angle:  134.0725 ; x_O:  -3.36 ; y_O:  3.47\n",
      "Point ID:  10 ; Point angle:  148.7633 ; x_O:  -4.13 ; y_O:  2.505\n",
      "Point ID:  11 ; Point angle:  163.4541 ; x_O:  -4.63 ; y_O:  1.375\n"
     ]
    }
   ],
   "source": [
    "point_coordinates = divide_half_circle(radius, span_length, elements)"
   ]
  },
  {
   "cell_type": "code",
   "execution_count": 95,
   "metadata": {},
   "outputs": [],
   "source": [
    "def plot_elements_and_half_circle(coordinates, radius, span_length):\n",
    "    x_points = [coordinate[2] for coordinate in coordinates]\n",
    "    y_points = [coordinate[3] for coordinate in coordinates]\n",
    "\n",
    "    springing_angle = math.acos(span_length/(2*radius))\n",
    "    theta = np.linspace(springing_angle, math.pi - springing_angle, 100)\n",
    "    x_circle = radius * np.cos(theta)\n",
    "    y_circle = radius * np.sin(theta)\n",
    "    \n",
    "    fig, ax = plt.subplots()\n",
    "    ax.scatter(x_points, y_points, color = 'red')\n",
    "    ax.plot(x_circle, y_circle, color = 'blue')\n",
    "    ax.set_aspect('equal')\n",
    "    ax.set_xlabel('X')\n",
    "    ax.set_ylabel('Y')\n",
    "    ax.axhline(0, color='black', linewidth=0.5)\n",
    "    ax.axvline(0, color='black', linewidth=0.5)\n",
    "    plt.grid(True)\n",
    "    plt.show()"
   ]
  },
  {
   "cell_type": "code",
   "execution_count": 96,
   "metadata": {},
   "outputs": [
    {
     "data": {
      "image/png": "[encoded data removed]",
      "text/plain": [
       "<Figure size 432x288 with 1 Axes>"
      ]
     },
     "metadata": {
      "needs_background": "light"
     },
     "output_type": "display_data"
    }
   ],
   "source": [
    "plots = plot_elements_and_half_circle(point_coordinates, radius, span_length)"
   ]
  },
  {
   "cell_type": "code",
   "execution_count": 97,
   "metadata": {},
   "outputs": [],
   "source": [
    "def export_to_csv(coordinates, filename):\n",
    "    headers = ['Point ID', 'Point angle', 'X', 'Y']\n",
    "\n",
    "    current_dir = os.getcwd()\n",
    "    filepath = os.path.join(current_dir, filename)\n",
    "\n",
    "    with open(filepath, 'w', newline = '') as file:\n",
    "        writer = csv.writer(file)\n",
    "        writer.writerow(headers)\n",
    "        writer.writerows(coordinates)\n",
    "\n",
    "    print(f\"Data has been exported to {filepath} successfully.\")"
   ]
  },
  {
   "cell_type": "code",
   "execution_count": 98,
   "metadata": {},
   "outputs": [
    {
     "name": "stdout",
     "output_type": "stream",
     "text": [
      "Data has been exported to /Users/fn20944/Library/CloudStorage/OneDrive-UniversityofBristol/YEAR 3_2022-23/RESOURCES FOR FRAGILITY CURVE FRAMEWORK/PROGRAMMING CODES/arch_compression/AFTER THE IALCEE PAPER/circle_points_coordinates.csv successfully.\n"
     ]
    }
   ],
   "source": [
    "filename = 'circle_points_coordinates.csv'\n",
    "export_to_csv(point_coordinates, filename)"
   ]
  },
  {
   "attachments": {},
   "cell_type": "markdown",
   "metadata": {},
   "source": [
    "Change of coordinate origin"
   ]
  },
  {
   "cell_type": "code",
   "execution_count": 99,
   "metadata": {},
   "outputs": [],
   "source": [
    "def divide_half_circle(radius, span_length, elements):\n",
    "\n",
    "    springing_angle = math.acos(span_length/(2*radius))\n",
    "    centre_angle = math.pi - 2 * springing_angle\n",
    "\n",
    "    angle_per_point = centre_angle/elements\n",
    "    coordinates_prime = []\n",
    "\n",
    "    for i in range(elements+1):\n",
    "        current_angle = springing_angle + (i * angle_per_point)\n",
    "        x_O_prime = (span_length/2) - round(radius * math.cos(current_angle), 3)\n",
    "        y_O_prime = round(radius * math.sin(current_angle), 3)\n",
    "        coordinates_prime.append((i+1, round(math.degrees(current_angle), 4), x_O_prime, y_O_prime))\n",
    "\n",
    "    for i, coordinate in enumerate(coordinates_prime):\n",
    "        print(\"Point ID: \", coordinate[0], \"; Point angle: \", coordinate[1], \"; x_O_prime: \", coordinate[2], \"; y_O_prime: \", coordinate[3])\n",
    "    \n",
    "    return coordinates_prime"
   ]
  },
  {
   "cell_type": "code",
   "execution_count": 100,
   "metadata": {},
   "outputs": [
    {
     "name": "stdout",
     "output_type": "stream",
     "text": [
      "Point ID:  1 ; Point angle:  16.5459 ; x_O_prime:  0.0 ; y_O_prime:  1.375\n",
      "Point ID:  2 ; Point angle:  31.2367 ; x_O_prime:  0.5 ; y_O_prime:  2.505\n",
      "Point ID:  3 ; Point angle:  45.9275 ; x_O_prime:  1.27 ; y_O_prime:  3.47\n",
      "Point ID:  4 ; Point angle:  60.6183 ; x_O_prime:  2.26 ; y_O_prime:  4.209\n",
      "Point ID:  5 ; Point angle:  75.3092 ; x_O_prime:  3.405 ; y_O_prime:  4.672\n",
      "Point ID:  6 ; Point angle:  90.0 ; x_O_prime:  4.63 ; y_O_prime:  4.83\n",
      "Point ID:  7 ; Point angle:  104.6908 ; x_O_prime:  5.855 ; y_O_prime:  4.672\n",
      "Point ID:  8 ; Point angle:  119.3817 ; x_O_prime:  7.0 ; y_O_prime:  4.209\n",
      "Point ID:  9 ; Point angle:  134.0725 ; x_O_prime:  7.99 ; y_O_prime:  3.47\n",
      "Point ID:  10 ; Point angle:  148.7633 ; x_O_prime:  8.76 ; y_O_prime:  2.505\n",
      "Point ID:  11 ; Point angle:  163.4541 ; x_O_prime:  9.26 ; y_O_prime:  1.375\n"
     ]
    }
   ],
   "source": [
    "point_coordinates_prime = divide_half_circle(radius, span_length, elements)"
   ]
  },
  {
   "cell_type": "code",
   "execution_count": 101,
   "metadata": {},
   "outputs": [],
   "source": [
    "def plot_elements_and_half_circle(coordinates, radius, span_length):\n",
    "    x_points = [coordinate[2] for coordinate in coordinates]\n",
    "    y_points = [coordinate[3] for coordinate in coordinates]\n",
    "\n",
    "    springing_angle = math.acos(span_length/(2*radius))\n",
    "    theta = np.linspace(springing_angle, math.pi - springing_angle, 100)\n",
    "    x_circle = span_length/2 + radius * np.cos(theta)\n",
    "    y_circle = radius * np.sin(theta)\n",
    "    \n",
    "    fig, ax = plt.subplots()\n",
    "    ax.scatter(x_points, y_points, color = 'red')\n",
    "    ax.plot(x_circle, y_circle, color = 'blue')\n",
    "    ax.set_aspect('equal')\n",
    "    ax.set_xlabel('X')\n",
    "    ax.set_ylabel('Y')\n",
    "    ax.axhline(radius * np.sin(springing_angle), color='black', linewidth=1)\n",
    "    ax.axvline(0, color='black', linewidth=1)\n",
    "    plt.grid(True)\n",
    "    plt.show()"
   ]
  },
  {
   "cell_type": "code",
   "execution_count": 102,
   "metadata": {},
   "outputs": [
    {
     "data": {
      "image/png": "[encoded data removed]",
      "text/plain": [
       "<Figure size 432x288 with 1 Axes>"
      ]
     },
     "metadata": {
      "needs_background": "light"
     },
     "output_type": "display_data"
    }
   ],
   "source": [
    "plots = plot_elements_and_half_circle(point_coordinates_prime, radius, span_length)"
   ]
  },
  {
   "cell_type": "code",
   "execution_count": 103,
   "metadata": {},
   "outputs": [],
   "source": [
    "def export_to_csv(coordinates, filename):\n",
    "    headers = ['Point ID', 'Point angle', 'X', 'Y']\n",
    "\n",
    "    current_dir = os.getcwd()\n",
    "    filepath = os.path.join(current_dir, filename)\n",
    "\n",
    "    with open(filepath, 'w', newline = '') as file:\n",
    "        writer = csv.writer(file)\n",
    "        writer.writerow(headers)\n",
    "        writer.writerows(coordinates)\n",
    "\n",
    "    print(f\"Data has been exported to {filepath} successfully.\")"
   ]
  },
  {
   "cell_type": "code",
   "execution_count": 104,
   "metadata": {},
   "outputs": [
    {
     "name": "stdout",
     "output_type": "stream",
     "text": [
      "Data has been exported to /Users/fn20944/Library/CloudStorage/OneDrive-UniversityofBristol/YEAR 3_2022-23/RESOURCES FOR FRAGILITY CURVE FRAMEWORK/PROGRAMMING CODES/arch_compression/AFTER THE IALCEE PAPER/circle_points_coordinates_left_origin.csv successfully.\n"
     ]
    }
   ],
   "source": [
    "filename = 'circle_points_coordinates_left_origin.csv'\n",
    "export_to_csv(point_coordinates_prime, filename)"
   ]
  },
  {
   "attachments": {},
   "cell_type": "markdown",
   "metadata": {},
   "source": [
    "Uniform load function"
   ]
  },
  {
   "cell_type": "code",
   "execution_count": 105,
   "metadata": {},
   "outputs": [],
   "source": [
    "def uniform_load(x, y, thickness, height, unit_weight):\n",
    "    load = thickness * height * unit_weight\n",
    "    return load\n",
    "\n",
    "def assign_uniform_load(coordinates):\n",
    "    for i, coordinate in enumerate(coordinates):\n",
    "        x = coordinates[2]\n",
    "        y = coordinates[3]\n",
    "        parapet_load = round(uniform_load(x, y, 0.20, 0.90, 22), 3)\n",
    "        self_weight_load = round(uniform_load(x, y, 1, 0.5, 22), 3) \n",
    "        coordinates[i] = coordinate + (parapet_load,) + (self_weight_load,)\n",
    "\n",
    "    for coordinate in coordinates:\n",
    "        print(\"Point:\", coordinate[0], \"; x =\", coordinate[2], \"; y =\", coordinate[3], \"; Parapet load:\", coordinate[4], \"; Self weight:\", coordinate[5])"
   ]
  },
  {
   "cell_type": "code",
   "execution_count": 106,
   "metadata": {},
   "outputs": [
    {
     "name": "stdout",
     "output_type": "stream",
     "text": [
      "Point: 1 ; x = 0.0 ; y = 1.375 ; Parapet load: 3.96 ; Self weight: 11.0\n",
      "Point: 2 ; x = 0.5 ; y = 2.505 ; Parapet load: 3.96 ; Self weight: 11.0\n",
      "Point: 3 ; x = 1.27 ; y = 3.47 ; Parapet load: 3.96 ; Self weight: 11.0\n",
      "Point: 4 ; x = 2.26 ; y = 4.209 ; Parapet load: 3.96 ; Self weight: 11.0\n",
      "Point: 5 ; x = 3.405 ; y = 4.672 ; Parapet load: 3.96 ; Self weight: 11.0\n",
      "Point: 6 ; x = 4.63 ; y = 4.83 ; Parapet load: 3.96 ; Self weight: 11.0\n",
      "Point: 7 ; x = 5.855 ; y = 4.672 ; Parapet load: 3.96 ; Self weight: 11.0\n",
      "Point: 8 ; x = 7.0 ; y = 4.209 ; Parapet load: 3.96 ; Self weight: 11.0\n",
      "Point: 9 ; x = 7.99 ; y = 3.47 ; Parapet load: 3.96 ; Self weight: 11.0\n",
      "Point: 10 ; x = 8.76 ; y = 2.505 ; Parapet load: 3.96 ; Self weight: 11.0\n",
      "Point: 11 ; x = 9.26 ; y = 1.375 ; Parapet load: 3.96 ; Self weight: 11.0\n"
     ]
    }
   ],
   "source": [
    "assign_uniform_load(point_coordinates_prime)"
   ]
  },
  {
   "cell_type": "code",
   "execution_count": 107,
   "metadata": {},
   "outputs": [],
   "source": [
    "def export_to_csv(coordinates, filename):\n",
    "    headers = ['Point ID', 'Point angle', 'X', 'Y', 'Parapet load', 'Arch self weight']\n",
    "\n",
    "    current_dir = os.getcwd()\n",
    "    filepath = os.path.join(current_dir, filename)\n",
    "\n",
    "    with open(filepath, 'w', newline = '') as file:\n",
    "        writer = csv.writer(file)\n",
    "        writer.writerow(headers)\n",
    "        writer.writerows(coordinates)\n",
    "\n",
    "    print(f\"Data has been exported to {filepath} successfully.\")"
   ]
  },
  {
   "cell_type": "code",
   "execution_count": 108,
   "metadata": {},
   "outputs": [
    {
     "name": "stdout",
     "output_type": "stream",
     "text": [
      "Data has been exported to /Users/fn20944/Library/CloudStorage/OneDrive-UniversityofBristol/YEAR 3_2022-23/RESOURCES FOR FRAGILITY CURVE FRAMEWORK/PROGRAMMING CODES/arch_compression/AFTER THE IALCEE PAPER/circle_points_coordinates_left_origin_loads.csv successfully.\n"
     ]
    }
   ],
   "source": [
    "filename = 'circle_points_coordinates_left_origin_loads.csv'\n",
    "export_to_csv(point_coordinates_prime, filename)"
   ]
  },
  {
   "attachments": {},
   "cell_type": "markdown",
   "metadata": {},
   "source": [
    "Spandrel wall function"
   ]
  },
  {
   "cell_type": "code",
   "execution_count": 114,
   "metadata": {},
   "outputs": [],
   "source": [
    "radius = 5.33\n",
    "span_length = 10.26\n",
    "\n",
    "springing_angle = math.acos(span_length/(2*radius))\n",
    "centre_angle = math.pi - 2 * springing_angle\n",
    "\n",
    "arch_rise = (span_length/2) * math.tan(centre_angle/4)\n",
    "\n",
    "spandrel_wall_min_height = 0.65\n",
    "spandrel_wall_max_height = spandrel_wall_min_height + arch_rise + radius * math.sin(springing_angle)"
   ]
  },
  {
   "cell_type": "code",
   "execution_count": 115,
   "metadata": {},
   "outputs": [
    {
     "name": "stdout",
     "output_type": "stream",
     "text": [
      "3.8836252214588356\n"
     ]
    }
   ],
   "source": [
    "print(arch_rise)"
   ]
  },
  {
   "cell_type": "code",
   "execution_count": 116,
   "metadata": {},
   "outputs": [
    {
     "name": "stdout",
     "output_type": "stream",
     "text": [
      "5.98\n"
     ]
    }
   ],
   "source": [
    "print(spandrel_wall_max_height)"
   ]
  },
  {
   "cell_type": "code",
   "execution_count": 118,
   "metadata": {},
   "outputs": [
    {
     "name": "stdout",
     "output_type": "stream",
     "text": [
      "1.446\n",
      "4.534000000000001\n",
      "2.713\n",
      "3.2670000000000003\n",
      "3.798\n",
      "2.1820000000000004\n",
      "4.63\n",
      "1.3500000000000005\n",
      "5.152\n",
      "0.8280000000000003\n",
      "5.33\n",
      "0.6500000000000004\n",
      "5.152\n",
      "0.8280000000000003\n",
      "4.63\n",
      "1.3500000000000005\n",
      "3.798\n",
      "2.1820000000000004\n",
      "2.713\n",
      "3.2670000000000003\n",
      "1.446\n",
      "4.534000000000001\n"
     ]
    }
   ],
   "source": [
    "for i in range(elements+1):\n",
    "    angle_per_point = centre_angle/elements\n",
    "    current_angle = springing_angle + (i * angle_per_point)\n",
    "    y_O_prime = round(radius * math.sin(current_angle), 3) \n",
    "    spandrel_wall_height = spandrel_wall_max_height - y_O_prime   \n",
    "    print(y_O_prime)\n",
    "    print(spandrel_wall_height)\n",
    "\n"
   ]
  },
  {
   "cell_type": "code",
   "execution_count": null,
   "metadata": {},
   "outputs": [],
   "source": []
  }
 ],
 "metadata": {
  "kernelspec": {
   "display_name": "base",
   "language": "python",
   "name": "python3"
  },
  "language_info": {
   "codemirror_mode": {
    "name": "ipython",
    "version": 3
   },
   "file_extension": ".py",
   "mimetype": "text/x-python",
   "name": "python",
   "nbconvert_exporter": "python",
   "pygments_lexer": "ipython3",
   "version": "3.9.7"
  },
  "orig_nbformat": 4
 },
 "nbformat": 4,
 "nbformat_minor": 2
}
