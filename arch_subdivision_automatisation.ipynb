{
 "cells": [
  {
   "cell_type": "code",
   "execution_count": 19,
   "metadata": {},
   "outputs": [],
   "source": [
    "import math"
   ]
  },
  {
   "cell_type": "code",
   "execution_count": 48,
   "metadata": {},
   "outputs": [],
   "source": [
    "def divide_half_circle(radius, span_length, n):\n",
    "\n",
    "    alpha = math.acos(span_length/(2*radius))\n",
    "    print('alpha =', alpha)\n",
    "\n",
    "    theta = math.pi - alpha\n",
    "    print('theta =', theta)\n",
    "\n",
    "    angle_per_slice = (theta)/n\n",
    "    coordinates = []\n",
    "\n",
    "    for i in range(n):\n",
    "        start_angle = i * angle_per_slice\n",
    "        end_angle = (i + 1) * angle_per_slice\n",
    "        print(\"Slice\", i+1, \"; Start angle =\", start_angle, \"; End angle =\", end_angle)\n",
    "\n",
    "    for i in range(n+1):\n",
    "        angle = i * angle_per_slice\n",
    "        x = radius * math.cos(angle)\n",
    "        y = radius * math.sin(angle)\n",
    "        coordinates.append((x,y))\n",
    "    return coordinates"
   ]
  },
  {
   "cell_type": "code",
   "execution_count": 49,
   "metadata": {},
   "outputs": [],
   "source": [
    "# Example usage\n",
    "radius = 5.0\n",
    "span_length = 9\n",
    "slices = 10"
   ]
  },
  {
   "cell_type": "code",
   "execution_count": 47,
   "metadata": {},
   "outputs": [
    {
     "name": "stdout",
     "output_type": "stream",
     "text": [
      "alpha = 0.45102681179626236\n",
      "theta = 2.6905658417935308\n",
      "Slice 1 ; Start angle = 0.0 ; End angle = 0.22395390299972684\n",
      "Slice 2 ; Start angle = 0.22395390299972684 ; End angle = 0.4479078059994537\n",
      "Slice 3 ; Start angle = 0.4479078059994537 ; End angle = 0.6718617089991805\n",
      "Slice 4 ; Start angle = 0.6718617089991805 ; End angle = 0.8958156119989074\n",
      "Slice 5 ; Start angle = 0.8958156119989074 ; End angle = 1.1197695149986342\n",
      "Slice 6 ; Start angle = 1.1197695149986342 ; End angle = 1.343723417998361\n",
      "Slice 7 ; Start angle = 1.343723417998361 ; End angle = 1.5676773209980879\n",
      "Slice 8 ; Start angle = 1.5676773209980879 ; End angle = 1.7916312239978147\n",
      "Slice 9 ; Start angle = 1.7916312239978147 ; End angle = 2.0155851269975416\n",
      "Slice 10 ; Start angle = 2.0155851269975416 ; End angle = 2.2395390299972684\n"
     ]
    },
    {
     "data": {
      "text/plain": [
       "[(5.0, 0.0),\n",
       " (4.875134822773842, 1.1104325552584722),\n",
       " (4.506775816088856, 2.1654033673929267),\n",
       " (3.9133210650060715, 3.112220789433126),\n",
       " (3.12441130259335, 3.903595011297525),\n",
       " (2.1794494717703365, 4.5),\n",
       " (1.1256327031280997, 4.87164766969539),\n",
       " (0.015595003698803237, 4.999975679526814),\n",
       " (-1.0952216048907708, 4.878574549618001),\n",
       " (-2.1513361975617036, 4.513507789409558),\n",
       " (-3.1, 3.9230090491866063)]"
      ]
     },
     "execution_count": 47,
     "metadata": {},
     "output_type": "execute_result"
    }
   ],
   "source": [
    "divide_half_circle(radius, span_length, slices)"
   ]
  },
  {
   "cell_type": "code",
   "execution_count": null,
   "metadata": {},
   "outputs": [],
   "source": []
  }
 ],
 "metadata": {
  "kernelspec": {
   "display_name": "base",
   "language": "python",
   "name": "python3"
  },
  "language_info": {
   "codemirror_mode": {
    "name": "ipython",
    "version": 3
   },
   "file_extension": ".py",
   "mimetype": "text/x-python",
   "name": "python",
   "nbconvert_exporter": "python",
   "pygments_lexer": "ipython3",
   "version": "3.9.7"
  },
  "orig_nbformat": 4
 },
 "nbformat": 4,
 "nbformat_minor": 2
}
