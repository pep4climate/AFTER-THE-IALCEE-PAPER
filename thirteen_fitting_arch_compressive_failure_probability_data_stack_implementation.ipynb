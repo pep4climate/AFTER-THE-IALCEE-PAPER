{
 "cells": [
  {
   "cell_type": "code",
   "execution_count": 67,
   "metadata": {},
   "outputs": [],
   "source": [
    "#https://stackoverflow.com/questions/73071058/fit-data-with-a-lognormal-function-via-maximum-likelihood-estimators/73112103#73112103\n",
    "#https://towardsdatascience.com/log-normal-distribution-a-simple-explanation-7605864fb67c"
   ]
  },
  {
   "cell_type": "code",
   "execution_count": 68,
   "metadata": {},
   "outputs": [],
   "source": [
    "from functools import partial\n",
    "import numpy as np\n",
    "from scipy import optimize, stats\n",
    "import matplotlib.pyplot as plt"
   ]
  },
  {
   "cell_type": "code",
   "execution_count": 69,
   "metadata": {},
   "outputs": [],
   "source": [
    "# %store"
   ]
  },
  {
   "cell_type": "code",
   "execution_count": 70,
   "metadata": {},
   "outputs": [],
   "source": [
    "%store -r pier_local_scour_depth\n",
    "%store -r arch_compressive_failure_points_number\n",
    "%store -r convergence_simulation_number"
   ]
  },
  {
   "cell_type": "code",
   "execution_count": 71,
   "metadata": {},
   "outputs": [],
   "source": [
    "#Failure probability data from Baker (2015), https://doi.org/10.1193/021113EQS025M\n",
    "# im = np.array([0.2, 0.3, 0.4, 0.6, 0.7, 0.8, 0.9, 1])\n",
    "# number_of_analyses = np.array([40, 40, 40, 40, 40, 40, 40, 40])\n",
    "# number_of_collapses = np.array([0, 0, 0, 4, 6, 13, 12, 16])"
   ]
  },
  {
   "cell_type": "code",
   "execution_count": 72,
   "metadata": {},
   "outputs": [],
   "source": [
    "#Failure probability data from Qeshta et al., 2021, https://doi.org/10.1080/15732479.2021.1892774\n",
    "# im = np.array([4.5, 5, 5.5, 6, 6.5, 7, 7.5, 8, 8.5, 9, 9.46])\n",
    "# number_of_analyses = np.array([10, 10, 10, 10, 10, 10, 10, 10, 10, 10, 10]) \n",
    "# number_of_collapses = np.array([0, 0, 0, 0, 0, 0, 1, 3, 7, 9, 10])"
   ]
  },
  {
   "cell_type": "code",
   "execution_count": 89,
   "metadata": {},
   "outputs": [],
   "source": [
    "im = []\n",
    "\n",
    "#if im has an initial value of 0, this leads to -infinite when log is calculated with the lognormal pdf. Therefore, 0 is approximated with 10^-6 for which the code still works.\n",
    "\n",
    "def replace_zero_im(intensity_measure_vector):\n",
    "    \n",
    "    global im #https://scipy-lectures.org/intro/language/functions.html\n",
    "\n",
    "    for i in range(len(intensity_measure_vector)):\n",
    "        if intensity_measure_vector[i]==0:\n",
    "            intensity_measure_vector[i]=10**-6\n",
    "    \n",
    "    im = intensity_measure_vector\n",
    "    return im"
   ]
  },
  {
   "cell_type": "code",
   "execution_count": 94,
   "metadata": {},
   "outputs": [],
   "source": [
    "#Failure probability data from \"twelve_arch_compressive_limit_state_equation.ipynb\"\n",
    "im_input = np.array([0, 0.289, 0.578, 0.867, 1.156, 1.444, 1.733, 2.022, 2.311, 2.6])"
   ]
  },
  {
   "cell_type": "code",
   "execution_count": 95,
   "metadata": {},
   "outputs": [
    {
     "name": "stdout",
     "output_type": "stream",
     "text": [
      "im =  [1.000e-06 2.890e-01 5.780e-01 8.670e-01 1.156e+00 1.444e+00 1.733e+00\n",
      " 2.022e+00 2.311e+00 2.600e+00]\n"
     ]
    }
   ],
   "source": [
    "replace_zero_im(im_input)\n",
    "\n",
    "print('im = ', im) #https://stackoverflow.com/questions/21610198/runtimewarning-divide-by-zero-encountered-in-log\n",
    "number_of_analyses = np.array([100000, 100000, 100000, 100000, 100000, 100000, 100000, 100000, 100000, 100000])\n",
    "number_of_collapses = np.array([69, 69, 69, 69, 259, 1880, 15286, 74760, 99995, 100000])"
   ]
  },
  {
   "cell_type": "code",
   "execution_count": 96,
   "metadata": {},
   "outputs": [],
   "source": [
    "#Above data without the initial zero im value\n",
    "# im = np.array([0.289, 0.578, 0.867, 1.156, 1.444, 1.733, 2.022, 2.311, 2.6]) #https://stackoverflow.com/questions/21610198/runtimewarning-divide-by-zero-encountered-in-log\n",
    "# number_of_analyses = np.array([100000, 100000, 100000, 100000, 100000, 100000, 100000, 100000, 100000])\n",
    "# number_of_collapses = np.array([69, 69, 69, 259, 1880, 15286, 74760, 99995, 100000])"
   ]
  },
  {
   "cell_type": "code",
   "execution_count": 97,
   "metadata": {},
   "outputs": [],
   "source": [
    "#Failure probability data from \"twelve_arch_compressive_limit_state_equation.ipynb\" and other stored values\n",
    "# im = np.array(pier_local_scour_depth[0])\n",
    "# number_of_analyses = np.ones(len(pier_local_scour_depth[0]))*convergence_simulation_number\n",
    "# number_of_collapses = np.array(arch_compressive_failure_points_number)"
   ]
  },
  {
   "cell_type": "code",
   "execution_count": 98,
   "metadata": {},
   "outputs": [
    {
     "data": {
      "text/plain": [
       "<matplotlib.collections.PathCollection at 0x26d398185e0>"
      ]
     },
     "execution_count": 98,
     "metadata": {},
     "output_type": "execute_result"
    },
    {
     "data": {
      "image/png": "[encoded data removed]",
      "text/plain": [
       "<Figure size 640x480 with 1 Axes>"
      ]
     },
     "metadata": {},
     "output_type": "display_data"
    }
   ],
   "source": [
    "plt.scatter(im, number_of_collapses/number_of_analyses)"
   ]
  },
  {
   "cell_type": "code",
   "execution_count": 99,
   "metadata": {},
   "outputs": [
    {
     "name": "stdout",
     "output_type": "stream",
     "text": [
      "teta                beta                log_likelihood_sum  \n"
     ]
    }
   ],
   "source": [
    "#https://stackoverflow.com/questions/21610198/runtimewarning-divide-by-zero-encountered-in-log\n",
    "np.seterr(divide = 'ignore') #equal to IFERROR function of EXCEL\n",
    "im_log = np.log(im)\n",
    "\n",
    "FORMAT_STRING = \"{:<20}{:<20}{:<20}\"\n",
    "print(FORMAT_STRING.format(\"teta\", \"beta\", \"log_likelihood_sum\"))"
   ]
  },
  {
   "attachments": {},
   "cell_type": "markdown",
   "metadata": {},
   "source": [
    "Implementation to avoid underflow or overflow"
   ]
  },
  {
   "cell_type": "code",
   "execution_count": 100,
   "metadata": {},
   "outputs": [],
   "source": [
    "def neg_log_likelihood_sum(params, im_l, no_a, no_c):\n",
    "    \n",
    "    teta, beta = params\n",
    "\n",
    "    # log_theoretical_fragility_function = stats.norm.logcdf(im_l, np.log(teta), beta) #fisrt approach\n",
    "    # theoretical_fragility_function = np.exp(log_theoretical_fragility_function) #first approach\n",
    "    log_theoretical_fragility_function = stats.lognorm.logcdf(x=im, s=beta, loc=0, scale=teta) #second approach\n",
    "    theoretical_fragility_function = np.exp(log_theoretical_fragility_function) #second approach\n",
    "\n",
    "    log_likelihood = stats.binom.logpmf(no_c, no_a, theoretical_fragility_function)\n",
    "    log_likelihood_sum = np.sum(log_likelihood)\n",
    "\n",
    "    print(FORMAT_STRING.format(teta, beta, log_likelihood_sum))\n",
    "    \n",
    "    return -log_likelihood_sum"
   ]
  },
  {
   "cell_type": "code",
   "execution_count": 101,
   "metadata": {},
   "outputs": [
    {
     "name": "stdout",
     "output_type": "stream",
     "text": [
      "1.6                 0.4                 -185333.4207731888  \n",
      "1.6800000000000002  0.4                 -173166.32571673577 \n",
      "1.6                 0.42000000000000004 -186782.70388029766 \n",
      "1.6800000000000002  0.38                -171610.21971362675 \n",
      "1.7199999999999998  0.3600000000000001  -inf                \n",
      "1.7600000000000002  0.38                -164022.55083630758 \n",
      "1.8400000000000007  0.3699999999999999  -inf                \n",
      "1.7600000000000002  0.36                -inf                \n",
      "1.7000000000000002  0.39                -170010.7163315206  \n",
      "1.7800000000000002  0.39                -163780.74273908712 \n",
      "1.83                0.395               -162604.58593535333 \n",
      "1.8900000000000001  0.385               -161644.34413598548 \n",
      "1.9850000000000003  0.38250000000000006 -165597.8888591954  \n",
      "1.96                0.4                 -165358.269011201   \n",
      "1.81                0.385               -162101.84610934078 \n",
      "1.87                0.375               -inf                \n",
      "1.84                0.39                -161948.1200640003  \n",
      "1.9200000000000004  0.39                -162832.68457058232 \n",
      "1.8375000000000001  0.38625             -161622.1194245237  \n",
      "1.8875              0.38125             -161293.66918416545 \n",
      "1.9112500000000003  0.37687499999999985 -161546.29959350664 \n",
      "1.835               0.38249999999999995 -161317.9013317809  \n",
      "1.885               0.37749999999999995 -160963.8379871396  \n",
      "1.90875             0.37312499999999993 -inf                \n",
      "1.9375              0.37625             -inf                \n",
      "1.860625            0.38093749999999993 -161018.38276114786 \n",
      "1.858125            0.3771874999999999  -160714.72435304403 \n",
      "1.8434374999999998  0.37515624999999986 -160600.40609730277 \n",
      "1.8678125           0.3717187499999999  -inf                \n",
      "1.862421875         0.3786328124999999  -160834.8837568218  \n",
      "1.8208593749999997  0.3762890624999998  -161064.64930416452 \n",
      "1.86896484375       0.3771972656249999  -160754.68734608503 \n",
      "1.84998046875       0.37372070312499983 -inf                \n",
      "1.8593115234375     0.37740478515624987 -160732.4292632578  \n",
      "1.8337841796874998  0.37536376953124984 -160746.69632007775 \n",
      "1.842579345703125   0.3758221435546874  -160677.58206215495 \n",
      "1.8267053222656249  0.37357360839843734 -inf                \n",
      "1.8511599731445312  0.37644699096679674 -160669.83053328106 \n",
      "1.852018127441406   0.37578109741210913 -160616.2912829974  \n",
      "1.8442956542968747  0.3744903564453123  -inf                \n",
      "1.8494438934326172  0.37595783233642566 -160638.64386846585 \n",
      "1.8460117340087887  0.3749795150756834  -inf                \n",
      "1.84858585357666    0.3757132530212401  -160627.31563460286 \n",
      "1.846869773864746   0.37522409439086896 -160585.04005901638 \n",
      "1.8460117340087887  0.3749795150756833  -inf                \n",
      "1.8382891464233397  0.3745992469787596  -inf                \n",
      "1.8485858821868895  0.37548563480377173 -160611.43578731988 \n",
      "1.8417213916778563  0.37489470958709703 -inf                \n",
      "1.846869759559631   0.37533790349960305 -160596.64974095093 \n",
      "1.8503020334243772  0.3754057478904722  -160588.6345872858  \n",
      "1.850302047729492   0.37529193878173805 -160577.05804199737 \n",
      "1.8520181918144223  0.37526895642280556 -inf                \n",
      "1.8468697881698608  0.37511028528213486 -inf                \n",
      "1.849443972110748   0.37533188223838787 -160598.14607515908 \n",
      "1.848585910797119   0.37525801658630353 -160580.12917045073 \n",
      "1.8503020405769346  0.37534884333610513 -160596.8357951968  \n",
      "1.8485859179496764  0.37520111203193646 -inf                \n",
      "1.84987300992012    0.37531191051006296 -160587.54387773256 \n",
      "1.849014948606491   0.3752380448579786  -160569.29637406522 \n",
      "1.8485859179496762  0.3752011120319365  -inf                \n",
      "1.8507310855388641  0.37527196705341315 -160566.6885092692  \n",
      "1.8518036729097362  0.375278942286968   -160561.04637763344 \n",
      "1.8505165737867353  0.3752250483632086  -inf                \n",
      "1.850355679243803   0.3752752161771057  -160570.81079978147 \n",
      "1.8504629422724244  0.37524177096784095 -inf                \n",
      "1.8503824950009582  0.3752668548747895  -160567.6878454412  \n",
      "1.8531712193042034  0.3753077523037789  -160561.81010198244 \n",
      "1.8545923972129814  0.3753198397159574  -160557.6318241721  \n",
      "1.8566973483189928  0.37534633213654134 -160556.7223514242  \n",
      "1.8553298019245257  0.37531752211973046 -inf                \n",
      "1.853710864959284   0.3753101947577668  -160559.33020541543 \n",
      "1.8586045403685407  0.37537758460734016 -160560.77095004587 \n",
      "1.8569043235038394  0.3753529240272472  -160558.16395770665 \n",
      "1.8598908068635482  0.37538906140602174 -160561.43350676697 \n",
      "1.85525585043535    0.3753299114198305  -160557.64740385284 \n",
      "1.8550488752505037  0.3753233195291247  -160556.41569848734 \n",
      "1.8541211511238354  0.3753085172800634  -160556.33852269995 \n",
      "1.8555626490074781  0.37532493799677424 -160554.40356490976 \n",
      "1.8557160482935422  0.3753224512852462  -inf                \n",
      "1.8529864518123205  0.37528712314029633 -160555.82562593117 \n",
      "1.854427949695963   0.37530354385700715 -inf                \n",
      "1.8541978507668673  0.37530727392429936 -160555.46802122015 \n",
      "1.8567740479620252  0.3753450887807772  -160555.9744587567  \n",
      "1.8539333508497466  0.37530161455041655 -160555.0311427349  \n",
      "1.8552981490903577  0.37531927862289144 -160553.74365974223 \n",
      "1.855848298252103   0.37532528097218754 -inf                \n",
      "1.8569274472480894  0.3753426020692491  -160554.4896440976  \n",
      "1.8561789231485035  0.37533235518954094 -160554.10613721653 \n",
      "1.8559144232313833  0.37532669581565814 -160553.34570065408 \n",
      "1.8560903103433364  0.37532757472510014 -inf                \n",
      "1.8550336491732373  0.3753136192490087  -inf                \n",
      "1.855892604654687   0.3753276712044079  -160553.78546902555 \n",
      "1.8553199676670538  0.3753183032341417  -inf                \n",
      "1.8557494454077788  0.37532532921184136 -160553.64408914855 \n",
      "1.8563657195488044  0.37533274640460806 -inf                \n",
      "1.8555650417049694  0.3753226455683206  -160553.5962240324  \n",
      "1.855730019528574   0.3753240121721374  -inf                \n",
      "1.8557445889379776  0.3753249999519154  -160553.55280571483 \n",
      "1.8560939704643913  0.3753290501992529  -inf                \n",
      "1.8556972738948248  0.3753242467260537  -160553.51622433076 \n",
      "1.8558671081882303  0.37532594258979646 -inf                \n",
      "1.8557752187505407  0.37532523561138564 -160553.48977347527 \n",
      "1.8559923680870996  0.3753276847009901  -inf                \n",
      "1.8557710474428935  0.37532510621978776 -160553.46455150883 \n",
      "1.8559102519237358  0.37532656642406026 -inf                \n",
      "1.8558089770438395  0.3753255683145543  -160553.4463039911  \n",
      "1.8559523528323294  0.3753271579104247  -inf                \n",
      "1.8558163737902524  0.375325619142447   -160553.42921306822 \n",
      "1.855921819977796   0.3753267466435508  -160553.32909185917 \n",
      "1.8559782414447743  0.3753273358080491  -inf                \n",
      "1.856019869418927   0.37532782331676195 -inf                \n",
      "1.8558672476974212  0.37532617018602576 -160553.38250313845 \n",
      "1.8559689955117582  0.3753272722731832  -inf                \n",
      "1.8558926846510055  0.37532644570781515 -160553.35974773992 \n",
      "1.8559435585581738  0.3753269967513938  -inf                \n",
      "1.8559054031277977  0.37532658346870984 -160553.34851992398 \n",
      "1.8559308400813816  0.3753268589904991  -inf                \n",
      "1.8559117623661936  0.3753266523491572  -160553.34294348577 \n",
      "1.855919159112606   0.37532670317704986 -inf                \n",
      "1.855915607201689   0.37532669765600607 -160553.34085482228 \n",
      "1.8559256648132911  0.37532679195039975 -inf                \n",
      "1.855915237977968   0.3753266872494678  -160553.33895319005 \n",
      "1.8559214507540749  0.37532673623701257 -inf                \n",
      "1.8559170680897854  0.3753267073012577  -160553.33743634005 \n",
      "1.8559236500896135  0.3753267666953407  -inf                \n",
      "1.8559173410058794  0.3753267071109361  -160553.33610640588 \n",
      "1.8559220928938902  0.37532674645322917 -inf                \n",
      "1.8559183242908115  0.3753267170892506  -160553.3350164735  \n",
      "1.855922803262728   0.3753267566218653  -inf                \n",
      "1.8559187065700915  0.37532671948866836 -160553.3340792378  \n",
      "1.855922202257076   0.3753267490429686  -160553.32815544982 \n",
      "1.8559241412402079  0.37532676501982754 -inf                \n",
      "1.8559253156647804  0.37532677619785104 -inf                \n",
      "1.8559203588437638  0.37532673366596403 -160553.3313505968  \n",
      "1.855923663391108   0.37532676202055537 -inf                \n",
      "1.8559211849805999  0.37532674075461187 -160553.32998690908 \n",
      "1.855922837254272   0.37532675493190754 -inf                \n",
      "1.8559215980490178  0.37532674429893575 -160553.32930522345 \n",
      "1.855922424185854   0.37532675138758365 -inf                \n",
      "1.8559218045832269  0.3753267460710977  -160553.32896442013 \n",
      "Optimization terminated successfully.\n",
      "         Current function value: 160553.328155\n",
      "         Iterations: 71\n",
      "         Function evaluations: 140\n",
      " final_simplex: (array([[1.8559222 , 0.37532675],\n",
      "       [1.8559218 , 0.37532675],\n",
      "       [1.85592182, 0.37532675]]), array([160553.32815545, 160553.32896442, 160553.32909186]))\n",
      "           fun: 160553.32815544982\n",
      "       message: 'Optimization terminated successfully.'\n",
      "          nfev: 140\n",
      "           nit: 71\n",
      "        status: 0\n",
      "       success: True\n",
      "             x: array([1.8559222 , 0.37532675])\n"
     ]
    }
   ],
   "source": [
    "guess_values = (1.6, 0.4) #guess_values = (1.6, 0.1) for Baker, = (1.6, 0.4) for my data, while guess_values = (8, 0.1) for Qeshta et al. (2021) data. Be aware to use 'reasonable' guess data.\n",
    "params_bounds = ((0.01, None), (0.01, None)) #teta and beta must be positive because of the problem physics\n",
    "desired_tolerance = 10**-3\n",
    "number_of_iterations = 1000\n",
    "\n",
    "# https://www.udacity.com/blog/2020/12/how-to-create-partial-functions-in-python.html#:~:text=What%20is%20a%20Partial%20Function,extension%20of%20another%20specified%20function.\n",
    "neg_log_likelihood_sum_partial = partial(neg_log_likelihood_sum, im_l=im_log, no_a=number_of_analyses, no_c=number_of_collapses)\n",
    "\n",
    "#https://docs.scipy.org/doc/scipy/reference/generated/scipy.optimize.minimize.html\n",
    "res = optimize.minimize(neg_log_likelihood_sum_partial, x0 = guess_values, \n",
    "                method=\"Nelder-Mead\", options={'maxiter':number_of_iterations, \n",
    "                'disp':True}, bounds = params_bounds, tol = desired_tolerance)\n",
    "print(res)"
   ]
  },
  {
   "attachments": {},
   "cell_type": "markdown",
   "metadata": {},
   "source": [
    "Try to including 0"
   ]
  },
  {
   "cell_type": "code",
   "execution_count": 82,
   "metadata": {},
   "outputs": [],
   "source": [
    "xx=1**-11\n",
    "beta=0.4\n",
    "teta=1.5"
   ]
  },
  {
   "cell_type": "code",
   "execution_count": 83,
   "metadata": {},
   "outputs": [
    {
     "name": "stdout",
     "output_type": "stream",
     "text": [
      "0.15537184730329506\n"
     ]
    }
   ],
   "source": [
    "theoretical_fragility_function = stats.norm(np.log(teta), beta).cdf(np.log(xx))\n",
    "print(theoretical_fragility_function)"
   ]
  },
  {
   "cell_type": "code",
   "execution_count": 84,
   "metadata": {},
   "outputs": [
    {
     "name": "stdout",
     "output_type": "stream",
     "text": [
      "-1.8619340202450088\n",
      "0.155371847303295\n"
     ]
    }
   ],
   "source": [
    "theoretical_fragility_function = stats.norm.logcdf(np.log(xx), np.log(teta), beta)\n",
    "print(theoretical_fragility_function)\n",
    "print(np.exp(theoretical_fragility_function))"
   ]
  },
  {
   "cell_type": "code",
   "execution_count": 85,
   "metadata": {},
   "outputs": [
    {
     "name": "stdout",
     "output_type": "stream",
     "text": [
      "0.155371847303295\n"
     ]
    }
   ],
   "source": [
    "#https://docs.scipy.org/doc/scipy/reference/generated/scipy.stats.lognorm.html\n",
    "theoretical_fragility_function = stats.lognorm.cdf(x=xx, s=beta, loc=0, scale=teta)\n",
    "print(theoretical_fragility_function)"
   ]
  },
  {
   "cell_type": "code",
   "execution_count": 86,
   "metadata": {},
   "outputs": [
    {
     "name": "stdout",
     "output_type": "stream",
     "text": [
      "-1.861934020245009\n",
      "0.15537184730329498\n"
     ]
    }
   ],
   "source": [
    "theoretical_fragility_function = stats.lognorm.logcdf(x=xx, s=beta, loc=0, scale=teta)\n",
    "print(theoretical_fragility_function)\n",
    "print(np.exp(theoretical_fragility_function))"
   ]
  },
  {
   "cell_type": "code",
   "execution_count": 87,
   "metadata": {},
   "outputs": [],
   "source": [
    "no_c = 69\n",
    "no_a = 100_000"
   ]
  },
  {
   "cell_type": "code",
   "execution_count": 88,
   "metadata": {},
   "outputs": [
    {
     "name": "stdout",
     "output_type": "stream",
     "text": [
      "-16434.52479231295\n",
      "0.0\n"
     ]
    }
   ],
   "source": [
    "log_likelihood = stats.binom.logpmf(no_c, no_a, np.exp(theoretical_fragility_function))\n",
    "print(log_likelihood)\n",
    "print(np.exp(log_likelihood))"
   ]
  }
 ],
 "metadata": {
  "kernelspec": {
   "display_name": "base",
   "language": "python",
   "name": "python3"
  },
  "language_info": {
   "codemirror_mode": {
    "name": "ipython",
    "version": 3
   },
   "file_extension": ".py",
   "mimetype": "text/x-python",
   "name": "python",
   "nbconvert_exporter": "python",
   "pygments_lexer": "ipython3",
   "version": "3.9.13"
  },
  "orig_nbformat": 4,
  "vscode": {
   "interpreter": {
    "hash": "ad2bdc8ecc057115af97d19610ffacc2b4e99fae6737bb82f5d7fb13d2f2c186"
   }
  }
 },
 "nbformat": 4,
 "nbformat_minor": 2
}
