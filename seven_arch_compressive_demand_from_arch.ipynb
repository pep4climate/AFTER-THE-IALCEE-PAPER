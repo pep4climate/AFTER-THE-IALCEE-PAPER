{
 "cells": [
  {
   "cell_type": "code",
   "execution_count": 1,
   "metadata": {},
   "outputs": [],
   "source": [
    "# %run -i five_unit_weight_sampling.ipynb #remember not to run more than one time if masonry elements have the same unit weight\n",
    "# %store -r unit_weight_realisations\n",
    "%store -r convergence_simulation_number"
   ]
  },
  {
   "cell_type": "code",
   "execution_count": 2,
   "metadata": {},
   "outputs": [],
   "source": [
    "import numpy as np #for code developing purposes. to switch off when using the unit_weight_realisations"
   ]
  },
  {
   "cell_type": "code",
   "execution_count": 3,
   "metadata": {},
   "outputs": [],
   "source": [
    "# masonry_unit_weight = unit_weight_realisations\n",
    "\n",
    "masonry_unit_weight = np.random.normal(0, 1, convergence_simulation_number) #https://numpy.org/doc/stable/reference/random/generated/numpy.random.normal.html\n",
    "#for code developing purposes. to switch off when using the unit_weight_realisations"
   ]
  },
  {
   "cell_type": "code",
   "execution_count": 4,
   "metadata": {},
   "outputs": [],
   "source": [
    "compressive_demand_from_arch = {} #dictionary where to store the thrust and its components"
   ]
  },
  {
   "cell_type": "code",
   "execution_count": 5,
   "metadata": {},
   "outputs": [],
   "source": [
    "def arch_compressive_demand_from_arch(masonry_unit_weight):\n",
    "    \n",
    "    import math\n",
    "    import numpy as np\n",
    "    \n",
    "    pi = math.pi\n",
    "    \n",
    "    L = round(9260/1000, 3) #m -span length\n",
    "    r_i = round(3450/1000, 3) #m\n",
    "    t = round(500/1000, 3) #m\n",
    "    r_e = round(3950/1000, 3) #m\n",
    "    r = round(1/2*(r_i + r_e), 3) #m\n",
    "    print(f'{r_i:.2f}', f'{r_e:.2f}', f'{r:.2f}') #round decimals example at https://kodify.net/python/math/round-decimals/\n",
    "\n",
    "    b = 1 #m -investigated arch barrel slice-\n",
    "\n",
    "    A_e = (1/4)*(pi * math.pow(r_e, 2)) #m2 -assumed with circular shape- #https://theconstructor.org/structures/types-of-arches-construction/11960/\n",
    "    print('A_e = ', A_e)\n",
    "\n",
    "    A_i = (1/4)*(pi * math.pow(r_i, 2)) #m2 -assumed with circular shape-\n",
    "    print('A_i = ', A_i)\n",
    "\n",
    "    A = (A_e-A_i)\n",
    "    print('A = ', A)\n",
    "\n",
    "    P = masonry_unit_weight * A * b \n",
    "\n",
    "    alfa_hinges = 0 #deg -inclination of springing hinges over the horizontal\n",
    "\n",
    "    xp_re = 4/(3*pi)*r_e\n",
    "    # print('xp_re = ', f'{xp_re:.2f}')\n",
    "\n",
    "    xp_ri = 4/(3*pi)*r_i\n",
    "    # print('xp_ri = ', f'{xp_ri:.2f}')\n",
    "\n",
    "    xp = ((xp_re*A_e)-(xp_ri*A_i))/A #m -https://bar-ingegneria.forumfree.it/?t=66414904&st=15\n",
    "    print('xp = ', f'{xp:.2f}')\n",
    "\n",
    "    H_c = ((1/2 * L + 1/3 * t * math.cos(alfa_hinges) - xp) * P)/(2/3 * t + r_i - 1/3 * t * math.sin(alfa_hinges)) #kN\n",
    "    H_a = H_c\n",
    "    # print('H_a = ', f'{H_c:.2f}')\n",
    "\n",
    "    V_a = P #kN\n",
    "    # print('V_a = ', f'{V_a:.2f}')\n",
    "\n",
    "    S_a = np.sqrt(np.power(H_a, 2) + np.power(V_a, 2))\n",
    "    # S_a = math.sqrt(math.pow(H_a, 2) + math.pow(V_a, 2)) #kN\n",
    "    # print('S_a = ', f'{S_a:.2f}')\n",
    "\n",
    "    gamma_fL = 1.00 #note that for using Sa as input for the probabilistic assessment, gamma_fL = 1.0\n",
    "    gamma_f_three = 1.00\n",
    "    \n",
    "    arch_compressive_demand_noscour = gamma_fL * gamma_f_three * S_a #kN\n",
    "\n",
    "    compressive_demand_from_arch[\"H_a\"] = H_a #https://www.w3schools.com/python/gloss_python_dictionary_add_item.asp\n",
    "    compressive_demand_from_arch[\"V_a\"] = V_a\n",
    "    compressive_demand_from_arch[\"S_a\"] = S_a\n",
    " \n",
    "    print(compressive_demand_from_arch)\n",
    "\n",
    "    # return H_a,V_a,S_a\n",
    "    %store compressive_demand_from_arch\n",
    "    "
   ]
  },
  {
   "cell_type": "code",
   "execution_count": 6,
   "metadata": {},
   "outputs": [
    {
     "name": "stdout",
     "output_type": "stream",
     "text": [
      "3.45 3.95 3.70\n",
      "A_e =  12.254174844408688\n",
      "A_i =  9.348201639838129\n",
      "A =  2.905973204570559\n",
      "xp =  2.36\n",
      "{'H_a': array([-2.54768354, -0.93169964,  1.61569795, ..., -1.73547238,\n",
      "       -1.30844666,  2.57136662]), 'V_a': array([-3.95420898, -1.4460725 ,  2.50769268, ..., -2.69359219,\n",
      "       -2.03081405,  3.99096701]), 'S_a': array([4.70387713, 1.72022961, 2.98311958, ..., 3.20426329, 2.41583078,\n",
      "       4.74760403])}\n",
      "Stored 'compressive_demand_from_arch' (dict)\n"
     ]
    }
   ],
   "source": [
    "arch_compressive_demand_from_arch(masonry_unit_weight)\n"
   ]
  },
  {
   "cell_type": "code",
   "execution_count": 7,
   "metadata": {},
   "outputs": [
    {
     "data": {
      "text/plain": [
       "{'H_a': array([-2.54768354, -0.93169964,  1.61569795, ..., -1.73547238,\n",
       "        -1.30844666,  2.57136662]),\n",
       " 'V_a': array([-3.95420898, -1.4460725 ,  2.50769268, ..., -2.69359219,\n",
       "        -2.03081405,  3.99096701]),\n",
       " 'S_a': array([4.70387713, 1.72022961, 2.98311958, ..., 3.20426329, 2.41583078,\n",
       "        4.74760403])}"
      ]
     },
     "execution_count": 7,
     "metadata": {},
     "output_type": "execute_result"
    }
   ],
   "source": [
    "compressive_demand_from_arch"
   ]
  },
  {
   "cell_type": "code",
   "execution_count": null,
   "metadata": {},
   "outputs": [],
   "source": []
  }
 ],
 "metadata": {
  "kernelspec": {
   "display_name": "base",
   "language": "python",
   "name": "python3"
  },
  "language_info": {
   "codemirror_mode": {
    "name": "ipython",
    "version": 3
   },
   "file_extension": ".py",
   "mimetype": "text/x-python",
   "name": "python",
   "nbconvert_exporter": "python",
   "pygments_lexer": "ipython3",
   "version": "3.9.13 (main, Aug 25 2022, 23:51:50) [MSC v.1916 64 bit (AMD64)]"
  },
  "orig_nbformat": 4,
  "vscode": {
   "interpreter": {
    "hash": "ad2bdc8ecc057115af97d19610ffacc2b4e99fae6737bb82f5d7fb13d2f2c186"
   }
  }
 },
 "nbformat": 4,
 "nbformat_minor": 2
}
