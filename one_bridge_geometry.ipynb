{
 "cells": [
  {
   "cell_type": "code",
   "execution_count": 25,
   "metadata": {},
   "outputs": [
    {
     "name": "stdout",
     "output_type": "stream",
     "text": [
      "Stored variables and their in-db values:\n",
      "compressive_resistances             -> [4.691352777703492, 6.2279668592488475, 4.69135277\n",
      "Stored variables and their in-db values:\n"
     ]
    }
   ],
   "source": [
    "%run -i zero_reset_stored_variables.ipynb"
   ]
  },
  {
   "cell_type": "code",
   "execution_count": 26,
   "metadata": {},
   "outputs": [],
   "source": [
    "b=1\n",
    "t=0.50\n",
    "e=1/6*t #Mery's hypothesis\n",
    "\n",
    "arch_capacity_geometry_variables = {\"b\": b, \"t\": t, \"e\": e}\n",
    "\n",
    "#a bridge could be also defined as a class"
   ]
  },
  {
   "cell_type": "code",
   "execution_count": 27,
   "metadata": {},
   "outputs": [
    {
     "name": "stdout",
     "output_type": "stream",
     "text": [
      "Stored 'arch_capacity_geometry_variables' (dict)\n"
     ]
    }
   ],
   "source": [
    "%store arch_capacity_geometry_variables"
   ]
  },
  {
   "cell_type": "code",
   "execution_count": 28,
   "metadata": {},
   "outputs": [],
   "source": [
    "# def arch_capacity_geometry_variables(thickness):\n",
    "    \n",
    "#     b=1\n",
    "#     e=1/6*thickness #Mery's hypothesis\n",
    "\n",
    "#     print('b =',b, 't =',t, 'e =',e)\n",
    "\n",
    "#     return b,t,e"
   ]
  },
  {
   "cell_type": "code",
   "execution_count": 29,
   "metadata": {},
   "outputs": [],
   "source": [
    "# arch_capacity_geometry_variables()"
   ]
  },
  {
   "cell_type": "code",
   "execution_count": 30,
   "metadata": {},
   "outputs": [
    {
     "name": "stdout",
     "output_type": "stream",
     "text": [
      "Stored variables and their in-db values:\n",
      "arch_capacity_geometry_variables             -> {'b': 1, 't': 0.5, 'e': 0.08333333333333333}\n"
     ]
    }
   ],
   "source": [
    "%store"
   ]
  }
 ],
 "metadata": {
  "kernelspec": {
   "display_name": "base",
   "language": "python",
   "name": "python3"
  },
  "language_info": {
   "codemirror_mode": {
    "name": "ipython",
    "version": 3
   },
   "file_extension": ".py",
   "mimetype": "text/x-python",
   "name": "python",
   "nbconvert_exporter": "python",
   "pygments_lexer": "ipython3",
   "version": "3.9.13"
  },
  "orig_nbformat": 4,
  "vscode": {
   "interpreter": {
    "hash": "ad2bdc8ecc057115af97d19610ffacc2b4e99fae6737bb82f5d7fb13d2f2c186"
   }
  }
 },
 "nbformat": 4,
 "nbformat_minor": 2
}
