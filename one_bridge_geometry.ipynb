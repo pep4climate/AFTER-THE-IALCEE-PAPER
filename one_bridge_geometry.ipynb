{
 "cells": [
  {
   "cell_type": "code",
   "execution_count": null,
   "metadata": {},
   "outputs": [],
   "source": [
    "#For calculating arch capacity\n",
    "b=1\n",
    "t=0.50\n",
    "e=1/6*t #Mery's hypothesis\n",
    "\n",
    "arch_capacity_geometry_variables = {\"b\": b, \"t\": t, \"e\": e}\n",
    "\n",
    "%store arch_capacity_geometry_variables\n",
    "#a bridge could be also defined as a class"
   ]
  },
  {
   "cell_type": "code",
   "execution_count": null,
   "metadata": {},
   "outputs": [],
   "source": [
    "#For calculating pier capacity\n",
    "b_pier = 1\n",
    "t_pier = 1.80\n",
    "e_pier = 0 #concentric compression case\n",
    "\n",
    "pier_capacity_geometry_variables = {\"b_pier\": b_pier, \"t_pier\": t_pier, \"e_pier\": e_pier}\n",
    "\n",
    "%store pier_capacity_geometry_variables"
   ]
  },
  {
   "cell_type": "code",
   "execution_count": null,
   "metadata": {},
   "outputs": [],
   "source": [
    "#For calculating pier demand\n"
   ]
  }
 ],
 "metadata": {
  "kernelspec": {
   "display_name": "base",
   "language": "python",
   "name": "python3"
  },
  "language_info": {
   "codemirror_mode": {
    "name": "ipython",
    "version": 3
   },
   "file_extension": ".py",
   "mimetype": "text/x-python",
   "name": "python",
   "nbconvert_exporter": "python",
   "pygments_lexer": "ipython3",
   "version": "3.9.13"
  },
  "orig_nbformat": 4,
  "vscode": {
   "interpreter": {
    "hash": "ad2bdc8ecc057115af97d19610ffacc2b4e99fae6737bb82f5d7fb13d2f2c186"
   }
  }
 },
 "nbformat": 4,
 "nbformat_minor": 2
}
