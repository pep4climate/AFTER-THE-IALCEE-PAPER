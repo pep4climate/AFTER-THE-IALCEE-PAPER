{
 "cells": [
  {
   "cell_type": "code",
   "execution_count": 156,
   "metadata": {},
   "outputs": [],
   "source": [
    "import pandas as pd\n",
    "import numpy as np\n",
    "import matplotlib.pyplot as plt\n",
    "from scipy import stats"
   ]
  },
  {
   "cell_type": "code",
   "execution_count": 157,
   "metadata": {},
   "outputs": [],
   "source": [
    "springing_angle = np.radians(23.9523)"
   ]
  },
  {
   "cell_type": "code",
   "execution_count": 158,
   "metadata": {},
   "outputs": [],
   "source": [
    "def load_csv_file_pandas(filename):\n",
    "    df = pd.read_csv(filename, index_col=False)\n",
    "    return df"
   ]
  },
  {
   "attachments": {},
   "cell_type": "markdown",
   "metadata": {},
   "source": [
    "Realisations of unit weight"
   ]
  },
  {
   "cell_type": "code",
   "execution_count": 159,
   "metadata": {},
   "outputs": [],
   "source": [
    "unit_weight_realisations_vector_file_name = 'masonry_unit_weight_realisations.csv'"
   ]
  },
  {
   "cell_type": "code",
   "execution_count": 160,
   "metadata": {},
   "outputs": [],
   "source": [
    "masonry_unit_weight_df = load_csv_file_pandas(unit_weight_realisations_vector_file_name)"
   ]
  },
  {
   "cell_type": "code",
   "execution_count": 161,
   "metadata": {},
   "outputs": [
    {
     "data": {
      "text/html": [
       "<div>\n",
       "<style scoped>\n",
       "    .dataframe tbody tr th:only-of-type {\n",
       "        vertical-align: middle;\n",
       "    }\n",
       "\n",
       "    .dataframe tbody tr th {\n",
       "        vertical-align: top;\n",
       "    }\n",
       "\n",
       "    .dataframe thead th {\n",
       "        text-align: right;\n",
       "    }\n",
       "</style>\n",
       "<table border=\"1\" class=\"dataframe\">\n",
       "  <thead>\n",
       "    <tr style=\"text-align: right;\">\n",
       "      <th></th>\n",
       "      <th>masonry_unit_weight_realisations</th>\n",
       "    </tr>\n",
       "  </thead>\n",
       "  <tbody>\n",
       "    <tr>\n",
       "      <th>0</th>\n",
       "      <td>12.920002</td>\n",
       "    </tr>\n",
       "    <tr>\n",
       "      <th>1</th>\n",
       "      <td>12.963328</td>\n",
       "    </tr>\n",
       "    <tr>\n",
       "      <th>2</th>\n",
       "      <td>12.970954</td>\n",
       "    </tr>\n",
       "    <tr>\n",
       "      <th>3</th>\n",
       "      <td>13.165483</td>\n",
       "    </tr>\n",
       "    <tr>\n",
       "      <th>4</th>\n",
       "      <td>13.361498</td>\n",
       "    </tr>\n",
       "    <tr>\n",
       "      <th>...</th>\n",
       "      <td>...</td>\n",
       "    </tr>\n",
       "    <tr>\n",
       "      <th>99995</th>\n",
       "      <td>30.360103</td>\n",
       "    </tr>\n",
       "    <tr>\n",
       "      <th>99996</th>\n",
       "      <td>30.488434</td>\n",
       "    </tr>\n",
       "    <tr>\n",
       "      <th>99997</th>\n",
       "      <td>30.494073</td>\n",
       "    </tr>\n",
       "    <tr>\n",
       "      <th>99998</th>\n",
       "      <td>30.929315</td>\n",
       "    </tr>\n",
       "    <tr>\n",
       "      <th>99999</th>\n",
       "      <td>31.250848</td>\n",
       "    </tr>\n",
       "  </tbody>\n",
       "</table>\n",
       "<p>100000 rows × 1 columns</p>\n",
       "</div>"
      ],
      "text/plain": [
       "       masonry_unit_weight_realisations\n",
       "0                             12.920002\n",
       "1                             12.963328\n",
       "2                             12.970954\n",
       "3                             13.165483\n",
       "4                             13.361498\n",
       "...                                 ...\n",
       "99995                         30.360103\n",
       "99996                         30.488434\n",
       "99997                         30.494073\n",
       "99998                         30.929315\n",
       "99999                         31.250848\n",
       "\n",
       "[100000 rows x 1 columns]"
      ]
     },
     "execution_count": 161,
     "metadata": {},
     "output_type": "execute_result"
    }
   ],
   "source": [
    "masonry_unit_weight_df"
   ]
  },
  {
   "cell_type": "code",
   "execution_count": 162,
   "metadata": {},
   "outputs": [],
   "source": [
    "deterministic_reactions_file_name = 'panici_bridge_deterministic_reactions.csv'"
   ]
  },
  {
   "cell_type": "code",
   "execution_count": 163,
   "metadata": {},
   "outputs": [],
   "source": [
    "deterministic_reactions_df = load_csv_file_pandas(deterministic_reactions_file_name)"
   ]
  },
  {
   "cell_type": "code",
   "execution_count": 164,
   "metadata": {},
   "outputs": [
    {
     "data": {
      "text/html": [
       "<div>\n",
       "<style scoped>\n",
       "    .dataframe tbody tr th:only-of-type {\n",
       "        vertical-align: middle;\n",
       "    }\n",
       "\n",
       "    .dataframe tbody tr th {\n",
       "        vertical-align: top;\n",
       "    }\n",
       "\n",
       "    .dataframe thead th {\n",
       "        text-align: right;\n",
       "    }\n",
       "</style>\n",
       "<table border=\"1\" class=\"dataframe\">\n",
       "  <thead>\n",
       "    <tr style=\"text-align: right;\">\n",
       "      <th></th>\n",
       "      <th>load</th>\n",
       "      <th>reaction_x</th>\n",
       "      <th>reaction_z</th>\n",
       "    </tr>\n",
       "  </thead>\n",
       "  <tbody>\n",
       "    <tr>\n",
       "      <th>0</th>\n",
       "      <td>parapet</td>\n",
       "      <td>9.5</td>\n",
       "      <td>12.3</td>\n",
       "    </tr>\n",
       "    <tr>\n",
       "      <th>1</th>\n",
       "      <td>arch_self_weight</td>\n",
       "      <td>13.2</td>\n",
       "      <td>17.1</td>\n",
       "    </tr>\n",
       "    <tr>\n",
       "      <th>2</th>\n",
       "      <td>spandrel_wall</td>\n",
       "      <td>7.1</td>\n",
       "      <td>13.9</td>\n",
       "    </tr>\n",
       "    <tr>\n",
       "      <th>3</th>\n",
       "      <td>backfill</td>\n",
       "      <td>30.5</td>\n",
       "      <td>59.8</td>\n",
       "    </tr>\n",
       "  </tbody>\n",
       "</table>\n",
       "</div>"
      ],
      "text/plain": [
       "               load  reaction_x  reaction_z\n",
       "0           parapet         9.5        12.3\n",
       "1  arch_self_weight        13.2        17.1\n",
       "2     spandrel_wall         7.1        13.9\n",
       "3          backfill        30.5        59.8"
      ]
     },
     "execution_count": 164,
     "metadata": {},
     "output_type": "execute_result"
    }
   ],
   "source": [
    "deterministic_reactions_df"
   ]
  },
  {
   "cell_type": "code",
   "execution_count": 165,
   "metadata": {},
   "outputs": [],
   "source": [
    "masonry_unit_weight = 22"
   ]
  },
  {
   "cell_type": "code",
   "execution_count": 166,
   "metadata": {},
   "outputs": [
    {
     "name": "stdout",
     "output_type": "stream",
     "text": [
      "               load  reaction_x  reaction_z  reaction_x_unit_weight  \\\n",
      "0           parapet         9.5        12.3                0.431818   \n",
      "1  arch_self_weight        13.2        17.1                0.600000   \n",
      "2     spandrel_wall         7.1        13.9                0.322727   \n",
      "3          backfill        30.5        59.8                1.386364   \n",
      "\n",
      "   reaction_z_unit_weight  \n",
      "0                0.559091  \n",
      "1                0.777273  \n",
      "2                0.631818  \n",
      "3                2.718182  \n"
     ]
    }
   ],
   "source": [
    "def divide_and_add(df1, constant_value, Column2, Column3, Column2_divided, Column3_divided):\n",
    "    # Divide the second and third columns of df1 by constant_value\n",
    "    df1[Column2_divided] = df1[Column2] / constant_value\n",
    "    df1[Column3_divided] = df1[Column3] / constant_value\n",
    "\n",
    "    return df1\n",
    "\n",
    "constant_value = masonry_unit_weight\n",
    "df1 = deterministic_reactions_df\n",
    "\n",
    "df1_modified = divide_and_add(df1, constant_value, 'reaction_x', 'reaction_z', 'reaction_x_unit_weight', 'reaction_z_unit_weight')\n",
    "print(df1_modified)"
   ]
  },
  {
   "cell_type": "code",
   "execution_count": 167,
   "metadata": {},
   "outputs": [],
   "source": [
    "df1_column_three = 'reaction_x_unit_weight'\n",
    "df1_column_four = 'reaction_z_unit_weight'"
   ]
  },
  {
   "cell_type": "code",
   "execution_count": 168,
   "metadata": {},
   "outputs": [],
   "source": [
    "df2 = masonry_unit_weight_df"
   ]
  },
  {
   "cell_type": "code",
   "execution_count": 169,
   "metadata": {},
   "outputs": [],
   "source": [
    "df2_column_one = 'masonry_unit_weight_realisations'"
   ]
  },
  {
   "cell_type": "code",
   "execution_count": 170,
   "metadata": {},
   "outputs": [],
   "source": [
    "df3 = pd.DataFrame()"
   ]
  },
  {
   "cell_type": "code",
   "execution_count": 171,
   "metadata": {},
   "outputs": [
    {
     "data": {
      "text/html": [
       "<div>\n",
       "<style scoped>\n",
       "    .dataframe tbody tr th:only-of-type {\n",
       "        vertical-align: middle;\n",
       "    }\n",
       "\n",
       "    .dataframe tbody tr th {\n",
       "        vertical-align: top;\n",
       "    }\n",
       "\n",
       "    .dataframe thead th {\n",
       "        text-align: right;\n",
       "    }\n",
       "</style>\n",
       "<table border=\"1\" class=\"dataframe\">\n",
       "  <thead>\n",
       "    <tr style=\"text-align: right;\">\n",
       "      <th></th>\n",
       "      <th>Multiplied_Column_0</th>\n",
       "      <th>Multiplied_Column_1</th>\n",
       "      <th>Multiplied_Column_2</th>\n",
       "    </tr>\n",
       "  </thead>\n",
       "  <tbody>\n",
       "    <tr>\n",
       "      <th>0</th>\n",
       "      <td>5.579092</td>\n",
       "      <td>7.752001</td>\n",
       "      <td>4.169637</td>\n",
       "    </tr>\n",
       "    <tr>\n",
       "      <th>1</th>\n",
       "      <td>5.597801</td>\n",
       "      <td>7.777997</td>\n",
       "      <td>4.183619</td>\n",
       "    </tr>\n",
       "    <tr>\n",
       "      <th>2</th>\n",
       "      <td>5.601094</td>\n",
       "      <td>7.782572</td>\n",
       "      <td>4.186081</td>\n",
       "    </tr>\n",
       "    <tr>\n",
       "      <th>3</th>\n",
       "      <td>5.685095</td>\n",
       "      <td>7.899290</td>\n",
       "      <td>4.248861</td>\n",
       "    </tr>\n",
       "    <tr>\n",
       "      <th>4</th>\n",
       "      <td>5.769738</td>\n",
       "      <td>8.016899</td>\n",
       "      <td>4.312120</td>\n",
       "    </tr>\n",
       "    <tr>\n",
       "      <th>...</th>\n",
       "      <td>...</td>\n",
       "      <td>...</td>\n",
       "      <td>...</td>\n",
       "    </tr>\n",
       "    <tr>\n",
       "      <th>99995</th>\n",
       "      <td>13.110045</td>\n",
       "      <td>18.216062</td>\n",
       "      <td>9.798033</td>\n",
       "    </tr>\n",
       "    <tr>\n",
       "      <th>99996</th>\n",
       "      <td>13.165460</td>\n",
       "      <td>18.293060</td>\n",
       "      <td>9.839449</td>\n",
       "    </tr>\n",
       "    <tr>\n",
       "      <th>99997</th>\n",
       "      <td>13.167895</td>\n",
       "      <td>18.296444</td>\n",
       "      <td>9.841269</td>\n",
       "    </tr>\n",
       "    <tr>\n",
       "      <th>99998</th>\n",
       "      <td>13.355841</td>\n",
       "      <td>18.557589</td>\n",
       "      <td>9.981733</td>\n",
       "    </tr>\n",
       "    <tr>\n",
       "      <th>99999</th>\n",
       "      <td>13.494684</td>\n",
       "      <td>18.750509</td>\n",
       "      <td>10.085501</td>\n",
       "    </tr>\n",
       "  </tbody>\n",
       "</table>\n",
       "<p>100000 rows × 3 columns</p>\n",
       "</div>"
      ],
      "text/plain": [
       "       Multiplied_Column_0  Multiplied_Column_1  Multiplied_Column_2\n",
       "0                 5.579092             7.752001             4.169637\n",
       "1                 5.597801             7.777997             4.183619\n",
       "2                 5.601094             7.782572             4.186081\n",
       "3                 5.685095             7.899290             4.248861\n",
       "4                 5.769738             8.016899             4.312120\n",
       "...                    ...                  ...                  ...\n",
       "99995            13.110045            18.216062             9.798033\n",
       "99996            13.165460            18.293060             9.839449\n",
       "99997            13.167895            18.296444             9.841269\n",
       "99998            13.355841            18.557589             9.981733\n",
       "99999            13.494684            18.750509            10.085501\n",
       "\n",
       "[100000 rows x 3 columns]"
      ]
     },
     "execution_count": 171,
     "metadata": {},
     "output_type": "execute_result"
    }
   ],
   "source": [
    "for index, row in df1_modified.iloc[:3].iterrows():\n",
    "    value = row[df1_column_three] \n",
    "    multiplied_values = value * df2[df2_column_one]\n",
    "    df3[f'Multiplied_Column_{index}'] = multiplied_values\n",
    "df3"
   ]
  },
  {
   "cell_type": "code",
   "execution_count": 172,
   "metadata": {},
   "outputs": [],
   "source": [
    "df4 = pd.DataFrame()"
   ]
  },
  {
   "cell_type": "code",
   "execution_count": 173,
   "metadata": {},
   "outputs": [
    {
     "data": {
      "text/html": [
       "<div>\n",
       "<style scoped>\n",
       "    .dataframe tbody tr th:only-of-type {\n",
       "        vertical-align: middle;\n",
       "    }\n",
       "\n",
       "    .dataframe tbody tr th {\n",
       "        vertical-align: top;\n",
       "    }\n",
       "\n",
       "    .dataframe thead th {\n",
       "        text-align: right;\n",
       "    }\n",
       "</style>\n",
       "<table border=\"1\" class=\"dataframe\">\n",
       "  <thead>\n",
       "    <tr style=\"text-align: right;\">\n",
       "      <th></th>\n",
       "      <th>Multiplied_Column_0</th>\n",
       "      <th>Multiplied_Column_1</th>\n",
       "      <th>Multiplied_Column_2</th>\n",
       "    </tr>\n",
       "  </thead>\n",
       "  <tbody>\n",
       "    <tr>\n",
       "      <th>0</th>\n",
       "      <td>7.223455</td>\n",
       "      <td>10.042365</td>\n",
       "      <td>8.163092</td>\n",
       "    </tr>\n",
       "    <tr>\n",
       "      <th>1</th>\n",
       "      <td>7.247679</td>\n",
       "      <td>10.076041</td>\n",
       "      <td>8.190466</td>\n",
       "    </tr>\n",
       "    <tr>\n",
       "      <th>2</th>\n",
       "      <td>7.251942</td>\n",
       "      <td>10.081969</td>\n",
       "      <td>8.195284</td>\n",
       "    </tr>\n",
       "    <tr>\n",
       "      <th>3</th>\n",
       "      <td>7.360702</td>\n",
       "      <td>10.233171</td>\n",
       "      <td>8.318192</td>\n",
       "    </tr>\n",
       "    <tr>\n",
       "      <th>4</th>\n",
       "      <td>7.470292</td>\n",
       "      <td>10.385528</td>\n",
       "      <td>8.442038</td>\n",
       "    </tr>\n",
       "    <tr>\n",
       "      <th>...</th>\n",
       "      <td>...</td>\n",
       "      <td>...</td>\n",
       "      <td>...</td>\n",
       "    </tr>\n",
       "    <tr>\n",
       "      <th>99995</th>\n",
       "      <td>16.974058</td>\n",
       "      <td>23.598080</td>\n",
       "      <td>19.182065</td>\n",
       "    </tr>\n",
       "    <tr>\n",
       "      <th>99996</th>\n",
       "      <td>17.045806</td>\n",
       "      <td>23.697828</td>\n",
       "      <td>19.263147</td>\n",
       "    </tr>\n",
       "    <tr>\n",
       "      <th>99997</th>\n",
       "      <td>17.048959</td>\n",
       "      <td>23.702212</td>\n",
       "      <td>19.266710</td>\n",
       "    </tr>\n",
       "    <tr>\n",
       "      <th>99998</th>\n",
       "      <td>17.292299</td>\n",
       "      <td>24.040513</td>\n",
       "      <td>19.541704</td>\n",
       "    </tr>\n",
       "    <tr>\n",
       "      <th>99999</th>\n",
       "      <td>17.472065</td>\n",
       "      <td>24.290432</td>\n",
       "      <td>19.744854</td>\n",
       "    </tr>\n",
       "  </tbody>\n",
       "</table>\n",
       "<p>100000 rows × 3 columns</p>\n",
       "</div>"
      ],
      "text/plain": [
       "       Multiplied_Column_0  Multiplied_Column_1  Multiplied_Column_2\n",
       "0                 7.223455            10.042365             8.163092\n",
       "1                 7.247679            10.076041             8.190466\n",
       "2                 7.251942            10.081969             8.195284\n",
       "3                 7.360702            10.233171             8.318192\n",
       "4                 7.470292            10.385528             8.442038\n",
       "...                    ...                  ...                  ...\n",
       "99995            16.974058            23.598080            19.182065\n",
       "99996            17.045806            23.697828            19.263147\n",
       "99997            17.048959            23.702212            19.266710\n",
       "99998            17.292299            24.040513            19.541704\n",
       "99999            17.472065            24.290432            19.744854\n",
       "\n",
       "[100000 rows x 3 columns]"
      ]
     },
     "execution_count": 173,
     "metadata": {},
     "output_type": "execute_result"
    }
   ],
   "source": [
    "for index, row in df1_modified.iloc[:3].iterrows():\n",
    "    value = row[df1_column_four] \n",
    "    multiplied_values = value * df2[df2_column_one]\n",
    "    df4[f'Multiplied_Column_{index}'] = multiplied_values\n",
    "df4"
   ]
  },
  {
   "cell_type": "code",
   "execution_count": 174,
   "metadata": {},
   "outputs": [],
   "source": [
    "probabilistic_reactions_df = pd.concat([df3, df4], axis = 1)"
   ]
  },
  {
   "cell_type": "code",
   "execution_count": 175,
   "metadata": {},
   "outputs": [
    {
     "data": {
      "text/html": [
       "<div>\n",
       "<style scoped>\n",
       "    .dataframe tbody tr th:only-of-type {\n",
       "        vertical-align: middle;\n",
       "    }\n",
       "\n",
       "    .dataframe tbody tr th {\n",
       "        vertical-align: top;\n",
       "    }\n",
       "\n",
       "    .dataframe thead th {\n",
       "        text-align: right;\n",
       "    }\n",
       "</style>\n",
       "<table border=\"1\" class=\"dataframe\">\n",
       "  <thead>\n",
       "    <tr style=\"text-align: right;\">\n",
       "      <th></th>\n",
       "      <th>Multiplied_Column_0</th>\n",
       "      <th>Multiplied_Column_1</th>\n",
       "      <th>Multiplied_Column_2</th>\n",
       "      <th>Multiplied_Column_0</th>\n",
       "      <th>Multiplied_Column_1</th>\n",
       "      <th>Multiplied_Column_2</th>\n",
       "    </tr>\n",
       "  </thead>\n",
       "  <tbody>\n",
       "    <tr>\n",
       "      <th>0</th>\n",
       "      <td>5.579092</td>\n",
       "      <td>7.752001</td>\n",
       "      <td>4.169637</td>\n",
       "      <td>7.223455</td>\n",
       "      <td>10.042365</td>\n",
       "      <td>8.163092</td>\n",
       "    </tr>\n",
       "    <tr>\n",
       "      <th>1</th>\n",
       "      <td>5.597801</td>\n",
       "      <td>7.777997</td>\n",
       "      <td>4.183619</td>\n",
       "      <td>7.247679</td>\n",
       "      <td>10.076041</td>\n",
       "      <td>8.190466</td>\n",
       "    </tr>\n",
       "    <tr>\n",
       "      <th>2</th>\n",
       "      <td>5.601094</td>\n",
       "      <td>7.782572</td>\n",
       "      <td>4.186081</td>\n",
       "      <td>7.251942</td>\n",
       "      <td>10.081969</td>\n",
       "      <td>8.195284</td>\n",
       "    </tr>\n",
       "    <tr>\n",
       "      <th>3</th>\n",
       "      <td>5.685095</td>\n",
       "      <td>7.899290</td>\n",
       "      <td>4.248861</td>\n",
       "      <td>7.360702</td>\n",
       "      <td>10.233171</td>\n",
       "      <td>8.318192</td>\n",
       "    </tr>\n",
       "    <tr>\n",
       "      <th>4</th>\n",
       "      <td>5.769738</td>\n",
       "      <td>8.016899</td>\n",
       "      <td>4.312120</td>\n",
       "      <td>7.470292</td>\n",
       "      <td>10.385528</td>\n",
       "      <td>8.442038</td>\n",
       "    </tr>\n",
       "    <tr>\n",
       "      <th>...</th>\n",
       "      <td>...</td>\n",
       "      <td>...</td>\n",
       "      <td>...</td>\n",
       "      <td>...</td>\n",
       "      <td>...</td>\n",
       "      <td>...</td>\n",
       "    </tr>\n",
       "    <tr>\n",
       "      <th>99995</th>\n",
       "      <td>13.110045</td>\n",
       "      <td>18.216062</td>\n",
       "      <td>9.798033</td>\n",
       "      <td>16.974058</td>\n",
       "      <td>23.598080</td>\n",
       "      <td>19.182065</td>\n",
       "    </tr>\n",
       "    <tr>\n",
       "      <th>99996</th>\n",
       "      <td>13.165460</td>\n",
       "      <td>18.293060</td>\n",
       "      <td>9.839449</td>\n",
       "      <td>17.045806</td>\n",
       "      <td>23.697828</td>\n",
       "      <td>19.263147</td>\n",
       "    </tr>\n",
       "    <tr>\n",
       "      <th>99997</th>\n",
       "      <td>13.167895</td>\n",
       "      <td>18.296444</td>\n",
       "      <td>9.841269</td>\n",
       "      <td>17.048959</td>\n",
       "      <td>23.702212</td>\n",
       "      <td>19.266710</td>\n",
       "    </tr>\n",
       "    <tr>\n",
       "      <th>99998</th>\n",
       "      <td>13.355841</td>\n",
       "      <td>18.557589</td>\n",
       "      <td>9.981733</td>\n",
       "      <td>17.292299</td>\n",
       "      <td>24.040513</td>\n",
       "      <td>19.541704</td>\n",
       "    </tr>\n",
       "    <tr>\n",
       "      <th>99999</th>\n",
       "      <td>13.494684</td>\n",
       "      <td>18.750509</td>\n",
       "      <td>10.085501</td>\n",
       "      <td>17.472065</td>\n",
       "      <td>24.290432</td>\n",
       "      <td>19.744854</td>\n",
       "    </tr>\n",
       "  </tbody>\n",
       "</table>\n",
       "<p>100000 rows × 6 columns</p>\n",
       "</div>"
      ],
      "text/plain": [
       "       Multiplied_Column_0  Multiplied_Column_1  Multiplied_Column_2  \\\n",
       "0                 5.579092             7.752001             4.169637   \n",
       "1                 5.597801             7.777997             4.183619   \n",
       "2                 5.601094             7.782572             4.186081   \n",
       "3                 5.685095             7.899290             4.248861   \n",
       "4                 5.769738             8.016899             4.312120   \n",
       "...                    ...                  ...                  ...   \n",
       "99995            13.110045            18.216062             9.798033   \n",
       "99996            13.165460            18.293060             9.839449   \n",
       "99997            13.167895            18.296444             9.841269   \n",
       "99998            13.355841            18.557589             9.981733   \n",
       "99999            13.494684            18.750509            10.085501   \n",
       "\n",
       "       Multiplied_Column_0  Multiplied_Column_1  Multiplied_Column_2  \n",
       "0                 7.223455            10.042365             8.163092  \n",
       "1                 7.247679            10.076041             8.190466  \n",
       "2                 7.251942            10.081969             8.195284  \n",
       "3                 7.360702            10.233171             8.318192  \n",
       "4                 7.470292            10.385528             8.442038  \n",
       "...                    ...                  ...                  ...  \n",
       "99995            16.974058            23.598080            19.182065  \n",
       "99996            17.045806            23.697828            19.263147  \n",
       "99997            17.048959            23.702212            19.266710  \n",
       "99998            17.292299            24.040513            19.541704  \n",
       "99999            17.472065            24.290432            19.744854  \n",
       "\n",
       "[100000 rows x 6 columns]"
      ]
     },
     "execution_count": 175,
     "metadata": {},
     "output_type": "execute_result"
    }
   ],
   "source": [
    "probabilistic_reactions_df"
   ]
  },
  {
   "cell_type": "code",
   "execution_count": 176,
   "metadata": {},
   "outputs": [],
   "source": [
    "probabilistic_reactions_df.columns = ['parapet_reaction_x',\n",
    "                                      'arch_self_weight_reaction_x',\n",
    "                                      'spandrel_wall_reaction_x',\n",
    "                                      'parapet_reaction_z',\n",
    "                                      'arch_self_weight_reaction_z',\n",
    "                                      'spandrel_wall_reaction_z']"
   ]
  },
  {
   "cell_type": "code",
   "execution_count": 177,
   "metadata": {},
   "outputs": [
    {
     "data": {
      "text/html": [
       "<div>\n",
       "<style scoped>\n",
       "    .dataframe tbody tr th:only-of-type {\n",
       "        vertical-align: middle;\n",
       "    }\n",
       "\n",
       "    .dataframe tbody tr th {\n",
       "        vertical-align: top;\n",
       "    }\n",
       "\n",
       "    .dataframe thead th {\n",
       "        text-align: right;\n",
       "    }\n",
       "</style>\n",
       "<table border=\"1\" class=\"dataframe\">\n",
       "  <thead>\n",
       "    <tr style=\"text-align: right;\">\n",
       "      <th></th>\n",
       "      <th>parapet_reaction_x</th>\n",
       "      <th>arch_self_weight_reaction_x</th>\n",
       "      <th>spandrel_wall_reaction_x</th>\n",
       "      <th>parapet_reaction_z</th>\n",
       "      <th>arch_self_weight_reaction_z</th>\n",
       "      <th>spandrel_wall_reaction_z</th>\n",
       "    </tr>\n",
       "  </thead>\n",
       "  <tbody>\n",
       "    <tr>\n",
       "      <th>0</th>\n",
       "      <td>5.579092</td>\n",
       "      <td>7.752001</td>\n",
       "      <td>4.169637</td>\n",
       "      <td>7.223455</td>\n",
       "      <td>10.042365</td>\n",
       "      <td>8.163092</td>\n",
       "    </tr>\n",
       "    <tr>\n",
       "      <th>1</th>\n",
       "      <td>5.597801</td>\n",
       "      <td>7.777997</td>\n",
       "      <td>4.183619</td>\n",
       "      <td>7.247679</td>\n",
       "      <td>10.076041</td>\n",
       "      <td>8.190466</td>\n",
       "    </tr>\n",
       "    <tr>\n",
       "      <th>2</th>\n",
       "      <td>5.601094</td>\n",
       "      <td>7.782572</td>\n",
       "      <td>4.186081</td>\n",
       "      <td>7.251942</td>\n",
       "      <td>10.081969</td>\n",
       "      <td>8.195284</td>\n",
       "    </tr>\n",
       "    <tr>\n",
       "      <th>3</th>\n",
       "      <td>5.685095</td>\n",
       "      <td>7.899290</td>\n",
       "      <td>4.248861</td>\n",
       "      <td>7.360702</td>\n",
       "      <td>10.233171</td>\n",
       "      <td>8.318192</td>\n",
       "    </tr>\n",
       "    <tr>\n",
       "      <th>4</th>\n",
       "      <td>5.769738</td>\n",
       "      <td>8.016899</td>\n",
       "      <td>4.312120</td>\n",
       "      <td>7.470292</td>\n",
       "      <td>10.385528</td>\n",
       "      <td>8.442038</td>\n",
       "    </tr>\n",
       "    <tr>\n",
       "      <th>...</th>\n",
       "      <td>...</td>\n",
       "      <td>...</td>\n",
       "      <td>...</td>\n",
       "      <td>...</td>\n",
       "      <td>...</td>\n",
       "      <td>...</td>\n",
       "    </tr>\n",
       "    <tr>\n",
       "      <th>99995</th>\n",
       "      <td>13.110045</td>\n",
       "      <td>18.216062</td>\n",
       "      <td>9.798033</td>\n",
       "      <td>16.974058</td>\n",
       "      <td>23.598080</td>\n",
       "      <td>19.182065</td>\n",
       "    </tr>\n",
       "    <tr>\n",
       "      <th>99996</th>\n",
       "      <td>13.165460</td>\n",
       "      <td>18.293060</td>\n",
       "      <td>9.839449</td>\n",
       "      <td>17.045806</td>\n",
       "      <td>23.697828</td>\n",
       "      <td>19.263147</td>\n",
       "    </tr>\n",
       "    <tr>\n",
       "      <th>99997</th>\n",
       "      <td>13.167895</td>\n",
       "      <td>18.296444</td>\n",
       "      <td>9.841269</td>\n",
       "      <td>17.048959</td>\n",
       "      <td>23.702212</td>\n",
       "      <td>19.266710</td>\n",
       "    </tr>\n",
       "    <tr>\n",
       "      <th>99998</th>\n",
       "      <td>13.355841</td>\n",
       "      <td>18.557589</td>\n",
       "      <td>9.981733</td>\n",
       "      <td>17.292299</td>\n",
       "      <td>24.040513</td>\n",
       "      <td>19.541704</td>\n",
       "    </tr>\n",
       "    <tr>\n",
       "      <th>99999</th>\n",
       "      <td>13.494684</td>\n",
       "      <td>18.750509</td>\n",
       "      <td>10.085501</td>\n",
       "      <td>17.472065</td>\n",
       "      <td>24.290432</td>\n",
       "      <td>19.744854</td>\n",
       "    </tr>\n",
       "  </tbody>\n",
       "</table>\n",
       "<p>100000 rows × 6 columns</p>\n",
       "</div>"
      ],
      "text/plain": [
       "       parapet_reaction_x  arch_self_weight_reaction_x  \\\n",
       "0                5.579092                     7.752001   \n",
       "1                5.597801                     7.777997   \n",
       "2                5.601094                     7.782572   \n",
       "3                5.685095                     7.899290   \n",
       "4                5.769738                     8.016899   \n",
       "...                   ...                          ...   \n",
       "99995           13.110045                    18.216062   \n",
       "99996           13.165460                    18.293060   \n",
       "99997           13.167895                    18.296444   \n",
       "99998           13.355841                    18.557589   \n",
       "99999           13.494684                    18.750509   \n",
       "\n",
       "       spandrel_wall_reaction_x  parapet_reaction_z  \\\n",
       "0                      4.169637            7.223455   \n",
       "1                      4.183619            7.247679   \n",
       "2                      4.186081            7.251942   \n",
       "3                      4.248861            7.360702   \n",
       "4                      4.312120            7.470292   \n",
       "...                         ...                 ...   \n",
       "99995                  9.798033           16.974058   \n",
       "99996                  9.839449           17.045806   \n",
       "99997                  9.841269           17.048959   \n",
       "99998                  9.981733           17.292299   \n",
       "99999                 10.085501           17.472065   \n",
       "\n",
       "       arch_self_weight_reaction_z  spandrel_wall_reaction_z  \n",
       "0                        10.042365                  8.163092  \n",
       "1                        10.076041                  8.190466  \n",
       "2                        10.081969                  8.195284  \n",
       "3                        10.233171                  8.318192  \n",
       "4                        10.385528                  8.442038  \n",
       "...                            ...                       ...  \n",
       "99995                    23.598080                 19.182065  \n",
       "99996                    23.697828                 19.263147  \n",
       "99997                    23.702212                 19.266710  \n",
       "99998                    24.040513                 19.541704  \n",
       "99999                    24.290432                 19.744854  \n",
       "\n",
       "[100000 rows x 6 columns]"
      ]
     },
     "execution_count": 177,
     "metadata": {},
     "output_type": "execute_result"
    }
   ],
   "source": [
    "probabilistic_reactions_df"
   ]
  },
  {
   "cell_type": "code",
   "execution_count": 178,
   "metadata": {},
   "outputs": [
    {
     "data": {
      "text/html": [
       "<div>\n",
       "<style scoped>\n",
       "    .dataframe tbody tr th:only-of-type {\n",
       "        vertical-align: middle;\n",
       "    }\n",
       "\n",
       "    .dataframe tbody tr th {\n",
       "        vertical-align: top;\n",
       "    }\n",
       "\n",
       "    .dataframe thead th {\n",
       "        text-align: right;\n",
       "    }\n",
       "</style>\n",
       "<table border=\"1\" class=\"dataframe\">\n",
       "  <thead>\n",
       "    <tr style=\"text-align: right;\">\n",
       "      <th></th>\n",
       "      <th>parapet_reaction_x</th>\n",
       "      <th>arch_self_weight_reaction_x</th>\n",
       "      <th>spandrel_wall_reaction_x</th>\n",
       "      <th>parapet_reaction_z</th>\n",
       "      <th>arch_self_weight_reaction_z</th>\n",
       "      <th>spandrel_wall_reaction_z</th>\n",
       "      <th>backfill_reaction_x</th>\n",
       "    </tr>\n",
       "  </thead>\n",
       "  <tbody>\n",
       "    <tr>\n",
       "      <th>0</th>\n",
       "      <td>5.579092</td>\n",
       "      <td>7.752001</td>\n",
       "      <td>4.169637</td>\n",
       "      <td>7.223455</td>\n",
       "      <td>10.042365</td>\n",
       "      <td>8.163092</td>\n",
       "      <td>30.5</td>\n",
       "    </tr>\n",
       "    <tr>\n",
       "      <th>1</th>\n",
       "      <td>5.597801</td>\n",
       "      <td>7.777997</td>\n",
       "      <td>4.183619</td>\n",
       "      <td>7.247679</td>\n",
       "      <td>10.076041</td>\n",
       "      <td>8.190466</td>\n",
       "      <td>30.5</td>\n",
       "    </tr>\n",
       "    <tr>\n",
       "      <th>2</th>\n",
       "      <td>5.601094</td>\n",
       "      <td>7.782572</td>\n",
       "      <td>4.186081</td>\n",
       "      <td>7.251942</td>\n",
       "      <td>10.081969</td>\n",
       "      <td>8.195284</td>\n",
       "      <td>30.5</td>\n",
       "    </tr>\n",
       "    <tr>\n",
       "      <th>3</th>\n",
       "      <td>5.685095</td>\n",
       "      <td>7.899290</td>\n",
       "      <td>4.248861</td>\n",
       "      <td>7.360702</td>\n",
       "      <td>10.233171</td>\n",
       "      <td>8.318192</td>\n",
       "      <td>30.5</td>\n",
       "    </tr>\n",
       "    <tr>\n",
       "      <th>4</th>\n",
       "      <td>5.769738</td>\n",
       "      <td>8.016899</td>\n",
       "      <td>4.312120</td>\n",
       "      <td>7.470292</td>\n",
       "      <td>10.385528</td>\n",
       "      <td>8.442038</td>\n",
       "      <td>30.5</td>\n",
       "    </tr>\n",
       "    <tr>\n",
       "      <th>...</th>\n",
       "      <td>...</td>\n",
       "      <td>...</td>\n",
       "      <td>...</td>\n",
       "      <td>...</td>\n",
       "      <td>...</td>\n",
       "      <td>...</td>\n",
       "      <td>...</td>\n",
       "    </tr>\n",
       "    <tr>\n",
       "      <th>99995</th>\n",
       "      <td>13.110045</td>\n",
       "      <td>18.216062</td>\n",
       "      <td>9.798033</td>\n",
       "      <td>16.974058</td>\n",
       "      <td>23.598080</td>\n",
       "      <td>19.182065</td>\n",
       "      <td>30.5</td>\n",
       "    </tr>\n",
       "    <tr>\n",
       "      <th>99996</th>\n",
       "      <td>13.165460</td>\n",
       "      <td>18.293060</td>\n",
       "      <td>9.839449</td>\n",
       "      <td>17.045806</td>\n",
       "      <td>23.697828</td>\n",
       "      <td>19.263147</td>\n",
       "      <td>30.5</td>\n",
       "    </tr>\n",
       "    <tr>\n",
       "      <th>99997</th>\n",
       "      <td>13.167895</td>\n",
       "      <td>18.296444</td>\n",
       "      <td>9.841269</td>\n",
       "      <td>17.048959</td>\n",
       "      <td>23.702212</td>\n",
       "      <td>19.266710</td>\n",
       "      <td>30.5</td>\n",
       "    </tr>\n",
       "    <tr>\n",
       "      <th>99998</th>\n",
       "      <td>13.355841</td>\n",
       "      <td>18.557589</td>\n",
       "      <td>9.981733</td>\n",
       "      <td>17.292299</td>\n",
       "      <td>24.040513</td>\n",
       "      <td>19.541704</td>\n",
       "      <td>30.5</td>\n",
       "    </tr>\n",
       "    <tr>\n",
       "      <th>99999</th>\n",
       "      <td>13.494684</td>\n",
       "      <td>18.750509</td>\n",
       "      <td>10.085501</td>\n",
       "      <td>17.472065</td>\n",
       "      <td>24.290432</td>\n",
       "      <td>19.744854</td>\n",
       "      <td>30.5</td>\n",
       "    </tr>\n",
       "  </tbody>\n",
       "</table>\n",
       "<p>100000 rows × 7 columns</p>\n",
       "</div>"
      ],
      "text/plain": [
       "       parapet_reaction_x  arch_self_weight_reaction_x  \\\n",
       "0                5.579092                     7.752001   \n",
       "1                5.597801                     7.777997   \n",
       "2                5.601094                     7.782572   \n",
       "3                5.685095                     7.899290   \n",
       "4                5.769738                     8.016899   \n",
       "...                   ...                          ...   \n",
       "99995           13.110045                    18.216062   \n",
       "99996           13.165460                    18.293060   \n",
       "99997           13.167895                    18.296444   \n",
       "99998           13.355841                    18.557589   \n",
       "99999           13.494684                    18.750509   \n",
       "\n",
       "       spandrel_wall_reaction_x  parapet_reaction_z  \\\n",
       "0                      4.169637            7.223455   \n",
       "1                      4.183619            7.247679   \n",
       "2                      4.186081            7.251942   \n",
       "3                      4.248861            7.360702   \n",
       "4                      4.312120            7.470292   \n",
       "...                         ...                 ...   \n",
       "99995                  9.798033           16.974058   \n",
       "99996                  9.839449           17.045806   \n",
       "99997                  9.841269           17.048959   \n",
       "99998                  9.981733           17.292299   \n",
       "99999                 10.085501           17.472065   \n",
       "\n",
       "       arch_self_weight_reaction_z  spandrel_wall_reaction_z  \\\n",
       "0                        10.042365                  8.163092   \n",
       "1                        10.076041                  8.190466   \n",
       "2                        10.081969                  8.195284   \n",
       "3                        10.233171                  8.318192   \n",
       "4                        10.385528                  8.442038   \n",
       "...                            ...                       ...   \n",
       "99995                    23.598080                 19.182065   \n",
       "99996                    23.697828                 19.263147   \n",
       "99997                    23.702212                 19.266710   \n",
       "99998                    24.040513                 19.541704   \n",
       "99999                    24.290432                 19.744854   \n",
       "\n",
       "       backfill_reaction_x  \n",
       "0                     30.5  \n",
       "1                     30.5  \n",
       "2                     30.5  \n",
       "3                     30.5  \n",
       "4                     30.5  \n",
       "...                    ...  \n",
       "99995                 30.5  \n",
       "99996                 30.5  \n",
       "99997                 30.5  \n",
       "99998                 30.5  \n",
       "99999                 30.5  \n",
       "\n",
       "[100000 rows x 7 columns]"
      ]
     },
     "execution_count": 178,
     "metadata": {},
     "output_type": "execute_result"
    }
   ],
   "source": [
    "probabilistic_reactions_df['backfill_reaction_x'] = probabilistic_reactions_df['parapet_reaction_x']\n",
    "probabilistic_reactions_df['backfill_reaction_x'] = deterministic_reactions_df['reaction_x'][3]\n",
    "probabilistic_reactions_df"
   ]
  },
  {
   "cell_type": "code",
   "execution_count": 179,
   "metadata": {},
   "outputs": [],
   "source": [
    "last_column = probabilistic_reactions_df.columns[-1]"
   ]
  },
  {
   "cell_type": "code",
   "execution_count": 180,
   "metadata": {},
   "outputs": [],
   "source": [
    "target_position = 3"
   ]
  },
  {
   "cell_type": "code",
   "execution_count": 181,
   "metadata": {},
   "outputs": [],
   "source": [
    "column_to_move = probabilistic_reactions_df.pop(last_column)"
   ]
  },
  {
   "cell_type": "code",
   "execution_count": 182,
   "metadata": {},
   "outputs": [],
   "source": [
    "probabilistic_reactions_df.insert(target_position, last_column, column_to_move)"
   ]
  },
  {
   "cell_type": "code",
   "execution_count": 183,
   "metadata": {},
   "outputs": [
    {
     "data": {
      "text/html": [
       "<div>\n",
       "<style scoped>\n",
       "    .dataframe tbody tr th:only-of-type {\n",
       "        vertical-align: middle;\n",
       "    }\n",
       "\n",
       "    .dataframe tbody tr th {\n",
       "        vertical-align: top;\n",
       "    }\n",
       "\n",
       "    .dataframe thead th {\n",
       "        text-align: right;\n",
       "    }\n",
       "</style>\n",
       "<table border=\"1\" class=\"dataframe\">\n",
       "  <thead>\n",
       "    <tr style=\"text-align: right;\">\n",
       "      <th></th>\n",
       "      <th>parapet_reaction_x</th>\n",
       "      <th>arch_self_weight_reaction_x</th>\n",
       "      <th>spandrel_wall_reaction_x</th>\n",
       "      <th>backfill_reaction_x</th>\n",
       "      <th>parapet_reaction_z</th>\n",
       "      <th>arch_self_weight_reaction_z</th>\n",
       "      <th>spandrel_wall_reaction_z</th>\n",
       "    </tr>\n",
       "  </thead>\n",
       "  <tbody>\n",
       "    <tr>\n",
       "      <th>0</th>\n",
       "      <td>5.579092</td>\n",
       "      <td>7.752001</td>\n",
       "      <td>4.169637</td>\n",
       "      <td>30.5</td>\n",
       "      <td>7.223455</td>\n",
       "      <td>10.042365</td>\n",
       "      <td>8.163092</td>\n",
       "    </tr>\n",
       "    <tr>\n",
       "      <th>1</th>\n",
       "      <td>5.597801</td>\n",
       "      <td>7.777997</td>\n",
       "      <td>4.183619</td>\n",
       "      <td>30.5</td>\n",
       "      <td>7.247679</td>\n",
       "      <td>10.076041</td>\n",
       "      <td>8.190466</td>\n",
       "    </tr>\n",
       "    <tr>\n",
       "      <th>2</th>\n",
       "      <td>5.601094</td>\n",
       "      <td>7.782572</td>\n",
       "      <td>4.186081</td>\n",
       "      <td>30.5</td>\n",
       "      <td>7.251942</td>\n",
       "      <td>10.081969</td>\n",
       "      <td>8.195284</td>\n",
       "    </tr>\n",
       "    <tr>\n",
       "      <th>3</th>\n",
       "      <td>5.685095</td>\n",
       "      <td>7.899290</td>\n",
       "      <td>4.248861</td>\n",
       "      <td>30.5</td>\n",
       "      <td>7.360702</td>\n",
       "      <td>10.233171</td>\n",
       "      <td>8.318192</td>\n",
       "    </tr>\n",
       "    <tr>\n",
       "      <th>4</th>\n",
       "      <td>5.769738</td>\n",
       "      <td>8.016899</td>\n",
       "      <td>4.312120</td>\n",
       "      <td>30.5</td>\n",
       "      <td>7.470292</td>\n",
       "      <td>10.385528</td>\n",
       "      <td>8.442038</td>\n",
       "    </tr>\n",
       "    <tr>\n",
       "      <th>...</th>\n",
       "      <td>...</td>\n",
       "      <td>...</td>\n",
       "      <td>...</td>\n",
       "      <td>...</td>\n",
       "      <td>...</td>\n",
       "      <td>...</td>\n",
       "      <td>...</td>\n",
       "    </tr>\n",
       "    <tr>\n",
       "      <th>99995</th>\n",
       "      <td>13.110045</td>\n",
       "      <td>18.216062</td>\n",
       "      <td>9.798033</td>\n",
       "      <td>30.5</td>\n",
       "      <td>16.974058</td>\n",
       "      <td>23.598080</td>\n",
       "      <td>19.182065</td>\n",
       "    </tr>\n",
       "    <tr>\n",
       "      <th>99996</th>\n",
       "      <td>13.165460</td>\n",
       "      <td>18.293060</td>\n",
       "      <td>9.839449</td>\n",
       "      <td>30.5</td>\n",
       "      <td>17.045806</td>\n",
       "      <td>23.697828</td>\n",
       "      <td>19.263147</td>\n",
       "    </tr>\n",
       "    <tr>\n",
       "      <th>99997</th>\n",
       "      <td>13.167895</td>\n",
       "      <td>18.296444</td>\n",
       "      <td>9.841269</td>\n",
       "      <td>30.5</td>\n",
       "      <td>17.048959</td>\n",
       "      <td>23.702212</td>\n",
       "      <td>19.266710</td>\n",
       "    </tr>\n",
       "    <tr>\n",
       "      <th>99998</th>\n",
       "      <td>13.355841</td>\n",
       "      <td>18.557589</td>\n",
       "      <td>9.981733</td>\n",
       "      <td>30.5</td>\n",
       "      <td>17.292299</td>\n",
       "      <td>24.040513</td>\n",
       "      <td>19.541704</td>\n",
       "    </tr>\n",
       "    <tr>\n",
       "      <th>99999</th>\n",
       "      <td>13.494684</td>\n",
       "      <td>18.750509</td>\n",
       "      <td>10.085501</td>\n",
       "      <td>30.5</td>\n",
       "      <td>17.472065</td>\n",
       "      <td>24.290432</td>\n",
       "      <td>19.744854</td>\n",
       "    </tr>\n",
       "  </tbody>\n",
       "</table>\n",
       "<p>100000 rows × 7 columns</p>\n",
       "</div>"
      ],
      "text/plain": [
       "       parapet_reaction_x  arch_self_weight_reaction_x  \\\n",
       "0                5.579092                     7.752001   \n",
       "1                5.597801                     7.777997   \n",
       "2                5.601094                     7.782572   \n",
       "3                5.685095                     7.899290   \n",
       "4                5.769738                     8.016899   \n",
       "...                   ...                          ...   \n",
       "99995           13.110045                    18.216062   \n",
       "99996           13.165460                    18.293060   \n",
       "99997           13.167895                    18.296444   \n",
       "99998           13.355841                    18.557589   \n",
       "99999           13.494684                    18.750509   \n",
       "\n",
       "       spandrel_wall_reaction_x  backfill_reaction_x  parapet_reaction_z  \\\n",
       "0                      4.169637                 30.5            7.223455   \n",
       "1                      4.183619                 30.5            7.247679   \n",
       "2                      4.186081                 30.5            7.251942   \n",
       "3                      4.248861                 30.5            7.360702   \n",
       "4                      4.312120                 30.5            7.470292   \n",
       "...                         ...                  ...                 ...   \n",
       "99995                  9.798033                 30.5           16.974058   \n",
       "99996                  9.839449                 30.5           17.045806   \n",
       "99997                  9.841269                 30.5           17.048959   \n",
       "99998                  9.981733                 30.5           17.292299   \n",
       "99999                 10.085501                 30.5           17.472065   \n",
       "\n",
       "       arch_self_weight_reaction_z  spandrel_wall_reaction_z  \n",
       "0                        10.042365                  8.163092  \n",
       "1                        10.076041                  8.190466  \n",
       "2                        10.081969                  8.195284  \n",
       "3                        10.233171                  8.318192  \n",
       "4                        10.385528                  8.442038  \n",
       "...                            ...                       ...  \n",
       "99995                    23.598080                 19.182065  \n",
       "99996                    23.697828                 19.263147  \n",
       "99997                    23.702212                 19.266710  \n",
       "99998                    24.040513                 19.541704  \n",
       "99999                    24.290432                 19.744854  \n",
       "\n",
       "[100000 rows x 7 columns]"
      ]
     },
     "execution_count": 183,
     "metadata": {},
     "output_type": "execute_result"
    }
   ],
   "source": [
    "probabilistic_reactions_df"
   ]
  },
  {
   "cell_type": "code",
   "execution_count": 184,
   "metadata": {},
   "outputs": [
    {
     "data": {
      "text/html": [
       "<div>\n",
       "<style scoped>\n",
       "    .dataframe tbody tr th:only-of-type {\n",
       "        vertical-align: middle;\n",
       "    }\n",
       "\n",
       "    .dataframe tbody tr th {\n",
       "        vertical-align: top;\n",
       "    }\n",
       "\n",
       "    .dataframe thead th {\n",
       "        text-align: right;\n",
       "    }\n",
       "</style>\n",
       "<table border=\"1\" class=\"dataframe\">\n",
       "  <thead>\n",
       "    <tr style=\"text-align: right;\">\n",
       "      <th></th>\n",
       "      <th>parapet_reaction_x</th>\n",
       "      <th>arch_self_weight_reaction_x</th>\n",
       "      <th>spandrel_wall_reaction_x</th>\n",
       "      <th>backfill_reaction_x</th>\n",
       "      <th>parapet_reaction_z</th>\n",
       "      <th>arch_self_weight_reaction_z</th>\n",
       "      <th>spandrel_wall_reaction_z</th>\n",
       "      <th>backfill_reaction_z</th>\n",
       "    </tr>\n",
       "  </thead>\n",
       "  <tbody>\n",
       "    <tr>\n",
       "      <th>0</th>\n",
       "      <td>5.579092</td>\n",
       "      <td>7.752001</td>\n",
       "      <td>4.169637</td>\n",
       "      <td>5.579092</td>\n",
       "      <td>7.223455</td>\n",
       "      <td>10.042365</td>\n",
       "      <td>8.163092</td>\n",
       "      <td>59.8</td>\n",
       "    </tr>\n",
       "    <tr>\n",
       "      <th>1</th>\n",
       "      <td>5.597801</td>\n",
       "      <td>7.777997</td>\n",
       "      <td>4.183619</td>\n",
       "      <td>5.597801</td>\n",
       "      <td>7.247679</td>\n",
       "      <td>10.076041</td>\n",
       "      <td>8.190466</td>\n",
       "      <td>59.8</td>\n",
       "    </tr>\n",
       "    <tr>\n",
       "      <th>2</th>\n",
       "      <td>5.601094</td>\n",
       "      <td>7.782572</td>\n",
       "      <td>4.186081</td>\n",
       "      <td>5.601094</td>\n",
       "      <td>7.251942</td>\n",
       "      <td>10.081969</td>\n",
       "      <td>8.195284</td>\n",
       "      <td>59.8</td>\n",
       "    </tr>\n",
       "    <tr>\n",
       "      <th>3</th>\n",
       "      <td>5.685095</td>\n",
       "      <td>7.899290</td>\n",
       "      <td>4.248861</td>\n",
       "      <td>5.685095</td>\n",
       "      <td>7.360702</td>\n",
       "      <td>10.233171</td>\n",
       "      <td>8.318192</td>\n",
       "      <td>59.8</td>\n",
       "    </tr>\n",
       "    <tr>\n",
       "      <th>4</th>\n",
       "      <td>5.769738</td>\n",
       "      <td>8.016899</td>\n",
       "      <td>4.312120</td>\n",
       "      <td>5.769738</td>\n",
       "      <td>7.470292</td>\n",
       "      <td>10.385528</td>\n",
       "      <td>8.442038</td>\n",
       "      <td>59.8</td>\n",
       "    </tr>\n",
       "    <tr>\n",
       "      <th>...</th>\n",
       "      <td>...</td>\n",
       "      <td>...</td>\n",
       "      <td>...</td>\n",
       "      <td>...</td>\n",
       "      <td>...</td>\n",
       "      <td>...</td>\n",
       "      <td>...</td>\n",
       "      <td>...</td>\n",
       "    </tr>\n",
       "    <tr>\n",
       "      <th>99995</th>\n",
       "      <td>13.110045</td>\n",
       "      <td>18.216062</td>\n",
       "      <td>9.798033</td>\n",
       "      <td>13.110045</td>\n",
       "      <td>16.974058</td>\n",
       "      <td>23.598080</td>\n",
       "      <td>19.182065</td>\n",
       "      <td>59.8</td>\n",
       "    </tr>\n",
       "    <tr>\n",
       "      <th>99996</th>\n",
       "      <td>13.165460</td>\n",
       "      <td>18.293060</td>\n",
       "      <td>9.839449</td>\n",
       "      <td>13.165460</td>\n",
       "      <td>17.045806</td>\n",
       "      <td>23.697828</td>\n",
       "      <td>19.263147</td>\n",
       "      <td>59.8</td>\n",
       "    </tr>\n",
       "    <tr>\n",
       "      <th>99997</th>\n",
       "      <td>13.167895</td>\n",
       "      <td>18.296444</td>\n",
       "      <td>9.841269</td>\n",
       "      <td>13.167895</td>\n",
       "      <td>17.048959</td>\n",
       "      <td>23.702212</td>\n",
       "      <td>19.266710</td>\n",
       "      <td>59.8</td>\n",
       "    </tr>\n",
       "    <tr>\n",
       "      <th>99998</th>\n",
       "      <td>13.355841</td>\n",
       "      <td>18.557589</td>\n",
       "      <td>9.981733</td>\n",
       "      <td>13.355841</td>\n",
       "      <td>17.292299</td>\n",
       "      <td>24.040513</td>\n",
       "      <td>19.541704</td>\n",
       "      <td>59.8</td>\n",
       "    </tr>\n",
       "    <tr>\n",
       "      <th>99999</th>\n",
       "      <td>13.494684</td>\n",
       "      <td>18.750509</td>\n",
       "      <td>10.085501</td>\n",
       "      <td>13.494684</td>\n",
       "      <td>17.472065</td>\n",
       "      <td>24.290432</td>\n",
       "      <td>19.744854</td>\n",
       "      <td>59.8</td>\n",
       "    </tr>\n",
       "  </tbody>\n",
       "</table>\n",
       "<p>100000 rows × 8 columns</p>\n",
       "</div>"
      ],
      "text/plain": [
       "       parapet_reaction_x  arch_self_weight_reaction_x  \\\n",
       "0                5.579092                     7.752001   \n",
       "1                5.597801                     7.777997   \n",
       "2                5.601094                     7.782572   \n",
       "3                5.685095                     7.899290   \n",
       "4                5.769738                     8.016899   \n",
       "...                   ...                          ...   \n",
       "99995           13.110045                    18.216062   \n",
       "99996           13.165460                    18.293060   \n",
       "99997           13.167895                    18.296444   \n",
       "99998           13.355841                    18.557589   \n",
       "99999           13.494684                    18.750509   \n",
       "\n",
       "       spandrel_wall_reaction_x  backfill_reaction_x  parapet_reaction_z  \\\n",
       "0                      4.169637             5.579092            7.223455   \n",
       "1                      4.183619             5.597801            7.247679   \n",
       "2                      4.186081             5.601094            7.251942   \n",
       "3                      4.248861             5.685095            7.360702   \n",
       "4                      4.312120             5.769738            7.470292   \n",
       "...                         ...                  ...                 ...   \n",
       "99995                  9.798033            13.110045           16.974058   \n",
       "99996                  9.839449            13.165460           17.045806   \n",
       "99997                  9.841269            13.167895           17.048959   \n",
       "99998                  9.981733            13.355841           17.292299   \n",
       "99999                 10.085501            13.494684           17.472065   \n",
       "\n",
       "       arch_self_weight_reaction_z  spandrel_wall_reaction_z  \\\n",
       "0                        10.042365                  8.163092   \n",
       "1                        10.076041                  8.190466   \n",
       "2                        10.081969                  8.195284   \n",
       "3                        10.233171                  8.318192   \n",
       "4                        10.385528                  8.442038   \n",
       "...                            ...                       ...   \n",
       "99995                    23.598080                 19.182065   \n",
       "99996                    23.697828                 19.263147   \n",
       "99997                    23.702212                 19.266710   \n",
       "99998                    24.040513                 19.541704   \n",
       "99999                    24.290432                 19.744854   \n",
       "\n",
       "       backfill_reaction_z  \n",
       "0                     59.8  \n",
       "1                     59.8  \n",
       "2                     59.8  \n",
       "3                     59.8  \n",
       "4                     59.8  \n",
       "...                    ...  \n",
       "99995                 59.8  \n",
       "99996                 59.8  \n",
       "99997                 59.8  \n",
       "99998                 59.8  \n",
       "99999                 59.8  \n",
       "\n",
       "[100000 rows x 8 columns]"
      ]
     },
     "execution_count": 184,
     "metadata": {},
     "output_type": "execute_result"
    }
   ],
   "source": [
    "probabilistic_reactions_df['backfill_reaction_x'] = probabilistic_reactions_df['parapet_reaction_x']\n",
    "probabilistic_reactions_df['backfill_reaction_z'] = deterministic_reactions_df['reaction_z'][3]\n",
    "probabilistic_reactions_df"
   ]
  },
  {
   "cell_type": "code",
   "execution_count": 185,
   "metadata": {},
   "outputs": [
    {
     "data": {
      "text/plain": [
       "0        23.079821\n",
       "1        23.157217\n",
       "2        23.170840\n",
       "3        23.518341\n",
       "4        23.868495\n",
       "           ...    \n",
       "99995    54.234184\n",
       "99996    54.463430\n",
       "99997    54.473504\n",
       "99998    55.251004\n",
       "99999    55.825379\n",
       "Length: 100000, dtype: float64"
      ]
     },
     "execution_count": 185,
     "metadata": {},
     "output_type": "execute_result"
    }
   ],
   "source": [
    "probabilistic_reaction_x = probabilistic_reactions_df.iloc[:,:4].sum(axis=1)\n",
    "probabilistic_reaction_x"
   ]
  },
  {
   "cell_type": "code",
   "execution_count": 186,
   "metadata": {},
   "outputs": [
    {
     "data": {
      "text/plain": [
       "0         85.228912\n",
       "1         85.314186\n",
       "2         85.329195\n",
       "3         85.712065\n",
       "4         86.097858\n",
       "            ...    \n",
       "99995    119.554203\n",
       "99996    119.806781\n",
       "99997    119.817881\n",
       "99998    120.674516\n",
       "99999    121.307351\n",
       "Length: 100000, dtype: float64"
      ]
     },
     "execution_count": 186,
     "metadata": {},
     "output_type": "execute_result"
    }
   ],
   "source": [
    "probabilistic_reaction_z = probabilistic_reactions_df.iloc[:,4:].sum(axis=1)\n",
    "probabilistic_reaction_z"
   ]
  },
  {
   "cell_type": "code",
   "execution_count": 187,
   "metadata": {},
   "outputs": [
    {
     "data": {
      "text/plain": [
       "0        23.079821\n",
       "1        23.157217\n",
       "2        23.170840\n",
       "3        23.518341\n",
       "4        23.868495\n",
       "           ...    \n",
       "99995    54.234184\n",
       "99996    54.463430\n",
       "99997    54.473504\n",
       "99998    55.251004\n",
       "99999    55.825379\n",
       "Length: 100000, dtype: float64"
      ]
     },
     "execution_count": 187,
     "metadata": {},
     "output_type": "execute_result"
    }
   ],
   "source": [
    "probabilistic_reaction_x[:]"
   ]
  },
  {
   "cell_type": "code",
   "execution_count": 188,
   "metadata": {},
   "outputs": [
    {
     "data": {
      "text/plain": [
       "0         87.259171\n",
       "1         87.368522\n",
       "2         87.387770\n",
       "3         87.878745\n",
       "4         88.373469\n",
       "            ...    \n",
       "99995    131.276419\n",
       "99996    131.600314\n",
       "99997    131.614548\n",
       "99998    132.713059\n",
       "99999    133.524580\n",
       "Length: 100000, dtype: float64"
      ]
     },
     "execution_count": 188,
     "metadata": {},
     "output_type": "execute_result"
    }
   ],
   "source": [
    "demand = probabilistic_reaction_x[:] * np.sin(springing_angle) + probabilistic_reaction_z[:] * np.cos(springing_angle)\n",
    "demand"
   ]
  },
  {
   "cell_type": "code",
   "execution_count": 189,
   "metadata": {},
   "outputs": [
    {
     "data": {
      "text/plain": [
       "pandas.core.series.Series"
      ]
     },
     "execution_count": 189,
     "metadata": {},
     "output_type": "execute_result"
    }
   ],
   "source": [
    "type(demand)"
   ]
  },
  {
   "attachments": {},
   "cell_type": "markdown",
   "metadata": {},
   "source": [
    "Realisations of compressive resistance"
   ]
  },
  {
   "cell_type": "code",
   "execution_count": 190,
   "metadata": {},
   "outputs": [],
   "source": [
    "compressive_resistance_realisations_vector_file_name = 'masonry_compressive_realisations.csv'"
   ]
  },
  {
   "cell_type": "code",
   "execution_count": 191,
   "metadata": {},
   "outputs": [],
   "source": [
    "masonry_compressive_resistance_df = load_csv_file_pandas(compressive_resistance_realisations_vector_file_name)"
   ]
  },
  {
   "cell_type": "code",
   "execution_count": 227,
   "metadata": {},
   "outputs": [
    {
     "data": {
      "text/html": [
       "<div>\n",
       "<style scoped>\n",
       "    .dataframe tbody tr th:only-of-type {\n",
       "        vertical-align: middle;\n",
       "    }\n",
       "\n",
       "    .dataframe tbody tr th {\n",
       "        vertical-align: top;\n",
       "    }\n",
       "\n",
       "    .dataframe thead th {\n",
       "        text-align: right;\n",
       "    }\n",
       "</style>\n",
       "<table border=\"1\" class=\"dataframe\">\n",
       "  <thead>\n",
       "    <tr style=\"text-align: right;\">\n",
       "      <th></th>\n",
       "      <th>masonry_compressive_realisations</th>\n",
       "    </tr>\n",
       "  </thead>\n",
       "  <tbody>\n",
       "    <tr>\n",
       "      <th>0</th>\n",
       "      <td>2.372290</td>\n",
       "    </tr>\n",
       "    <tr>\n",
       "      <th>1</th>\n",
       "      <td>2.390688</td>\n",
       "    </tr>\n",
       "    <tr>\n",
       "      <th>2</th>\n",
       "      <td>2.393926</td>\n",
       "    </tr>\n",
       "    <tr>\n",
       "      <th>3</th>\n",
       "      <td>2.476530</td>\n",
       "    </tr>\n",
       "    <tr>\n",
       "      <th>4</th>\n",
       "      <td>2.559764</td>\n",
       "    </tr>\n",
       "    <tr>\n",
       "      <th>...</th>\n",
       "      <td>...</td>\n",
       "    </tr>\n",
       "    <tr>\n",
       "      <th>99995</th>\n",
       "      <td>9.777952</td>\n",
       "    </tr>\n",
       "    <tr>\n",
       "      <th>99996</th>\n",
       "      <td>9.832445</td>\n",
       "    </tr>\n",
       "    <tr>\n",
       "      <th>99997</th>\n",
       "      <td>9.834840</td>\n",
       "    </tr>\n",
       "    <tr>\n",
       "      <th>99998</th>\n",
       "      <td>10.019659</td>\n",
       "    </tr>\n",
       "    <tr>\n",
       "      <th>99999</th>\n",
       "      <td>10.156192</td>\n",
       "    </tr>\n",
       "  </tbody>\n",
       "</table>\n",
       "<p>100000 rows × 1 columns</p>\n",
       "</div>"
      ],
      "text/plain": [
       "       masonry_compressive_realisations\n",
       "0                              2.372290\n",
       "1                              2.390688\n",
       "2                              2.393926\n",
       "3                              2.476530\n",
       "4                              2.559764\n",
       "...                                 ...\n",
       "99995                          9.777952\n",
       "99996                          9.832445\n",
       "99997                          9.834840\n",
       "99998                         10.019659\n",
       "99999                         10.156192\n",
       "\n",
       "[100000 rows x 1 columns]"
      ]
     },
     "execution_count": 227,
     "metadata": {},
     "output_type": "execute_result"
    }
   ],
   "source": [
    "masonry_compressive_resistance_df[:]"
   ]
  },
  {
   "cell_type": "code",
   "execution_count": 192,
   "metadata": {},
   "outputs": [],
   "source": [
    "b = 1"
   ]
  },
  {
   "cell_type": "code",
   "execution_count": 193,
   "metadata": {},
   "outputs": [],
   "source": [
    "h = 0.50"
   ]
  },
  {
   "cell_type": "code",
   "execution_count": 194,
   "metadata": {},
   "outputs": [],
   "source": [
    "e = 0.02 # it comes from the double-fixed scheme at the constrained section"
   ]
  },
  {
   "cell_type": "code",
   "execution_count": 228,
   "metadata": {},
   "outputs": [],
   "source": [
    "k = 1.645"
   ]
  },
  {
   "cell_type": "code",
   "execution_count": 230,
   "metadata": {},
   "outputs": [],
   "source": [
    "masonry_compressive_resistance_df_characteristic = masonry_compressive_resistance_df[:] * (k -1)"
   ]
  },
  {
   "cell_type": "code",
   "execution_count": 231,
   "metadata": {},
   "outputs": [],
   "source": [
    "capacity = 0.4 * b * (masonry_compressive_resistance_df_characteristic[:]) * 1000 * (h - 2*e)"
   ]
  },
  {
   "cell_type": "code",
   "execution_count": 232,
   "metadata": {},
   "outputs": [
    {
     "data": {
      "text/plain": [
       "pandas.core.frame.DataFrame"
      ]
     },
     "execution_count": 232,
     "metadata": {},
     "output_type": "execute_result"
    }
   ],
   "source": [
    "type(capacity)"
   ]
  },
  {
   "cell_type": "code",
   "execution_count": 233,
   "metadata": {},
   "outputs": [
    {
     "data": {
      "text/plain": [
       "0         281.543360\n",
       "1         283.726802\n",
       "2         284.111123\n",
       "3         293.914563\n",
       "4         303.792842\n",
       "            ...     \n",
       "99995    1160.447321\n",
       "99996    1166.914617\n",
       "99997    1167.198822\n",
       "99998    1189.133077\n",
       "99999    1205.336926\n",
       "Name: masonry_compressive_realisations, Length: 100000, dtype: float64"
      ]
     },
     "execution_count": 233,
     "metadata": {},
     "output_type": "execute_result"
    }
   ],
   "source": [
    "capacity['masonry_compressive_realisations']"
   ]
  },
  {
   "attachments": {},
   "cell_type": "markdown",
   "metadata": {},
   "source": [
    "Failure probability"
   ]
  },
  {
   "attachments": {},
   "cell_type": "markdown",
   "metadata": {},
   "source": [
    "Demand probability distribution"
   ]
  },
  {
   "cell_type": "code",
   "execution_count": 234,
   "metadata": {},
   "outputs": [
    {
     "data": {
      "text/plain": [
       "110.16516470566052"
      ]
     },
     "execution_count": 234,
     "metadata": {},
     "output_type": "execute_result"
    }
   ],
   "source": [
    "demand_mean = demand.mean()\n",
    "demand_mean"
   ]
  },
  {
   "cell_type": "code",
   "execution_count": 235,
   "metadata": {},
   "outputs": [
    {
     "data": {
      "text/plain": [
       "5.556521113148476"
      ]
     },
     "execution_count": 235,
     "metadata": {},
     "output_type": "execute_result"
    }
   ],
   "source": [
    "demand_std = demand.std()\n",
    "demand_std"
   ]
  },
  {
   "cell_type": "code",
   "execution_count": 236,
   "metadata": {},
   "outputs": [],
   "source": [
    "demand_pdf = stats.norm.pdf(demand, demand_mean, demand_std)"
   ]
  },
  {
   "attachments": {},
   "cell_type": "markdown",
   "metadata": {},
   "source": [
    "Capacity probability distribution"
   ]
  },
  {
   "cell_type": "code",
   "execution_count": 237,
   "metadata": {},
   "outputs": [
    {
     "data": {
      "text/plain": [
       "738.9133540477673"
      ]
     },
     "execution_count": 237,
     "metadata": {},
     "output_type": "execute_result"
    }
   ],
   "source": [
    "capacity_mean = capacity['masonry_compressive_realisations'].mean()\n",
    "capacity_mean"
   ]
  },
  {
   "cell_type": "code",
   "execution_count": 238,
   "metadata": {},
   "outputs": [
    {
     "data": {
      "text/plain": [
       "110.94851643193581"
      ]
     },
     "execution_count": 238,
     "metadata": {},
     "output_type": "execute_result"
    }
   ],
   "source": [
    "capacity_std = capacity['masonry_compressive_realisations'].std()\n",
    "capacity_std"
   ]
  },
  {
   "cell_type": "code",
   "execution_count": 239,
   "metadata": {},
   "outputs": [],
   "source": [
    "capacity_pdf = stats.norm.pdf(capacity['masonry_compressive_realisations'], capacity_mean, capacity_std)"
   ]
  },
  {
   "cell_type": "code",
   "execution_count": 240,
   "metadata": {},
   "outputs": [
    {
     "data": {
      "image/png": "[encoded data removed]",
      "text/plain": [
       "<Figure size 432x288 with 1 Axes>"
      ]
     },
     "metadata": {
      "needs_background": "light"
     },
     "output_type": "display_data"
    },
    {
     "data": {
      "text/plain": [
       "<Figure size 360x360 with 0 Axes>"
      ]
     },
     "metadata": {},
     "output_type": "display_data"
    }
   ],
   "source": [
    "plt.plot(demand, demand_pdf, color = 'red')\n",
    "plt.plot(capacity['masonry_compressive_realisations'], capacity_pdf, color='blue')\n",
    "\n",
    "plt.xlabel('Thrust [kN]', fontsize = 14)\n",
    "plt.ylabel('Probability density', fontsize=14)\n",
    "plt.legend(['demand', 'capacity'], loc = 'best', fontsize=14)\n",
    "fig = plt.figure(figsize=(5, 5))\n",
    "plt.show()"
   ]
  },
  {
   "cell_type": "code",
   "execution_count": 241,
   "metadata": {},
   "outputs": [],
   "source": [
    "limit_state_function = capacity['masonry_compressive_realisations'] - demand"
   ]
  },
  {
   "cell_type": "code",
   "execution_count": 242,
   "metadata": {},
   "outputs": [
    {
     "data": {
      "text/plain": [
       "0"
      ]
     },
     "execution_count": 242,
     "metadata": {},
     "output_type": "execute_result"
    }
   ],
   "source": [
    "failure_cases = (limit_state_function < 0).sum() +(limit_state_function == 0).sum()\n",
    "failure_cases"
   ]
  },
  {
   "cell_type": "code",
   "execution_count": 243,
   "metadata": {},
   "outputs": [],
   "source": [
    "no_of_samples = len(limit_state_function)"
   ]
  },
  {
   "cell_type": "code",
   "execution_count": 244,
   "metadata": {},
   "outputs": [
    {
     "data": {
      "text/plain": [
       "0.0"
      ]
     },
     "execution_count": 244,
     "metadata": {},
     "output_type": "execute_result"
    }
   ],
   "source": [
    "failure_probability = failure_cases/no_of_samples\n",
    "failure_probability"
   ]
  }
 ],
 "metadata": {
  "kernelspec": {
   "display_name": "base",
   "language": "python",
   "name": "python3"
  },
  "language_info": {
   "codemirror_mode": {
    "name": "ipython",
    "version": 3
   },
   "file_extension": ".py",
   "mimetype": "text/x-python",
   "name": "python",
   "nbconvert_exporter": "python",
   "pygments_lexer": "ipython3",
   "version": "3.9.7"
  },
  "orig_nbformat": 4
 },
 "nbformat": 4,
 "nbformat_minor": 2
}
