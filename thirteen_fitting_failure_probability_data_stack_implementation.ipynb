{
 "cells": [
  {
   "cell_type": "code",
   "execution_count": null,
   "metadata": {},
   "outputs": [],
   "source": [
    "#https://stackoverflow.com/questions/73071058/fit-data-with-a-lognormal-function-via-maximum-likelihood-estimators/73112103#73112103\n",
    "#https://towardsdatascience.com/log-normal-distribution-a-simple-explanation-7605864fb67c"
   ]
  },
  {
   "cell_type": "code",
   "execution_count": null,
   "metadata": {},
   "outputs": [],
   "source": [
    "from functools import partial\n",
    "import numpy as np\n",
    "from scipy import optimize, stats"
   ]
  },
  {
   "cell_type": "code",
   "execution_count": null,
   "metadata": {},
   "outputs": [],
   "source": [
    "#Failure probability data from Baker (2015), https://doi.org/10.1193/021113EQS025M\n",
    "# im = np.array([0.2, 0.3, 0.4, 0.6, 0.7, 0.8, 0.9, 1])\n",
    "# number_of_analyses = np.array([40, 40, 40, 40, 40, 40, 40, 40])\n",
    "# number_of_collapses = np.array([0, 0, 0, 4, 6, 13, 12, 16])\n",
    "\n",
    "#Failure probability data from Qeshta et al., 2021, https://doi.org/10.1080/15732479.2021.1892774\n",
    "# im = np.array([4.5, 5, 5.5, 6, 6.5, 7, 7.5, 8, 8.5, 9, 9.46])\n",
    "# number_of_analyses = np.array([10, 10, 10, 10, 10, 10, 10, 10, 10, 10, 10]) \n",
    "# number_of_collapses = np.array([0, 0, 0, 0, 0, 0, 1, 3, 7, 9, 10])\n",
    "\n",
    "#Failure probability data from \"twelve_arch_compressive_limit_state_equation.ipynb\"\n",
    "im = np.array([0.289, 0.578, 0.867, 1.156, 1.444, 1.733, 2.022, 2.311, 2.6])\n",
    "number_of_analyses = np.array([100_000, 100_000, 100_000, 100_000, 100_000, 100_000, 100_000, 100_000, 100_000])\n",
    "number_of_collapses = np.array([69, 69, 69, 259, 1880, 15286, 74760, 99995, 100_000])"
   ]
  },
  {
   "cell_type": "code",
   "execution_count": null,
   "metadata": {},
   "outputs": [],
   "source": [
    "im_log = np.log(im)\n",
    "\n",
    "FORMAT_STRING = \"{:<20}{:<20}{:<20}\"\n",
    "print(FORMAT_STRING.format(\"teta\", \"beta\", \"log_likelihood_sum\"))"
   ]
  },
  {
   "cell_type": "code",
   "execution_count": null,
   "metadata": {},
   "outputs": [],
   "source": [
    "def neg_log_likelihood_sum(params, im_l, no_a, no_c):\n",
    "    \n",
    "    teta, beta = params\n",
    "    theoretical_fragility_function = stats.norm(np.log(teta), beta).cdf(im_l)\n",
    "    likelihood = stats.binom.pmf(no_c, no_a, theoretical_fragility_function)\n",
    "    #https://stackoverflow.com/questions/21610198/runtimewarning-divide-by-zero-encountered-in-log\n",
    "    np.seterr(divide = 'ignore') #equal to IFERROR function of EXCEL\n",
    "    log_likelihood = np.log(likelihood)\n",
    "    log_likelihood_sum = np.sum(log_likelihood)\n",
    "\n",
    "    print(FORMAT_STRING.format(teta, beta, log_likelihood_sum))\n",
    "    \n",
    "    return -log_likelihood_sum"
   ]
  },
  {
   "cell_type": "code",
   "execution_count": null,
   "metadata": {},
   "outputs": [],
   "source": [
    "guess_values = (1.6, 0.1) #guess_values = (1.6, 0.1) for Baker and my data, while guess_values = (8, 0.1) for Qeshta et al. (2021) data. \n",
    "params_bounds = ((0.01, None), (0.01, None)) #teta and beta must be positive because of the problem physics\n",
    "desired_tolerance = 1e-6\n",
    "number_of_iterations = 100\n",
    "\n",
    "neg_log_likelihood_sum_partial = partial(neg_log_likelihood_sum, im_l=im_log, no_a=number_of_analyses, no_c=number_of_collapses)\n",
    "\n",
    "#https://docs.scipy.org/doc/scipy/reference/generated/scipy.optimize.minimize.html\n",
    "res = optimize.minimize(neg_log_likelihood_sum_partial, x0 = guess_values, method=\"Nelder-Mead\", options={'maxiter':number_of_iterations, 'disp':True}, bounds = params_bounds, tol = tolerance)\n",
    "print(res)"
   ]
  }
 ],
 "metadata": {
  "kernelspec": {
   "display_name": "base",
   "language": "python",
   "name": "python3"
  },
  "language_info": {
   "codemirror_mode": {
    "name": "ipython",
    "version": 3
   },
   "file_extension": ".py",
   "mimetype": "text/x-python",
   "name": "python",
   "nbconvert_exporter": "python",
   "pygments_lexer": "ipython3",
   "version": "3.9.13"
  },
  "orig_nbformat": 4,
  "vscode": {
   "interpreter": {
    "hash": "ad2bdc8ecc057115af97d19610ffacc2b4e99fae6737bb82f5d7fb13d2f2c186"
   }
  }
 },
 "nbformat": 4,
 "nbformat_minor": 2
}
