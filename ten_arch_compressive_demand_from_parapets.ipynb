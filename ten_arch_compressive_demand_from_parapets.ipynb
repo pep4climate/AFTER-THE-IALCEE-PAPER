{
 "cells": [
  {
   "cell_type": "code",
   "execution_count": 2,
   "metadata": {},
   "outputs": [],
   "source": [
    "%store -r masonry_unit_weight_realisations\n",
    "%store -r convergence_simulation_number"
   ]
  },
  {
   "cell_type": "code",
   "execution_count": 3,
   "metadata": {},
   "outputs": [],
   "source": [
    "compressive_demand_from_parapet = {}"
   ]
  },
  {
   "cell_type": "code",
   "execution_count": 4,
   "metadata": {},
   "outputs": [],
   "source": [
    "# import numpy as np"
   ]
  },
  {
   "cell_type": "code",
   "execution_count": 5,
   "metadata": {},
   "outputs": [],
   "source": [
    "# parapet_unit_weight_realisations = np.random.normal(0, 1, convergence_simulation_number)"
   ]
  },
  {
   "cell_type": "code",
   "execution_count": 8,
   "metadata": {},
   "outputs": [],
   "source": [
    "def arch_compressive_demand_from_parapet(parapet_unit_weight_realisations):\n",
    "\n",
    "    import math\n",
    "    import numpy as np\n",
    "\n",
    "    h_pt = 870/1000 #m -from Tubaldi et al. (2018)\n",
    "    b_pt = 0.20 #m -assumed equal to spandrel wall's thickness, as skectched by Parke and Hewson (2008)\n",
    "\n",
    "    h_sw = 0.6 #m\n",
    "    r_e = 3950/1000 #m\n",
    "    r_i = 3450/1000 #m\n",
    "    H_sw = h_sw + r_e #m\n",
    "    B_p = 1.80 #m\n",
    "    L = 9260/1000 #m -span length\n",
    "    t = 500/1000 #m\n",
    "    e = t/6\n",
    "\n",
    "    b = 1 #m \n",
    "\n",
    "    A_pt = 1/2*(L+B_p)*h_pt #m2\n",
    "\n",
    "    P_pt = parapet_unit_weight_realisations*b_pt*A_pt #kN\n",
    "    \n",
    "    V_a = P_pt #kN\n",
    "\n",
    "    alfa_hinges = 0\n",
    "\n",
    "    x_pt = (L/2+B_p/2)/2-(B_p/2)+1/3*math.cos(alfa_hinges)*t\n",
    "\n",
    "    H_c = (x_pt*P_pt)/(2/3*t+r_i- 1/3 * t * math.sin(alfa_hinges))\n",
    "    H_a = H_c\n",
    "\n",
    "    # S_a = math.sqrt(math.pow(H_a,2)+math.pow(V_a,2))\n",
    "    S_a = np.sqrt(np.power(H_a, 2) + np.power(V_a, 2))\n",
    "\n",
    "    compressive_demand_from_parapet[\"H_a\"] = H_a\n",
    "    compressive_demand_from_parapet[\"V_a\"] = V_a\n",
    "    compressive_demand_from_parapet[\"S_a\"] = S_a\n",
    "\n",
    "    %store compressive_demand_from_parapet\n",
    "\n",
    "    return compressive_demand_from_parapet\n"
   ]
  },
  {
   "cell_type": "code",
   "execution_count": 9,
   "metadata": {},
   "outputs": [
    {
     "name": "stdout",
     "output_type": "stream",
     "text": [
      "Stored 'compressive_demand_from_parapet' (dict)\n"
     ]
    },
    {
     "data": {
      "text/plain": [
       "{'H_a': array([11.18458987,  9.15746235, 11.50963981, ..., 11.13966631,\n",
       "        10.79729874, 12.64952598]),\n",
       " 'V_a': array([20.82774323, 17.05286262, 21.43304542, ..., 20.74408739,\n",
       "        20.10653663, 23.55572106]),\n",
       " 'S_a': array([23.64085317, 19.35611636, 24.32791081, ..., 23.54589831,\n",
       "        22.82223642, 26.73728674])}"
      ]
     },
     "execution_count": 9,
     "metadata": {},
     "output_type": "execute_result"
    }
   ],
   "source": [
    "arch_compressive_demand_from_parapet(masonry_unit_weight_realisations)"
   ]
  },
  {
   "cell_type": "code",
   "execution_count": null,
   "metadata": {},
   "outputs": [],
   "source": []
  }
 ],
 "metadata": {
  "kernelspec": {
   "display_name": "base",
   "language": "python",
   "name": "python3"
  },
  "language_info": {
   "codemirror_mode": {
    "name": "ipython",
    "version": 3
   },
   "file_extension": ".py",
   "mimetype": "text/x-python",
   "name": "python",
   "nbconvert_exporter": "python",
   "pygments_lexer": "ipython3",
   "version": "3.9.13"
  },
  "orig_nbformat": 4,
  "vscode": {
   "interpreter": {
    "hash": "ad2bdc8ecc057115af97d19610ffacc2b4e99fae6737bb82f5d7fb13d2f2c186"
   }
  }
 },
 "nbformat": 4,
 "nbformat_minor": 2
}
