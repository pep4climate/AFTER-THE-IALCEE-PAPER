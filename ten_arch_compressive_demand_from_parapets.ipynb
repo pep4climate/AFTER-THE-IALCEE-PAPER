{
 "cells": [
  {
   "cell_type": "code",
   "execution_count": 2,
   "metadata": {},
   "outputs": [],
   "source": [
    "%store -r convergence_simulation_number"
   ]
  },
  {
   "cell_type": "code",
   "execution_count": 3,
   "metadata": {},
   "outputs": [],
   "source": [
    "compressive_demand_from_parapet = {}"
   ]
  },
  {
   "cell_type": "code",
   "execution_count": 7,
   "metadata": {},
   "outputs": [],
   "source": [
    "import numpy as np"
   ]
  },
  {
   "cell_type": "code",
   "execution_count": 8,
   "metadata": {},
   "outputs": [],
   "source": [
    "parapet_unit_weight_realisations = np.random.normal(0, 1, convergence_simulation_number)"
   ]
  },
  {
   "cell_type": "code",
   "execution_count": 9,
   "metadata": {},
   "outputs": [],
   "source": [
    "def arch_compressive_demand_from_parapet(parapet_unit_weight_realisations):\n",
    "\n",
    "    import math\n",
    "\n",
    "    h_pt = 870/1000 #m -from Tubaldi et al. (2018)\n",
    "    b_pt = 0.20 #m -assumed equal to spandrel wall's thickness, as skectched by Parke and Hewson (2008)\n",
    "\n",
    "    h_sw = 0.6 #m\n",
    "    r_e = 3950/1000 #m\n",
    "    r_i = 3450/1000 #m\n",
    "    H_sw = h_sw + r_e #m\n",
    "    B_p = 1.80 #m\n",
    "    L = 9260/1000 #m -span length\n",
    "    t = 500/1000 #m\n",
    "    e = t/6\n",
    "\n",
    "    b = 1 #m \n",
    "\n",
    "    A_pt = 1/2*(L+B_p)*h_pt #m2\n",
    "\n",
    "    P_pt = parapet_unit_weight_realisations*b_pt*A_pt #kN\n",
    "    \n",
    "    V_a = P_pt #kN\n",
    "\n",
    "    alfa_hinges = 0\n",
    "\n",
    "    x_pt = (L/2+B_p/2)/2-(B_p/2)+1/3*math.cos(alfa_hinges)*t\n",
    "\n",
    "    H_c = (x_pt*P_pt)/(2/3*t+r_i- 1/3 * t * math.sin(alfa_hinges))\n",
    "    H_a = H_c\n",
    "\n",
    "    # S_a = math.sqrt(math.pow(H_a,2)+math.pow(V_a,2))\n",
    "    S_a = np.sqrt(np.power(H_a, 2) + np.power(V_a, 2))\n",
    "\n",
    "    compressive_demand_from_parapet[\"H_a\"] = H_a\n",
    "    compressive_demand_from_parapet[\"V_a\"] = V_a\n",
    "    compressive_demand_from_parapet[\"S_a\"] = S_a\n",
    "\n",
    "    %store compressive_demand_from_parapet\n",
    "\n",
    "    return compressive_demand_from_parapet\n"
   ]
  },
  {
   "cell_type": "code",
   "execution_count": 10,
   "metadata": {},
   "outputs": [
    {
     "name": "stdout",
     "output_type": "stream",
     "text": [
      "Stored 'compressive_demand_from_parapet' (dict)\n"
     ]
    },
    {
     "data": {
      "text/plain": [
       "{'H_a': array([-0.78745551, -0.15205587, -0.31057715, ...,  0.36806274,\n",
       "         0.69572399,  0.29413945]),\n",
       " 'V_a': array([-1.46638557, -0.28315572, -0.57835122, ...,  0.68539986,\n",
       "         1.29556477,  0.54774123]),\n",
       " 'S_a': array([1.6644437 , 0.32140029, 0.65646653, ..., 0.77797374, 1.47055089,\n",
       "        0.62172218])}"
      ]
     },
     "execution_count": 10,
     "metadata": {},
     "output_type": "execute_result"
    }
   ],
   "source": [
    "arch_compressive_demand_from_parapet(parapet_unit_weight_realisations)"
   ]
  },
  {
   "cell_type": "code",
   "execution_count": null,
   "metadata": {},
   "outputs": [],
   "source": []
  }
 ],
 "metadata": {
  "kernelspec": {
   "display_name": "base",
   "language": "python",
   "name": "python3"
  },
  "language_info": {
   "codemirror_mode": {
    "name": "ipython",
    "version": 3
   },
   "file_extension": ".py",
   "mimetype": "text/x-python",
   "name": "python",
   "nbconvert_exporter": "python",
   "pygments_lexer": "ipython3",
   "version": "3.9.13 (main, Aug 25 2022, 23:51:50) [MSC v.1916 64 bit (AMD64)]"
  },
  "orig_nbformat": 4,
  "vscode": {
   "interpreter": {
    "hash": "ad2bdc8ecc057115af97d19610ffacc2b4e99fae6737bb82f5d7fb13d2f2c186"
   }
  }
 },
 "nbformat": 4,
 "nbformat_minor": 2
}
