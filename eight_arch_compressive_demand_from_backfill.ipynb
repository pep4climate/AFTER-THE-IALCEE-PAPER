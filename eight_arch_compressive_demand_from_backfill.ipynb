{
 "cells": [
  {
   "cell_type": "code",
   "execution_count": 8,
   "metadata": {},
   "outputs": [],
   "source": [
    "compressive_demand_from_backfill = {}"
   ]
  },
  {
   "cell_type": "code",
   "execution_count": 9,
   "metadata": {},
   "outputs": [],
   "source": [
    "#it comes either from compressive_resistance_sampling or masonry_unit_weight_sampling, if ran\n",
    "%store -r convergence_simulation_number"
   ]
  },
  {
   "cell_type": "code",
   "execution_count": 10,
   "metadata": {},
   "outputs": [],
   "source": [
    "import numpy as np"
   ]
  },
  {
   "cell_type": "code",
   "execution_count": 11,
   "metadata": {},
   "outputs": [],
   "source": [
    "backfill_unit_weight = 19 #variable considered deterministic"
   ]
  },
  {
   "cell_type": "code",
   "execution_count": 12,
   "metadata": {},
   "outputs": [],
   "source": [
    "# backfill_unit_weight_realisations = np.random.normal(0, 1, convergence_simulation_number) #called 'realisations' to mean that a vector is needed for adding backfill load effects with other load effects\n",
    "backfill_unit_weight_vector = np.ones(convergence_simulation_number)*backfill_unit_weight"
   ]
  },
  {
   "cell_type": "code",
   "execution_count": 13,
   "metadata": {},
   "outputs": [],
   "source": [
    "# backfill_unit_weight_vector"
   ]
  },
  {
   "cell_type": "code",
   "execution_count": 14,
   "metadata": {},
   "outputs": [],
   "source": [
    "def arch_compressive_demand_from_backfill(backfill_unit_weight):\n",
    "    \n",
    "    import math\n",
    "\n",
    "    pi = math.pi\n",
    "\n",
    "    road_width = 3.80\n",
    "    b_pt = 0.20\n",
    "    b_bfill = 1.00\n",
    "\n",
    "    bfill_width = road_width - 2*b_pt\n",
    "\n",
    "    h_sw = 0.6 #m\n",
    "    r_e = 3950/1000 #m\n",
    "    r_i = 3450/1000 #m\n",
    "    H_sw = h_sw + r_e #m\n",
    "    B_p = 1.80 #m\n",
    "    L = 9260/1000 #m -span length\n",
    "    t = 500/1000 #m\n",
    "\n",
    "    A_sq = (L/2 + B_p/2) * H_sw #the spandrel wall located above the central pier is examined\n",
    "    A_e = (1/4)*(pi * math.pow(r_e, 2))\n",
    "    A_sw = A_sq - A_e\n",
    "    A_bfill = A_sw\n",
    "\n",
    "    P_bfill = backfill_unit_weight * A_sw * b_bfill\n",
    "\n",
    "    V_a = P_bfill #kN\n",
    "\n",
    "    x_sq = (L/2 + B_p/2)/2\n",
    "    x_e = 4/(3*pi)*r_e\n",
    "\n",
    "    x_sw = (A_sq * x_sq - A_e * x_e)/A_sw\n",
    "\n",
    "    alfa_hinges = 0\n",
    "    xp_sw = (1/2 * L + 1/3 * t * math.cos(alfa_hinges) - x_sw)\n",
    "\n",
    "    H_c = ((1/2 * L + 1/3 * t * math.cos(alfa_hinges) - xp_sw) * P_bfill)/(2/3 * t + r_i - 1/3 * t * math.sin(alfa_hinges)) #kN\n",
    "    H_a = H_c\n",
    "    #S_a = math.sqrt(math.pow(H_a,2)+math.pow(V_a,2)) #kN\n",
    "    S_a = np.sqrt(np.power(H_a,2) + np.power(V_a,2))\n",
    "\n",
    "    # print(S_a)\n",
    "\n",
    "    compressive_demand_from_backfill[\"H_a\"] = H_a\n",
    "    compressive_demand_from_backfill[\"V_a\"] = V_a\n",
    "    compressive_demand_from_backfill[\"S_a\"] = S_a\n",
    "\n",
    "    %store compressive_demand_from_backfill\n",
    "\n",
    "    #print(compressive_demand_from_backfill)\n",
    "    return compressive_demand_from_backfill"
   ]
  },
  {
   "cell_type": "code",
   "execution_count": 15,
   "metadata": {},
   "outputs": [
    {
     "name": "stdout",
     "output_type": "stream",
     "text": [
      "Stored 'compressive_demand_from_backfill' (dict)\n"
     ]
    },
    {
     "data": {
      "text/plain": [
       "{'H_a': array([246.2211967, 246.2211967, 246.2211967, ..., 246.2211967,\n",
       "        246.2211967, 246.2211967]),\n",
       " 'V_a': array([245.23917796, 245.23917796, 245.23917796, ..., 245.23917796,\n",
       "        245.23917796, 245.23917796]),\n",
       " 'S_a': array([347.51565736, 347.51565736, 347.51565736, ..., 347.51565736,\n",
       "        347.51565736, 347.51565736])}"
      ]
     },
     "execution_count": 15,
     "metadata": {},
     "output_type": "execute_result"
    }
   ],
   "source": [
    "arch_compressive_demand_from_backfill(backfill_unit_weight_vector)"
   ]
  },
  {
   "cell_type": "code",
   "execution_count": null,
   "metadata": {},
   "outputs": [],
   "source": []
  }
 ],
 "metadata": {
  "kernelspec": {
   "display_name": "base",
   "language": "python",
   "name": "python3"
  },
  "language_info": {
   "codemirror_mode": {
    "name": "ipython",
    "version": 3
   },
   "file_extension": ".py",
   "mimetype": "text/x-python",
   "name": "python",
   "nbconvert_exporter": "python",
   "pygments_lexer": "ipython3",
   "version": "3.9.13"
  },
  "orig_nbformat": 4,
  "vscode": {
   "interpreter": {
    "hash": "ad2bdc8ecc057115af97d19610ffacc2b4e99fae6737bb82f5d7fb13d2f2c186"
   }
  }
 },
 "nbformat": 4,
 "nbformat_minor": 2
}
