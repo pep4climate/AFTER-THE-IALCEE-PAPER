{
 "cells": [
  {
   "cell_type": "code",
   "execution_count": 1,
   "metadata": {},
   "outputs": [],
   "source": [
    "compressive_demand_from_backfill = {}"
   ]
  },
  {
   "cell_type": "code",
   "execution_count": 2,
   "metadata": {},
   "outputs": [],
   "source": [
    "#it comes either from compressive_resistance_sampling or masonry_unit_weight_sampling, if ran\n",
    "%store -r convergence_simulation_number"
   ]
  },
  {
   "cell_type": "code",
   "execution_count": 3,
   "metadata": {},
   "outputs": [],
   "source": [
    "import numpy as np"
   ]
  },
  {
   "cell_type": "code",
   "execution_count": 4,
   "metadata": {},
   "outputs": [],
   "source": [
    "backfill_unit_weight = 19 #variable considered deterministic"
   ]
  },
  {
   "cell_type": "code",
   "execution_count": 5,
   "metadata": {},
   "outputs": [],
   "source": [
    "backfill_unit_weight_realisations = np.random.normal(0, 1, convergence_simulation_number) #called 'realisations' to mean that a vector is needed for adding backfill load effects with other load effects"
   ]
  },
  {
   "cell_type": "code",
   "execution_count": 6,
   "metadata": {},
   "outputs": [],
   "source": [
    "def arch_compressive_demand_from_backfill(backfill_unit_weight):\n",
    "    \n",
    "    import math\n",
    "\n",
    "    pi = math.pi\n",
    "\n",
    "    road_width = 3.80\n",
    "    b_pt = 0.20\n",
    "    b_bfill = 1.00\n",
    "\n",
    "    bfill_width = road_width - 2*b_pt\n",
    "\n",
    "    h_sw = 0.6 #m\n",
    "    r_e = 3950/1000 #m\n",
    "    r_i = 3450/1000 #m\n",
    "    H_sw = h_sw + r_e #m\n",
    "    B_p = 1.80 #m\n",
    "    L = 9260/1000 #m -span length\n",
    "    t = 500/1000 #m\n",
    "\n",
    "    A_sq = (L/2 + B_p/2) * H_sw #the spandrel wall located above the central pier is examined\n",
    "    A_e = (1/4)*(pi * math.pow(r_e, 2))\n",
    "    A_sw = A_sq - A_e\n",
    "    A_bfill = A_sw\n",
    "\n",
    "    P_bfill = backfill_unit_weight * A_sw * b_bfill\n",
    "\n",
    "    V_a = P_bfill #kN\n",
    "\n",
    "    x_sq = (L/2 + B_p/2)/2\n",
    "    x_e = 4/(3*pi)*r_e\n",
    "\n",
    "    x_sw = (A_sq * x_sq - A_e * x_e)/A_sw\n",
    "\n",
    "    alfa_hinges = 0\n",
    "    xp_sw = (1/2 * L + 1/3 * t * math.cos(alfa_hinges) - x_sw)\n",
    "\n",
    "    H_c = ((1/2 * L + 1/3 * t * math.cos(alfa_hinges) - xp_sw) * P_bfill)/(2/3 * t + r_i - 1/3 * t * math.sin(alfa_hinges)) #kN\n",
    "    H_a = H_c\n",
    "    #S_a = math.sqrt(math.pow(H_a,2)+math.pow(V_a,2)) #kN\n",
    "    S_a = np.sqrt(np.power(H_a,2) + np.power(V_a,2))\n",
    "\n",
    "    # print(S_a)\n",
    "\n",
    "    compressive_demand_from_backfill[\"H_a\"] = H_a\n",
    "    compressive_demand_from_backfill[\"V_a\"] = V_a\n",
    "    compressive_demand_from_backfill[\"S_a\"] = S_a\n",
    "\n",
    "    %store compressive_demand_from_backfill\n",
    "\n",
    "    #print(compressive_demand_from_backfill)\n",
    "    return compressive_demand_from_backfill"
   ]
  },
  {
   "cell_type": "code",
   "execution_count": 7,
   "metadata": {},
   "outputs": [
    {
     "name": "stdout",
     "output_type": "stream",
     "text": [
      "Stored 'compressive_demand_from_backfill' (dict)\n"
     ]
    },
    {
     "data": {
      "text/plain": [
       "{'H_a': array([-6.2963784 ,  6.07226494,  5.4415717 , ...,  8.94069815,\n",
       "         2.81150857, -2.81126   ]),\n",
       " 'V_a': array([-6.27126618,  6.04804656,  5.41986876, ...,  8.90503943,\n",
       "         2.80029526, -2.80004768]),\n",
       " 'S_a': array([ 8.88668444,  8.57037156,  7.68021353, ..., 12.61886725,\n",
       "         3.96815246,  3.96780164])}"
      ]
     },
     "execution_count": 7,
     "metadata": {},
     "output_type": "execute_result"
    }
   ],
   "source": [
    "arch_compressive_demand_from_backfill(backfill_unit_weight_realisations)"
   ]
  },
  {
   "cell_type": "code",
   "execution_count": null,
   "metadata": {},
   "outputs": [],
   "source": []
  }
 ],
 "metadata": {
  "kernelspec": {
   "display_name": "base",
   "language": "python",
   "name": "python3"
  },
  "language_info": {
   "codemirror_mode": {
    "name": "ipython",
    "version": 3
   },
   "file_extension": ".py",
   "mimetype": "text/x-python",
   "name": "python",
   "nbconvert_exporter": "python",
   "pygments_lexer": "ipython3",
   "version": "3.9.13"
  },
  "orig_nbformat": 4,
  "vscode": {
   "interpreter": {
    "hash": "ad2bdc8ecc057115af97d19610ffacc2b4e99fae6737bb82f5d7fb13d2f2c186"
   }
  }
 },
 "nbformat": 4,
 "nbformat_minor": 2
}
