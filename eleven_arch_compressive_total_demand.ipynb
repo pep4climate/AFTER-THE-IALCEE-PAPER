{
 "cells": [
  {
   "cell_type": "code",
   "execution_count": 12,
   "metadata": {},
   "outputs": [],
   "source": [
    "%store -r compressive_demand_from_arch\n",
    "%store -r compressive_demand_from_spandrel_walls\n",
    "%store -r compressive_demand_from_backfill\n",
    "%store -r compressive_demand_from_parapet"
   ]
  },
  {
   "cell_type": "code",
   "execution_count": 13,
   "metadata": {},
   "outputs": [
    {
     "name": "stdout",
     "output_type": "stream",
     "text": [
      "Variable                                 Type      Data/Info\n",
      "------------------------------------------------------------\n",
      "compressive_demand_from_arch             dict      n=3\n",
      "compressive_demand_from_backfill         dict      n=3\n",
      "compressive_demand_from_parapet          dict      n=3\n",
      "compressive_demand_from_spandrel_walls   dict      n=3\n",
      "os                                       module    <module 'os' from 'c:\\\\Pr<...>\\\\Anaconda3\\\\lib\\\\os.py'>\n",
      "sys                                      module    <module 'sys' (built-in)>\n"
     ]
    }
   ],
   "source": [
    "whos "
   ]
  },
  {
   "cell_type": "code",
   "execution_count": 14,
   "metadata": {},
   "outputs": [
    {
     "name": "stdout",
     "output_type": "stream",
     "text": [
      "Stored variables and their in-db values:\n",
      "arch_capacity_geometry_variables                   -> {'b': 1, 't': 0.5, 'e': 0.08333333333333333}\n",
      "arch_capacity_variables                            -> {'b': 1, 't': 0.5, 'e': 0.08333333333333333}\n",
      "compressive_demand_from_arch                       -> {'H_a': array([-2.54768354, -0.93169964,  1.615697\n",
      "compressive_demand_from_backfill                   -> {'H_a': array([ -3.854436  ,   2.7545849 ,   3.206\n",
      "compressive_demand_from_parapet                    -> {'H_a': array([-0.78745551, -0.15205587, -0.310577\n",
      "compressive_demand_from_spandrel_walls             -> {'H_a': array([-1.16590271,  2.54982987, -0.295311\n",
      "compressive_resistance_realisations                -> 1\n",
      "compressive_resistances                            -> [4.691352777703492, 6.2279668592488475]\n",
      "convergence_simulation_number                      -> 100000\n",
      "masonry_unit_weight_realisations                   -> 1\n",
      "unit_weight_realisations                           -> 1\n",
      "unit_weight_realizations                           -> array([21.64551063, 17.72241548, 22.27457902, ...,\n"
     ]
    }
   ],
   "source": [
    "%store"
   ]
  },
  {
   "cell_type": "code",
   "execution_count": 15,
   "metadata": {},
   "outputs": [],
   "source": [
    "horizontal_string = \"H_a\"\n",
    "arch_compressive_demand_horizontal = compressive_demand_from_arch[horizontal_string] + compressive_demand_from_spandrel_walls[horizontal_string] + compressive_demand_from_backfill[horizontal_string] + compressive_demand_from_parapet[horizontal_string]"
   ]
  },
  {
   "cell_type": "code",
   "execution_count": 16,
   "metadata": {},
   "outputs": [],
   "source": [
    "vertical_string = \"V_a\"\n",
    "arch_compressive_demand_vertical = compressive_demand_from_arch[vertical_string] + compressive_demand_from_spandrel_walls[vertical_string] + compressive_demand_from_backfill[vertical_string] + compressive_demand_from_parapet[vertical_string]"
   ]
  },
  {
   "cell_type": "code",
   "execution_count": 17,
   "metadata": {},
   "outputs": [],
   "source": [
    "thrust_string = \"S_a\"\n",
    "arch_compressive_demand_thrust = compressive_demand_from_arch[thrust_string] + compressive_demand_from_spandrel_walls[thrust_string] + compressive_demand_from_backfill[thrust_string] + compressive_demand_from_parapet[thrust_string]"
   ]
  },
  {
   "cell_type": "code",
   "execution_count": 19,
   "metadata": {},
   "outputs": [
    {
     "data": {
      "text/plain": [
       "array([13.45400772,  9.52826065,  8.58164067, ..., 26.86283553,\n",
       "       24.84149464, 15.18372534])"
      ]
     },
     "execution_count": 19,
     "metadata": {},
     "output_type": "execute_result"
    }
   ],
   "source": [
    "arch_compressive_demand_thrust"
   ]
  },
  {
   "cell_type": "code",
   "execution_count": 20,
   "metadata": {},
   "outputs": [
    {
     "name": "stdout",
     "output_type": "stream",
     "text": [
      "Stored 'arch_compressive_demand_thrust' (ndarray)\n"
     ]
    }
   ],
   "source": [
    "%store arch_compressive_demand_thrust"
   ]
  },
  {
   "cell_type": "code",
   "execution_count": null,
   "metadata": {},
   "outputs": [],
   "source": []
  }
 ],
 "metadata": {
  "kernelspec": {
   "display_name": "base",
   "language": "python",
   "name": "python3"
  },
  "language_info": {
   "codemirror_mode": {
    "name": "ipython",
    "version": 3
   },
   "file_extension": ".py",
   "mimetype": "text/x-python",
   "name": "python",
   "nbconvert_exporter": "python",
   "pygments_lexer": "ipython3",
   "version": "3.9.13 (main, Aug 25 2022, 23:51:50) [MSC v.1916 64 bit (AMD64)]"
  },
  "orig_nbformat": 4,
  "vscode": {
   "interpreter": {
    "hash": "ad2bdc8ecc057115af97d19610ffacc2b4e99fae6737bb82f5d7fb13d2f2c186"
   }
  }
 },
 "nbformat": 4,
 "nbformat_minor": 2
}
