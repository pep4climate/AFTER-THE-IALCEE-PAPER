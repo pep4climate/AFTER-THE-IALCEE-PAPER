{
 "cells": [
  {
   "cell_type": "code",
   "execution_count": null,
   "metadata": {},
   "outputs": [],
   "source": [
    "%run -i six_unit_weight_sampling.ipynb"
   ]
  },
  {
   "cell_type": "code",
   "execution_count": 9,
   "metadata": {},
   "outputs": [
    {
     "name": "stdout",
     "output_type": "stream",
     "text": [
      "3.45 3.95 3.70\n",
      "A_e =  12.254174844408688\n",
      "A_i =  9.348201639838129\n",
      "A =  2.905973204570559\n",
      "xp =  2.36\n",
      "{'H_a': array([40.52707914, 33.18183373, 41.70488939, ..., 40.36429975,\n",
      "       39.12373951, 45.83523817]), 'V_a': array([62.90127388, 51.50086451, 64.72932976, ..., 62.64862724,\n",
      "       60.72317835, 71.13996199]), 'S_a': array([74.82656212, 61.26477891, 77.00119435, ..., 74.52601686,\n",
      "       72.23552715, 84.62720159])}\n",
      "Stored 'compressive_demand_from_arch' (dict)\n"
     ]
    }
   ],
   "source": [
    "%run -i seven_arch_compressive_demand_from_arch.ipynb"
   ]
  },
  {
   "cell_type": "code",
   "execution_count": 10,
   "metadata": {},
   "outputs": [
    {
     "name": "stdout",
     "output_type": "stream",
     "text": [
      "Stored 'compressive_demand_from_backfill' (dict)\n"
     ]
    }
   ],
   "source": [
    "%run -i eight_arch_compressive_demand_from_backfill.ipynb"
   ]
  },
  {
   "cell_type": "code",
   "execution_count": 11,
   "metadata": {},
   "outputs": [
    {
     "name": "stdout",
     "output_type": "stream",
     "text": [
      "x_sw =  3.80\n",
      "xp_sw =  1.00\n",
      "[56.10087926 45.93299314 57.73130001 ... 55.8755468  54.15826241\n",
      " 63.44886473]\n",
      "Stored 'compressive_demand_from_spandrel_walls' (dict)\n"
     ]
    }
   ],
   "source": [
    "%run -i nine_arch_compressive_demand_from_spandrel_walls.ipynb"
   ]
  },
  {
   "cell_type": "code",
   "execution_count": 12,
   "metadata": {},
   "outputs": [
    {
     "name": "stdout",
     "output_type": "stream",
     "text": [
      "Stored 'compressive_demand_from_parapet' (dict)\n"
     ]
    }
   ],
   "source": [
    "%run -i ten_arch_compressive_demand_from_parapets.ipynb"
   ]
  },
  {
   "cell_type": "code",
   "execution_count": 13,
   "metadata": {},
   "outputs": [],
   "source": [
    "%store -r compressive_demand_from_arch\n",
    "%store -r compressive_demand_from_spandrel_walls\n",
    "%store -r compressive_demand_from_backfill\n",
    "%store -r compressive_demand_from_parapet"
   ]
  },
  {
   "cell_type": "code",
   "execution_count": 14,
   "metadata": {},
   "outputs": [
    {
     "name": "stdout",
     "output_type": "stream",
     "text": [
      "Variable                                      Type        Data/Info\n",
      "-------------------------------------------------------------------\n",
      "arch_compressive_demand_from_arch             function    <function arch_compressiv<...>ch at 0x000001CA6BFB11F0>\n",
      "arch_compressive_demand_from_backfill         function    <function arch_compressiv<...>ll at 0x000001CA6BFB1160>\n",
      "arch_compressive_demand_from_parapet          function    <function arch_compressiv<...>et at 0x000001CA6BFB1AF0>\n",
      "arch_compressive_demand_from_spandrel_walls   function    <function arch_compressiv<...>ls at 0x000001CA6BFB1A60>\n",
      "arch_compressive_demand_horizontal            ndarray     100000: 100000 elems, type `float64`, 800000 bytes (781.25 kb)\n",
      "arch_compressive_demand_thrust                ndarray     100000: 100000 elems, type `float64`, 800000 bytes (781.25 kb)\n",
      "arch_compressive_demand_vertical              ndarray     100000: 100000 elems, type `float64`, 800000 bytes (781.25 kb)\n",
      "backfill_unit_weight                          int         19\n",
      "backfill_unit_weight_realisations             ndarray     100000: 100000 elems, type `float64`, 800000 bytes (781.25 kb)\n",
      "compressive_demand_from_arch                  dict        n=3\n",
      "compressive_demand_from_backfill              dict        n=3\n",
      "compressive_demand_from_parapet               dict        n=3\n",
      "compressive_demand_from_spandrel_walls        dict        n=3\n",
      "convergence_simulation_number                 int         100000\n",
      "horizontal_string                             str         H_a\n",
      "masonry_unit_weight_realisations              ndarray     100000: 100000 elems, type `float64`, 800000 bytes (781.25 kb)\n",
      "np                                            module      <module 'numpy' from 'c:\\<...>ges\\\\numpy\\\\__init__.py'>\n",
      "os                                            module      <module 'os' from 'c:\\\\Pr<...>\\\\Anaconda3\\\\lib\\\\os.py'>\n",
      "sys                                           module      <module 'sys' (built-in)>\n",
      "thrust_string                                 str         S_a\n",
      "vertical_string                               str         V_a\n"
     ]
    }
   ],
   "source": [
    "whos "
   ]
  },
  {
   "cell_type": "code",
   "execution_count": 15,
   "metadata": {},
   "outputs": [
    {
     "name": "stdout",
     "output_type": "stream",
     "text": [
      "Stored variables and their in-db values:\n",
      "arch_capacity_geometry_variables                   -> {'b': 1, 't': 0.5, 'e': 0.08333333333333333}\n",
      "arch_compressive_demand_thrust                     -> array([186.53466662, 154.02091804, 190.49105521, .\n",
      "compressive_demand_from_arch                       -> {'H_a': array([40.52707914, 33.18183373, 41.704889\n",
      "compressive_demand_from_backfill                   -> {'H_a': array([-14.251373  , -27.70159403,  13.381\n",
      "compressive_demand_from_parapet                    -> {'H_a': array([11.18458987,  9.15746235, 11.509639\n",
      "compressive_demand_from_spandrel_walls             -> {'H_a': array([56.10087926, 45.93299314, 57.731300\n",
      "compressive_resistance_realisations                -> array([6.07743858, 4.41155859, 6.34456247, ..., 6.\n",
      "compressive_resistances                            -> [4.691352777703492, 6.2279668592488475]\n",
      "condition_factor                                   -> [[0.7200000000000001, 0.7200000000000001, 0.720000\n",
      "convergence_simulation_number                      -> 100000\n",
      "masonry_unit_weight_realisations                   -> array([21.64551063, 17.72241548, 22.27457902, ...,\n",
      "pier_local_scour_depth                             -> [[0.0, 0.2888888888888889, 0.5777777777777778, 0.8\n"
     ]
    }
   ],
   "source": [
    "%store"
   ]
  },
  {
   "cell_type": "code",
   "execution_count": 16,
   "metadata": {},
   "outputs": [],
   "source": [
    "horizontal_string = \"H_a\"\n",
    "arch_compressive_demand_horizontal = compressive_demand_from_arch[horizontal_string] + compressive_demand_from_spandrel_walls[horizontal_string] + compressive_demand_from_backfill[horizontal_string] + compressive_demand_from_parapet[horizontal_string]"
   ]
  },
  {
   "cell_type": "code",
   "execution_count": 17,
   "metadata": {},
   "outputs": [],
   "source": [
    "vertical_string = \"V_a\"\n",
    "arch_compressive_demand_vertical = compressive_demand_from_arch[vertical_string] + compressive_demand_from_spandrel_walls[vertical_string] + compressive_demand_from_backfill[vertical_string] + compressive_demand_from_parapet[vertical_string]"
   ]
  },
  {
   "cell_type": "code",
   "execution_count": 18,
   "metadata": {},
   "outputs": [],
   "source": [
    "thrust_string = \"S_a\"\n",
    "arch_compressive_demand_thrust = compressive_demand_from_arch[thrust_string] + compressive_demand_from_spandrel_walls[thrust_string] + compressive_demand_from_backfill[thrust_string] + compressive_demand_from_parapet[thrust_string]"
   ]
  },
  {
   "cell_type": "code",
   "execution_count": 19,
   "metadata": {},
   "outputs": [
    {
     "data": {
      "text/plain": [
       "array([197.76231563, 184.54847058, 201.6968733 , ..., 192.95080687,\n",
       "       190.72396041, 201.26928201])"
      ]
     },
     "execution_count": 19,
     "metadata": {},
     "output_type": "execute_result"
    }
   ],
   "source": [
    "arch_compressive_demand_thrust"
   ]
  },
  {
   "cell_type": "code",
   "execution_count": 20,
   "metadata": {},
   "outputs": [
    {
     "name": "stdout",
     "output_type": "stream",
     "text": [
      "Stored 'arch_compressive_demand_thrust' (ndarray)\n"
     ]
    }
   ],
   "source": [
    "%store arch_compressive_demand_thrust"
   ]
  },
  {
   "cell_type": "code",
   "execution_count": null,
   "metadata": {},
   "outputs": [],
   "source": []
  }
 ],
 "metadata": {
  "kernelspec": {
   "display_name": "base",
   "language": "python",
   "name": "python3"
  },
  "language_info": {
   "codemirror_mode": {
    "name": "ipython",
    "version": 3
   },
   "file_extension": ".py",
   "mimetype": "text/x-python",
   "name": "python",
   "nbconvert_exporter": "python",
   "pygments_lexer": "ipython3",
   "version": "3.9.13"
  },
  "orig_nbformat": 4,
  "vscode": {
   "interpreter": {
    "hash": "ad2bdc8ecc057115af97d19610ffacc2b4e99fae6737bb82f5d7fb13d2f2c186"
   }
  }
 },
 "nbformat": 4,
 "nbformat_minor": 2
}
