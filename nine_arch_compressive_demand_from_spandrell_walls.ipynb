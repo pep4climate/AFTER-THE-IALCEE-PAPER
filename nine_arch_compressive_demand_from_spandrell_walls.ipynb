{
 "cells": [
  {
   "cell_type": "code",
   "execution_count": 26,
   "metadata": {},
   "outputs": [],
   "source": [
    "%store -r masonry_unit_weight_realisations\n",
    "%store -r convergence_simulation_number"
   ]
  },
  {
   "cell_type": "code",
   "execution_count": 27,
   "metadata": {},
   "outputs": [],
   "source": [
    "import numpy as np"
   ]
  },
  {
   "cell_type": "code",
   "execution_count": 33,
   "metadata": {},
   "outputs": [],
   "source": [
    "spandrel_walls_unit_weight_realisations = np.random.normal(0, 1, convergence_simulation_number)*spandrel_walls_unit_weight"
   ]
  },
  {
   "cell_type": "code",
   "execution_count": 34,
   "metadata": {},
   "outputs": [],
   "source": [
    "compressive_demand_from_spandrel_walls = {}"
   ]
  },
  {
   "cell_type": "code",
   "execution_count": 35,
   "metadata": {},
   "outputs": [],
   "source": [
    "def arch_compressive_demand_from_spandrel_walls(spandrel_walls_unit_weight):\n",
    "\n",
    "    import math\n",
    "    import numpy as np\n",
    "\n",
    "    pi=math.pi\n",
    "\n",
    "    h_sw = 0.6 #m\n",
    "    r_e = 3950/1000 #m\n",
    "    r_i = 3450/1000 #m\n",
    "    H_sw = h_sw + r_e #m\n",
    "    B_p = 1.80 #m\n",
    "    L = 9260/1000 #m -span length\n",
    "    t = 500/1000 #m\n",
    "    b = 1 #m -investigated arch barrel slice-\n",
    "    b_sw = 0.20 #m -spandrel wall's thickness -assumed from Forgacs et al. (2019)\n",
    "\n",
    "    A_sq = (L/2 + B_p/2) * H_sw #the spandrel wall located above the central pier is examined\n",
    "    A_e = (1/4)*(pi * math.pow(r_e, 2))\n",
    "    A_sw = A_sq - A_e\n",
    "\n",
    "    P_sw = spandrel_walls_unit_weight * A_sw * b_sw #kN\n",
    "\n",
    "    x_sq = (L/2 + B_p/2)/2\n",
    "    x_e = 4/(3*pi)*r_e\n",
    "\n",
    "    x_sw = (A_sq * x_sq - A_e * x_e)/A_sw\n",
    "    print('x_sw = ', f'{x_sw:.2f}')\n",
    "\n",
    "    alfa_hinges = 0\n",
    "    xp_sw = (1/2 * L + 1/3 * t * math.cos(alfa_hinges) - x_sw)\n",
    "    print('xp_sw = ', f'{xp_sw:.2f}')\n",
    "\n",
    "    V_a = P_sw #kN\n",
    "    H_c = ((1/2 * L + 1/3 * t * math.cos(alfa_hinges) - xp_sw) * P_sw)/(2/3 * t + r_i - 1/3 * t * math.sin(alfa_hinges)) #kN\n",
    "    print(H_c)\n",
    "    H_a = H_c\n",
    "\n",
    "    S_a = np.sqrt(np.power(H_a,2) + np.power(V_a,2))\n",
    "\n",
    "    compressive_demand_from_spandrel_walls[\"H_a\"]=H_a\n",
    "    compressive_demand_from_spandrel_walls[\"V_a\"]=V_a\n",
    "    compressive_demand_from_spandrel_walls[\"S_a\"]=S_a\n",
    "\n",
    "    %store compressive_demand_from_spandrel_walls\n",
    "\n",
    "    return compressive_demand_from_spandrel_walls\n"
   ]
  },
  {
   "cell_type": "code",
   "execution_count": 36,
   "metadata": {},
   "outputs": [
    {
     "name": "stdout",
     "output_type": "stream",
     "text": [
      "x_sw =  3.80\n",
      "xp_sw =  1.00\n",
      "[-1.16590271  2.54982987 -0.29531109 ... -4.23587286  0.20752727\n",
      "  1.46594563]\n",
      "Stored 'compressive_demand_from_spandrel_walls' (dict)\n"
     ]
    },
    {
     "data": {
      "text/plain": [
       "{'H_a': array([-1.16590271,  2.54982987, -0.29531109, ..., -4.23587286,\n",
       "         0.20752727,  1.46594563]),\n",
       " 'V_a': array([-1.16125267,  2.53966023, -0.29413328, ..., -4.21897868,\n",
       "         0.20669958,  1.46009891]),\n",
       " 'S_a': array([1.64555063, 3.59882014, 0.41680095, ..., 5.97849479, 0.2929032 ,\n",
       "        2.06903007])}"
      ]
     },
     "execution_count": 36,
     "metadata": {},
     "output_type": "execute_result"
    }
   ],
   "source": [
    "arch_compressive_demand_from_spandrel_walls(spandrel_walls_unit_weight_realisations)"
   ]
  },
  {
   "cell_type": "code",
   "execution_count": null,
   "metadata": {},
   "outputs": [],
   "source": []
  }
 ],
 "metadata": {
  "kernelspec": {
   "display_name": "base",
   "language": "python",
   "name": "python3"
  },
  "language_info": {
   "codemirror_mode": {
    "name": "ipython",
    "version": 3
   },
   "file_extension": ".py",
   "mimetype": "text/x-python",
   "name": "python",
   "nbconvert_exporter": "python",
   "pygments_lexer": "ipython3",
   "version": "3.9.13 (main, Aug 25 2022, 23:51:50) [MSC v.1916 64 bit (AMD64)]"
  },
  "orig_nbformat": 4,
  "vscode": {
   "interpreter": {
    "hash": "ad2bdc8ecc057115af97d19610ffacc2b4e99fae6737bb82f5d7fb13d2f2c186"
   }
  }
 },
 "nbformat": 4,
 "nbformat_minor": 2
}
