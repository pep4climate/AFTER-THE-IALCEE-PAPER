{
 "cells": [
  {
   "cell_type": "code",
   "execution_count": 21,
   "metadata": {},
   "outputs": [],
   "source": [
    "# https://levelup.gitconnected.com/how-to-store-variables-in-jupyter-notebook-fea8aa60a9b"
   ]
  },
  {
   "cell_type": "code",
   "execution_count": 1,
   "metadata": {},
   "outputs": [
    {
     "name": "stdout",
     "output_type": "stream",
     "text": [
      "Stored variables and their in-db values:\n",
      "arch_capacity_geometry_variables                -> {'b': 1, 't': 0.5, 'e': 0.08333333333333333}\n",
      "compressive_resistance_realisations             -> array([6.07743858, 4.41155859, 6.34456247, ..., 6.\n",
      "compressive_resistances                         -> [4.691352777703492, 6.2279668592488475]\n",
      "condition_factor                                -> [[0.7200000000000001, 0.7200000000000001, 0.720000\n",
      "convergence_simulation_number                   -> 100000\n",
      "df_arch_compressive_capacity                    ->    scour depth  condition factor           0      \n",
      "pier_local_scour_depth                          -> [[0.0, 0.2888888888888889, 0.5777777777777778, 0.8\n"
     ]
    }
   ],
   "source": [
    "%store"
   ]
  },
  {
   "cell_type": "code",
   "execution_count": 2,
   "metadata": {},
   "outputs": [],
   "source": [
    "# %store -z "
   ]
  },
  {
   "cell_type": "code",
   "execution_count": 24,
   "metadata": {},
   "outputs": [
    {
     "name": "stdout",
     "output_type": "stream",
     "text": [
      "Stored variables and their in-db values:\n"
     ]
    }
   ],
   "source": [
    "# %store"
   ]
  }
 ],
 "metadata": {
  "kernelspec": {
   "display_name": "base",
   "language": "python",
   "name": "python3"
  },
  "language_info": {
   "codemirror_mode": {
    "name": "ipython",
    "version": 3
   },
   "file_extension": ".py",
   "mimetype": "text/x-python",
   "name": "python",
   "nbconvert_exporter": "python",
   "pygments_lexer": "ipython3",
   "version": "3.9.13 (main, Aug 25 2022, 23:51:50) [MSC v.1916 64 bit (AMD64)]"
  },
  "orig_nbformat": 4,
  "vscode": {
   "interpreter": {
    "hash": "ad2bdc8ecc057115af97d19610ffacc2b4e99fae6737bb82f5d7fb13d2f2c186"
   }
  }
 },
 "nbformat": 4,
 "nbformat_minor": 2
}
