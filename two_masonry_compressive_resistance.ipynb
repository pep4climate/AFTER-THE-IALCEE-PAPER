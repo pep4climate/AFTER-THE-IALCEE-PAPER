{
 "cells": [
  {
   "cell_type": "code",
   "execution_count": null,
   "metadata": {},
   "outputs": [],
   "source": [
    "compressive_resistances = []\n",
    "\n",
    "def masonry_compressive_resistance(mean_compressive_unit): #https://notebook.community/evanmiltenburg/python-for-text-analysis/Chapters/Chapter%2011%20-%20Functions%20and%20scope\n",
    "\n",
    "    #mean_compressive_unit = 24 #https://stackoverflow.com/questions/54700726/block-indent-jupyter-notebook#:~:text=In%20JupyterLab%2C%20ctrl%2B%5B%20and,%2B%5D%20work%20for%20indentation%2Fdeindentation.\n",
    "\n",
    "    #Morton (2012). Chapter 3.\n",
    "    K = 0.55 #constant function of mortar and masonry unit -assumed from Morton (2012)-\n",
    "    CF = 1 #conditioning factor -assumed from Morton (2012)-\n",
    "    delta_low = 1.18 #shape factor -assumed from Morton (2012)-\n",
    "    alfa_low = 0.7 #constant function of mortar -assumed from Morton (2012)-\n",
    "    beta_low = 0.3 #constant function of mortar -assumed from Morton (2012)-\n",
    "\n",
    "    import math\n",
    "\n",
    "    #mean_compressive_unit = 24 #MPa -assumed from Como (2013). Chapter 1.\n",
    "    normalised_mean_compressive_unit = CF * delta_low * mean_compressive_unit\n",
    "    compressive_mortar = 4 #MPa -assumed from Morton (2012)-\n",
    "    print('normalised mean compressive unit: ', normalised_mean_compressive_unit)\n",
    "\n",
    "    characteristic_compressive_masonry = K * math.pow(normalised_mean_compressive_unit, alfa_low) * math.pow(compressive_mortar, beta_low)\n",
    "\n",
    "    print('characteristic_compressive_masonry =', round(characteristic_compressive_masonry, 3), ' MPa') #https://www.guru99.com/round-function-python.html\n",
    "    #The characteristic compressive strength of masonry falls between the brick's (aka unit) normalised mean compressive strength and mortar's compressive strength, \n",
    "    #as expected (Como, 2013).\n",
    "\n",
    "    FI_low_side = 0.05 #the characteristic value of resistance is defined on the low side of the pdf\n",
    "\n",
    "    from scipy.stats import norm #https://stackoverflow.com/questions/20626994/how-to-calculate-the-inverse-of-the-normal-cumulative-distribution-function-in-p\n",
    "\n",
    "    #The below description is based on the Normal distribution (see see Melchers and Beck (2018). Paragraph 1.4.4)\n",
    "    k_low_side = -norm.ppf(FI_low_side) #dimensionless\n",
    "    print('k =',round(k_low_side, 3))\n",
    "\n",
    "    compressive_resistance_cov = 0.15 #dimensionless -from Eidsvig et al. (2021)\n",
    "    mean_compressive_masonry = characteristic_compressive_masonry/(1 - k_low_side*compressive_resistance_cov) #-see Melchers and Beck (2018). Chapter 1.-\n",
    "    #https://www.learndatasci.com/solutions/python-absolute-value/#:~:text=The%20absolute%20value%20of%20a,value%20of%20%2D5%20is%205.\n",
    "    print('mean_compressive_masonry =', round(mean_compressive_masonry, 3), ' MPa') \n",
    "\n",
    "    compressive_resistances.append(characteristic_compressive_masonry)\n",
    "    compressive_resistances.append(mean_compressive_masonry)\n",
    "\n",
    "    #https://stackoverflow.com/questions/31621414/share-data-between-ipython-notebooks\n",
    "\n",
    "    %store compressive_resistances\n",
    "\n",
    "    return compressive_resistances"
   ]
  },
  {
   "cell_type": "code",
   "execution_count": null,
   "metadata": {},
   "outputs": [],
   "source": [
    "mean_compressive_unit = 10\n",
    "masonry_compressive_resistance(mean_compressive_unit)"
   ]
  }
 ],
 "metadata": {
  "kernelspec": {
   "display_name": "base",
   "language": "python",
   "name": "python3"
  },
  "language_info": {
   "codemirror_mode": {
    "name": "ipython",
    "version": 3
   },
   "file_extension": ".py",
   "mimetype": "text/x-python",
   "name": "python",
   "nbconvert_exporter": "python",
   "pygments_lexer": "ipython3",
   "version": "3.9.13"
  },
  "orig_nbformat": 4,
  "vscode": {
   "interpreter": {
    "hash": "ad2bdc8ecc057115af97d19610ffacc2b4e99fae6737bb82f5d7fb13d2f2c186"
   }
  }
 },
 "nbformat": 4,
 "nbformat_minor": 2
}
